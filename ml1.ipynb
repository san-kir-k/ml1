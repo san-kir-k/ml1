{
  "nbformat": 4,
  "nbformat_minor": 0,
  "metadata": {
    "colab": {
      "name": "ml1.ipynb",
      "provenance": [],
      "collapsed_sections": [
        "yHNU64Yumgmv",
        "iQyHJxBqm7QU",
        "C9cB4PD4nNs0",
        "5lUdvTsMGICw",
        "7GUmqaagNwLx",
        "eHy7zPyaN6Ow",
        "yQuJcg3DGS_Y",
        "IVhZ_zbgODlR",
        "eqGky_jYVh60",
        "r-RnTgtgic18",
        "p1q37HofSl_g",
        "R7U_PihdZIvt",
        "Rww8-3v3a55X",
        "G9tb-KIPa86v",
        "Zc33kZ7YbAQe"
      ]
    },
    "kernelspec": {
      "name": "python3",
      "display_name": "Python 3"
    },
    "language_info": {
      "name": "python"
    }
  },
  "cells": [
    {
      "cell_type": "markdown",
      "source": [
        "Киреев А.К.,группа М8О-306Б-19"
      ],
      "metadata": {
        "id": "MhGqNuH8FTqs"
      }
    },
    {
      "cell_type": "markdown",
      "source": [
        "## ТЗ\n",
        "Формально говоря вам предстоит сделать следующее:\n",
        "\n",
        "1) реализовать следующие алгоритмы машинного обучения: Linear/ Logistic Regression, SVM, KNN, Naive Bayes в отдельных классах \n",
        "\n",
        "2)  Данные классы должны наследоваться от BaseEstimator и  ClassifierMixin, иметь методы fit и predict (подробнее: https://scikit-learn.org/stable/developers/develop.html )\n",
        "\n",
        "3) Вы должны организовать весь процесс предобработки, обучения и тестирования с помощью Pipeline (подробнее: https://scikit-learn.org/stable/modules/compose.html)\n",
        "\n",
        "4) Вы должны настроить гиперпараметры моделей с помощью кросс валидации (GridSearchCV,RandomSearchCV, подробнее здесь: https://scikit-learn.org/stable/modules/grid_search.html), вывести и сохранить эти гиперпараметры в файл, вместе с обученными моделями\n",
        "\n",
        "5) Проделать аналогично с коробочными решениями\n",
        "\n",
        "6) Для каждой модели получить оценки метрик:Confusion Matrix,  Accuracy, Recall, Precision, ROC_AUC curve (подробнее: Hands on machine learning with python and scikit learn chapter 3, mlcourse.ai, https://ml-handbook.ru/chapters/model_evaluation/intro)\n",
        "\n",
        "7) Проанализировать полученные результаты и сделать выводы о применимости моделей\n",
        "\n",
        "8) Загрузить полученные гиперпараметры модели и обученные модели в формате pickle  на гит вместе с jupyter notebook ваших экспериментов"
      ],
      "metadata": {
        "id": "bCHjWK2FmVKa"
      }
    },
    {
      "cell_type": "markdown",
      "source": [
        "# Информация о датасете и некоторые мысли из прошлой ЛР. "
      ],
      "metadata": {
        "id": "yHNU64Yumgmv"
      }
    },
    {
      "cell_type": "markdown",
      "source": [
        "Я решил взять какой-нибудь хороший и простой для понимания датасет с kaggle для задачи классификации. Мой выбор пал на датасет для сердечных заболеваний. (https://www.kaggle.com/datasets/fedesoriano/heart-failure-prediction) \n",
        "\n",
        "В данной задаче нужно будет предсказывать, есть ли у человека проблемы с сердцем (сердечная недостаточность) или нет, т.е. задача бинарной классификации."
      ],
      "metadata": {
        "id": "neCVMTHimuS1"
      }
    },
    {
      "cell_type": "markdown",
      "source": [
        "Вот информация о признаках из данного датасета, взята из kaggle.\n",
        "\n",
        "Attribute Information\n",
        "\n",
        "Age: age of the patient [years]\n",
        "\n",
        "Sex: sex of the patient [M: Male, F: Female]\n",
        "\n",
        "ChestPainType: chest pain type [TA: Typical Angina, ATA: Atypical Angina, NAP: Non-Anginal Pain, ASY: Asymptomatic]\n",
        "\n",
        "RestingBP: resting blood pressure [mm Hg]\n",
        "\n",
        "Cholesterol: serum cholesterol [mm/dl]\n",
        "\n",
        "FastingBS: fasting blood sugar [1: if FastingBS > 120 mg/dl, 0: otherwise]\n",
        "\n",
        "RestingECG: resting electrocardiogram results [Normal: Normal, ST: having ST-T wave abnormality (T wave inversions and/or ST elevation or depression of > 0.05 mV), LVH: showing probable or definite left ventricular hypertrophy by Estes' criteria]\n",
        "\n",
        "MaxHR: maximum heart rate achieved [Numeric value between 60 and 202]\n",
        "\n",
        "ExerciseAngina: exercise-induced angina [Y: Yes, N: No]\n",
        "\n",
        "Oldpeak: oldpeak = ST [Numeric value measured in depression]\n",
        "\n",
        "ST_Slope: the slope of the peak exercise ST segment [Up: upsloping, Flat: flat, Down: downsloping]\n",
        "\n",
        "HeartDisease: output class [1: heart disease, 0: Normal]"
      ],
      "metadata": {
        "id": "Xj8AvoSsmyV9"
      }
    },
    {
      "cell_type": "markdown",
      "source": [
        "**Что нужно сделать с данными (из прошлой ЛР):**\n",
        "\n",
        "1) Сделать FastingBS категориальной\n",
        "\n",
        "2) Все категориальные фичи прогнать через OneHotEncoder.\n",
        "\n",
        "3) В пайплане для модели можно применить нормализацию числовых признаков, а также как-то уменьшить смещение Cholesterol и Oldpeak.\n",
        "\n",
        "4) Невалидных данных и NaN'ов в датасете не было.\n",
        "\n",
        "5) Таргет-признак сбалансирован, тут тоже ничего делать не надо. (хотя в процессе обучения можно поиграться с границей, начиная с которой считать человека больным, чтобы случайно не пропустить больного человека)\n",
        "\n",
        "6) Каких-то серьезных корреляций также замечено не было, так что уменьшить число признаков тут скорее всего не получится."
      ],
      "metadata": {
        "id": "iQyHJxBqm7QU"
      }
    },
    {
      "cell_type": "markdown",
      "source": [
        "# Загрузка датасета и его подготовка"
      ],
      "metadata": {
        "id": "C9cB4PD4nNs0"
      }
    },
    {
      "cell_type": "code",
      "source": [
        "import pandas as pd\n",
        "import numpy as np\n",
        "from matplotlib import pyplot as plt\n",
        "import seaborn as sns\n",
        "from sklearn.model_selection import train_test_split"
      ],
      "metadata": {
        "id": "Qugl10SPnU39"
      },
      "execution_count": 229,
      "outputs": []
    },
    {
      "cell_type": "code",
      "source": [
        "from google.colab import drive\n",
        "drive.mount('/content/gdrive/')"
      ],
      "metadata": {
        "colab": {
          "base_uri": "https://localhost:8080/"
        },
        "id": "0Ki6adr4nZde",
        "outputId": "92096cd5-aa69-4705-b4bb-063636212bd9"
      },
      "execution_count": 230,
      "outputs": [
        {
          "output_type": "stream",
          "name": "stdout",
          "text": [
            "Drive already mounted at /content/gdrive/; to attempt to forcibly remount, call drive.mount(\"/content/gdrive/\", force_remount=True).\n"
          ]
        }
      ]
    },
    {
      "cell_type": "code",
      "source": [
        "data = pd.read_csv('gdrive/MyDrive/archive/heart.csv')"
      ],
      "metadata": {
        "id": "YjA-t-FAnbpV"
      },
      "execution_count": 231,
      "outputs": []
    },
    {
      "cell_type": "code",
      "source": [
        "# Числовые признаки\n",
        "num_cols = [\n",
        "    'Age',\n",
        "    'RestingBP',\n",
        "    'Cholesterol',\n",
        "    'MaxHR',\n",
        "    'Oldpeak'\n",
        "]\n",
        "\n",
        "to_skew_num_cols = [\n",
        "    'Cholesterol',\n",
        "    'Oldpeak'\n",
        "]\n",
        "\n",
        "to_std_num_cols = [\n",
        "    'Age',\n",
        "    'RestingBP',\n",
        "    'MaxHR'\n",
        "]\n",
        "\n",
        "# Категориальные признаки\n",
        "cat_cols = [\n",
        "    'Sex',\n",
        "    'ChestPainType',\n",
        "    'FastingBS',\n",
        "    'RestingECG',\n",
        "    'ExerciseAngina',\n",
        "    'ST_Slope'\n",
        "]\n",
        "\n",
        "feature_cols = num_cols + cat_cols\n",
        "target_col = 'HeartDisease'"
      ],
      "metadata": {
        "id": "H3cFZAa1ne8B"
      },
      "execution_count": 232,
      "outputs": []
    },
    {
      "cell_type": "markdown",
      "source": [
        "\"1) Сделать FastingBS категориальной\""
      ],
      "metadata": {
        "id": "rif_rnFZo6rZ"
      }
    },
    {
      "cell_type": "code",
      "source": [
        "data[\"FastingBS\"] = data[\"FastingBS\"].astype('object')"
      ],
      "metadata": {
        "id": "nH-WnEEbnifZ"
      },
      "execution_count": 233,
      "outputs": []
    },
    {
      "cell_type": "markdown",
      "source": [
        "Так как у меня один файл с данными, то я его разделю на тестовую и тренировочную, а тренировочную буду разделять при помощи кросс-валидации (если не забуду)."
      ],
      "metadata": {
        "id": "-ghfuDSNoHu1"
      }
    },
    {
      "cell_type": "code",
      "source": [
        "X = data.drop(columns=[target_col])\n",
        "y = data[target_col]\n",
        "\n",
        "data_train, data_test, target_train, target_test = train_test_split(X, y, train_size=0.8, random_state=42)"
      ],
      "metadata": {
        "id": "vl8GBkzXn6Tt"
      },
      "execution_count": 234,
      "outputs": []
    },
    {
      "cell_type": "markdown",
      "source": [
        "# Реализация Linear/ Logistic Regression, SVM, KNN, Naive Bayes в отдельных классах. Использование классов из sklearn. Их сравнение"
      ],
      "metadata": {
        "id": "vCi6jKKEo_NG"
      }
    },
    {
      "cell_type": "markdown",
      "source": [
        "## Logistic Regression"
      ],
      "metadata": {
        "id": "5lUdvTsMGICw"
      }
    },
    {
      "cell_type": "markdown",
      "source": [
        "### Мой класс Logistic Regression"
      ],
      "metadata": {
        "id": "7GUmqaagNwLx"
      }
    },
    {
      "cell_type": "markdown",
      "source": [
        "Импортируем некоторые полезные вещи."
      ],
      "metadata": {
        "id": "JeIv_35oyaeg"
      }
    },
    {
      "cell_type": "code",
      "source": [
        "from sklearn.base import BaseEstimator, ClassifierMixin, TransformerMixin\n",
        "from sklearn.utils.validation import check_X_y, check_array, check_is_fitted\n",
        "from sklearn.utils.multiclass import unique_labels\n",
        "from sklearn.preprocessing import StandardScaler, PowerTransformer, LabelEncoder, OneHotEncoder\n",
        "from sklearn.pipeline import make_pipeline\n",
        "from sklearn.model_selection import GridSearchCV, cross_val_score\n",
        "from sklearn.linear_model import LogisticRegression, LogisticRegressionCV\n",
        "from sklearn.metrics import accuracy_score, recall_score, precision_score\n",
        "from sklearn.metrics import roc_auc_score, roc_curve, plot_confusion_matrix\n",
        "from sklearn.compose import ColumnTransformer\n",
        "import pickle"
      ],
      "metadata": {
        "id": "ZlU-EOpppxzv"
      },
      "execution_count": 235,
      "outputs": []
    },
    {
      "cell_type": "markdown",
      "source": [
        "Чтобы убрать ошибку \"TypeError: A sparse matrix was passed, but dense data is required.\", пришлось написать(взять со стека) класс ниже."
      ],
      "metadata": {
        "id": "C2pEKf2Cyvuq"
      }
    },
    {
      "cell_type": "code",
      "source": [
        "class DenseTransformer(TransformerMixin):\n",
        "    def fit(self, X, y=None, **fit_params):\n",
        "        return self\n",
        "\n",
        "    def transform(self, X, y=None, **fit_params):\n",
        "        return X.toarray()"
      ],
      "metadata": {
        "id": "71SfpjwcInxN"
      },
      "execution_count": 236,
      "outputs": []
    },
    {
      "cell_type": "markdown",
      "source": [
        "Класс логистической регрессии."
      ],
      "metadata": {
        "id": "VIhtHvVEyfJs"
      }
    },
    {
      "cell_type": "code",
      "source": [
        "class MyLogisticRegression(BaseEstimator, ClassifierMixin):\n",
        "    \"\"\"\n",
        "    lr - learning rate\n",
        "    C - обратный коэф регуляризации (чем меньше C, тем больше штраф)\n",
        "    bound - граница, начиная с которой объект относится к первому классу\n",
        "    max_iter - число эпох\n",
        "    \"\"\"\n",
        "    def __init__(self,  \n",
        "                 lr: float = 1e-2, \n",
        "                 C: float = 1.0,\n",
        "                 batch_size: int = 32, \n",
        "                 bound: float = 0.5,\n",
        "                 max_iter: int = 100):\n",
        "        self.lr = lr\n",
        "        self.C = C\n",
        "        self.batch_size = batch_size\n",
        "        self.bound = bound\n",
        "        self.max_iter = max_iter\n",
        "\n",
        "    @staticmethod\n",
        "    def sigmoid(v: np.ndarray):\n",
        "        return 1.0 / (1.0 + np.exp(-v))\n",
        "\n",
        "    def fit(self, X, y):\n",
        "         X, y = check_X_y(X, y)\n",
        "         self.X_ = X\n",
        "         self.y_ = y\n",
        "\n",
        "         w = np.random.normal(size=(self.X_.shape[1], ))\n",
        "         b = 0.0\n",
        "\n",
        "         for i in range(self.max_iter):\n",
        "             for batch_start in range(0, len(self.X_), self.batch_size):\n",
        "                 batch_end = batch_start + self.batch_size\n",
        "                 batch_X = self.X_[batch_start:batch_end]\n",
        "                 batch_y = self.y_[batch_start:batch_end]\n",
        "                 sigmoid_val = MyLogisticRegression.sigmoid(batch_X @ w + b)\n",
        "                 w -= (self.lr * batch_X.T @ (sigmoid_val - batch_y) + w / self.C) / self.batch_size\n",
        "                 b -= self.lr * np.sum(sigmoid_val - batch_y) / self.batch_size\n",
        "\n",
        "         self.w = w\n",
        "         self.b = b\n",
        "         return self\n",
        "\n",
        "    def decision_function(self, X):\n",
        "        check_is_fitted(self)\n",
        "        X = check_array(X)\n",
        "        return X @ self.w + self.b\n",
        "\n",
        "    def predict_proba(self, X):\n",
        "        check_is_fitted(self)\n",
        "        X = check_array(X)\n",
        "        return MyLogisticRegression.sigmoid(X @ self.w + self.b)\n",
        "\n",
        "    def predict(self, X):\n",
        "         check_is_fitted(self)\n",
        "         X = check_array(X)\n",
        "         sigmoid_val = self.predict_proba(X)\n",
        "         return np.where(sigmoid_val > self.bound, 1, 0 )"
      ],
      "metadata": {
        "id": "zCx-vMpOqHig"
      },
      "execution_count": 237,
      "outputs": []
    },
    {
      "cell_type": "markdown",
      "source": [
        "Создадим pipe и при помощи GridSearchCV зададим перебор гиперпараметров по сетке."
      ],
      "metadata": {
        "id": "Hrqt-GUWzWC7"
      }
    },
    {
      "cell_type": "code",
      "source": [
        "cv_num = 5\n",
        "logreg_prefix = 'mylogisticregression__'\n",
        "\n",
        "encoder = prep_pipeline = ColumnTransformer([\n",
        "        ('skew_num', PowerTransformer(standardize=True), to_skew_num_cols),\n",
        "        ('std_num', StandardScaler(), to_std_num_cols),\n",
        "        ('cat', OneHotEncoder(sparse=False, handle_unknown=\"ignore\"), cat_cols)\n",
        "])\n",
        "pipe = make_pipeline(\n",
        "    encoder,\n",
        "    MyLogisticRegression()\n",
        ")\n",
        "\n",
        "param_grid = {\n",
        "    logreg_prefix + \"lr\": [1e-04, 1e-03, 1e-02],\n",
        "    logreg_prefix + \"batch_size\": [32, 64],\n",
        "    logreg_prefix + \"C\": [1e-1, 1.0, 10.0]\n",
        "}\n",
        "CV_model = GridSearchCV(estimator=pipe,\n",
        "                        param_grid=param_grid,\n",
        "                        cv=cv_num,\n",
        "                        scoring=\"roc_auc\",\n",
        "                        verbose=0,\n",
        "                        refit=True)"
      ],
      "metadata": {
        "id": "h1dJ1efair-Y"
      },
      "execution_count": 238,
      "outputs": []
    },
    {
      "cell_type": "code",
      "source": [
        "CV_model.fit(data_train, target_train)"
      ],
      "metadata": {
        "colab": {
          "base_uri": "https://localhost:8080/"
        },
        "id": "7Q3KNbESkmmt",
        "outputId": "524fcbc2-b47a-4662-ad70-473feefe4a47"
      },
      "execution_count": 239,
      "outputs": [
        {
          "output_type": "execute_result",
          "data": {
            "text/plain": [
              "GridSearchCV(cv=5,\n",
              "             estimator=Pipeline(steps=[('columntransformer',\n",
              "                                        ColumnTransformer(transformers=[('skew_num',\n",
              "                                                                         PowerTransformer(),\n",
              "                                                                         ['Cholesterol',\n",
              "                                                                          'Oldpeak']),\n",
              "                                                                        ('std_num',\n",
              "                                                                         StandardScaler(),\n",
              "                                                                         ['Age',\n",
              "                                                                          'RestingBP',\n",
              "                                                                          'MaxHR']),\n",
              "                                                                        ('cat',\n",
              "                                                                         OneHotEncoder(handle_unknown='ignore',\n",
              "                                                                                       sparse=False),\n",
              "                                                                         ['Sex',\n",
              "                                                                          'ChestPainType',\n",
              "                                                                          'FastingBS',\n",
              "                                                                          'RestingECG',\n",
              "                                                                          'ExerciseAngina',\n",
              "                                                                          'ST_Slope'])])),\n",
              "                                       ('mylogisticregression',\n",
              "                                        MyLogisticRegression())]),\n",
              "             param_grid={'mylogisticregression__C': [0.1, 1.0, 10.0],\n",
              "                         'mylogisticregression__batch_size': [32, 64],\n",
              "                         'mylogisticregression__lr': [0.0001, 0.001, 0.01]},\n",
              "             scoring='roc_auc')"
            ]
          },
          "metadata": {},
          "execution_count": 239
        }
      ]
    },
    {
      "cell_type": "markdown",
      "source": [
        "Посмотрим на лучшие параметры."
      ],
      "metadata": {
        "id": "7alKCrgQzvbD"
      }
    },
    {
      "cell_type": "code",
      "source": [
        "CV_model.best_params_"
      ],
      "metadata": {
        "colab": {
          "base_uri": "https://localhost:8080/"
        },
        "id": "QxPctT9tnZd3",
        "outputId": "cbb57c5a-2e59-49a8-c4d2-096d9b8d5ce5"
      },
      "execution_count": 240,
      "outputs": [
        {
          "output_type": "execute_result",
          "data": {
            "text/plain": [
              "{'mylogisticregression__C': 10.0,\n",
              " 'mylogisticregression__batch_size': 32,\n",
              " 'mylogisticregression__lr': 0.01}"
            ]
          },
          "metadata": {},
          "execution_count": 240
        }
      ]
    },
    {
      "cell_type": "markdown",
      "source": [
        "Посмотрим на метрики."
      ],
      "metadata": {
        "id": "neDTdpW2z0i8"
      }
    },
    {
      "cell_type": "code",
      "source": [
        "plot_confusion_matrix(CV_model, data_train, target_train) "
      ],
      "metadata": {
        "colab": {
          "base_uri": "https://localhost:8080/",
          "height": 350
        },
        "id": "i2Woe3zq1TYd",
        "outputId": "a322369e-e68c-45c6-db55-ec77e6ff8919"
      },
      "execution_count": 241,
      "outputs": [
        {
          "output_type": "stream",
          "name": "stderr",
          "text": [
            "/usr/local/lib/python3.7/dist-packages/sklearn/utils/deprecation.py:87: FutureWarning: Function plot_confusion_matrix is deprecated; Function `plot_confusion_matrix` is deprecated in 1.0 and will be removed in 1.2. Use one of the class methods: ConfusionMatrixDisplay.from_predictions or ConfusionMatrixDisplay.from_estimator.\n",
            "  warnings.warn(msg, category=FutureWarning)\n"
          ]
        },
        {
          "output_type": "execute_result",
          "data": {
            "text/plain": [
              "<sklearn.metrics._plot.confusion_matrix.ConfusionMatrixDisplay at 0x7fb31a638250>"
            ]
          },
          "metadata": {},
          "execution_count": 241
        },
        {
          "output_type": "display_data",
          "data": {
            "text/plain": [
              "<Figure size 432x288 with 2 Axes>"
            ],
            "image/png": "[encoded data removed]"
          },
          "metadata": {
            "needs_background": "light"
          }
        }
      ]
    },
    {
      "cell_type": "code",
      "source": [
        "plot_confusion_matrix(CV_model, data_test, target_test) "
      ],
      "metadata": {
        "colab": {
          "base_uri": "https://localhost:8080/",
          "height": 350
        },
        "id": "iUm15q5A1Dpo",
        "outputId": "4e8ad56d-18f3-4289-ab2d-cd2e69b86508"
      },
      "execution_count": 242,
      "outputs": [
        {
          "output_type": "stream",
          "name": "stderr",
          "text": [
            "/usr/local/lib/python3.7/dist-packages/sklearn/utils/deprecation.py:87: FutureWarning: Function plot_confusion_matrix is deprecated; Function `plot_confusion_matrix` is deprecated in 1.0 and will be removed in 1.2. Use one of the class methods: ConfusionMatrixDisplay.from_predictions or ConfusionMatrixDisplay.from_estimator.\n",
            "  warnings.warn(msg, category=FutureWarning)\n"
          ]
        },
        {
          "output_type": "execute_result",
          "data": {
            "text/plain": [
              "<sklearn.metrics._plot.confusion_matrix.ConfusionMatrixDisplay at 0x7fb31a592ed0>"
            ]
          },
          "metadata": {},
          "execution_count": 242
        },
        {
          "output_type": "display_data",
          "data": {
            "text/plain": [
              "<Figure size 432x288 with 2 Axes>"
            ],
            "image/png": "[encoded data removed]"
          },
          "metadata": {
            "needs_background": "light"
          }
        }
      ]
    },
    {
      "cell_type": "code",
      "source": [
        "recall_score(target_test, CV_model.predict(data_test))"
      ],
      "metadata": {
        "colab": {
          "base_uri": "https://localhost:8080/"
        },
        "id": "aLcl4t9V13d9",
        "outputId": "be6d0d98-8c32-4268-b0f8-6c2d22d89fa3"
      },
      "execution_count": 243,
      "outputs": [
        {
          "output_type": "execute_result",
          "data": {
            "text/plain": [
              "0.8317757009345794"
            ]
          },
          "metadata": {},
          "execution_count": 243
        }
      ]
    },
    {
      "cell_type": "code",
      "source": [
        "recall_score(target_train, CV_model.predict(data_train))"
      ],
      "metadata": {
        "colab": {
          "base_uri": "https://localhost:8080/"
        },
        "id": "S1KCTtdD1cpM",
        "outputId": "620aede2-56ae-4775-f7eb-27c6ee5bd36e"
      },
      "execution_count": 244,
      "outputs": [
        {
          "output_type": "execute_result",
          "data": {
            "text/plain": [
              "0.8703241895261845"
            ]
          },
          "metadata": {},
          "execution_count": 244
        }
      ]
    },
    {
      "cell_type": "code",
      "source": [
        "precision_score(target_test, CV_model.predict(data_test))"
      ],
      "metadata": {
        "colab": {
          "base_uri": "https://localhost:8080/"
        },
        "id": "xZSdpsVH2DkP",
        "outputId": "a1c523e6-7eac-4abe-a5a8-f2505806057e"
      },
      "execution_count": 245,
      "outputs": [
        {
          "output_type": "execute_result",
          "data": {
            "text/plain": [
              "0.8811881188118812"
            ]
          },
          "metadata": {},
          "execution_count": 245
        }
      ]
    },
    {
      "cell_type": "code",
      "source": [
        "precision_score(target_train, CV_model.predict(data_train))"
      ],
      "metadata": {
        "colab": {
          "base_uri": "https://localhost:8080/"
        },
        "id": "KAoN7M9V2Jbw",
        "outputId": "7f19a036-f4f7-47cc-e398-da1648f99d6c"
      },
      "execution_count": 246,
      "outputs": [
        {
          "output_type": "execute_result",
          "data": {
            "text/plain": [
              "0.8553921568627451"
            ]
          },
          "metadata": {},
          "execution_count": 246
        }
      ]
    },
    {
      "cell_type": "markdown",
      "source": [
        "Из метрик видно, что модель имеет precision хуже, чем recall, но так как мы пытаемся предсказывать наличие болезни, то recall в нашем слуачае более важен. (как мера того, сколько больных людей мы нащли из всего числа больных)"
      ],
      "metadata": {
        "id": "9pZPWne-39OM"
      }
    },
    {
      "cell_type": "code",
      "source": [
        "accuracy_score(target_test, CV_model.predict(data_test))"
      ],
      "metadata": {
        "colab": {
          "base_uri": "https://localhost:8080/"
        },
        "id": "2YmyHWY232wK",
        "outputId": "7f676e94-d9a0-4450-b0f0-ed180e34ca8c"
      },
      "execution_count": 247,
      "outputs": [
        {
          "output_type": "execute_result",
          "data": {
            "text/plain": [
              "0.8369565217391305"
            ]
          },
          "metadata": {},
          "execution_count": 247
        }
      ]
    },
    {
      "cell_type": "code",
      "source": [
        "accuracy_score(target_train, CV_model.predict(data_train))"
      ],
      "metadata": {
        "colab": {
          "base_uri": "https://localhost:8080/"
        },
        "id": "JEgM9Lyq35Yc",
        "outputId": "fcc0404f-6cb6-49ac-93c5-3dd7efd1bcf1"
      },
      "execution_count": 248,
      "outputs": [
        {
          "output_type": "execute_result",
          "data": {
            "text/plain": [
              "0.8487738419618529"
            ]
          },
          "metadata": {},
          "execution_count": 248
        }
      ]
    },
    {
      "cell_type": "code",
      "source": [
        "target_train_predicted = CV_model.predict_proba(data_train)\n",
        "target_test_predicted = CV_model.predict_proba(data_test)\n",
        "\n",
        "train_auc = roc_auc_score(target_train, target_train_predicted)\n",
        "test_auc = roc_auc_score(target_test, target_test_predicted)\n",
        "\n",
        "plt.figure(figsize=(20,10))\n",
        "plt.plot(*roc_curve(target_train, target_train_predicted)[:2], label='train AUC={:.4f}'.format(train_auc))\n",
        "plt.plot(*roc_curve(target_test, target_test_predicted)[:2], label='test AUC={:.4f}'.format(test_auc))\n",
        "legend_box = plt.legend(fontsize='large', framealpha=1).get_frame()\n",
        "legend_box.set_facecolor(\"white\")\n",
        "legend_box.set_edgecolor(\"black\")\n",
        "plt.plot(np.linspace(0,1,100), np.linspace(0,1,100))\n",
        "plt.show()"
      ],
      "metadata": {
        "colab": {
          "base_uri": "https://localhost:8080/",
          "height": 589
        },
        "id": "oYFh9zvWwnMV",
        "outputId": "d273e52d-a8fa-4e50-9aa6-f4e1933f1e78"
      },
      "execution_count": 249,
      "outputs": [
        {
          "output_type": "display_data",
          "data": {
            "text/plain": [
              "<Figure size 1440x720 with 1 Axes>"
            ],
            "image/png": "[encoded data removed]"
          },
          "metadata": {
            "needs_background": "light"
          }
        }
      ]
    },
    {
      "cell_type": "markdown",
      "source": [
        "Как видно из метрик переобучения нет."
      ],
      "metadata": {
        "id": "7d7RaHXfz5Kx"
      }
    },
    {
      "cell_type": "markdown",
      "source": [
        "Сохраним модель."
      ],
      "metadata": {
        "id": "QuG9UumD9hNe"
      }
    },
    {
      "cell_type": "code",
      "source": [
        "with open('my_logreg.pkl', 'wb') as f:\n",
        "    pickle.dump(CV_model.best_estimator_, f)"
      ],
      "metadata": {
        "id": "3CBOZ_-R75Jr"
      },
      "execution_count": 250,
      "outputs": []
    },
    {
      "cell_type": "markdown",
      "source": [
        "### Класс Logistic Regression из коробки"
      ],
      "metadata": {
        "id": "eHy7zPyaN6Ow"
      }
    },
    {
      "cell_type": "markdown",
      "source": [
        "Повторим то же самое для логистической модели из коробки."
      ],
      "metadata": {
        "id": "p2KyOOaX7GIB"
      }
    },
    {
      "cell_type": "code",
      "source": [
        "cv_num = 5\n",
        "\n",
        "encoder = prep_pipeline = ColumnTransformer([\n",
        "        ('skew_num', PowerTransformer(standardize=True), to_skew_num_cols),\n",
        "        ('std_num', StandardScaler(), to_std_num_cols),\n",
        "        ('cat', OneHotEncoder(sparse=False, handle_unknown=\"ignore\"), cat_cols)\n",
        "])\n",
        "pipe = make_pipeline(\n",
        "    encoder,\n",
        "    LogisticRegression()\n",
        ")\n",
        "\n",
        "param_grid = {\n",
        "    \"logisticregression__penalty\": [\"l2\"],\n",
        "    \"logisticregression__C\": [1e-1, 1.0, 10.0],\n",
        "    \"logisticregression__solver\": [\"lbfgs\", \"newton-cg\", \"sag\"],\n",
        "    \"logisticregression__max_iter\": [100, 300],\n",
        "    \"logisticregression__tol\": [1e-2, 1e-3]\n",
        "}\n",
        "CV_model = GridSearchCV(estimator=pipe,\n",
        "                        param_grid=param_grid,\n",
        "                        cv=cv_num,\n",
        "                        scoring=\"roc_auc\",\n",
        "                        verbose=0,\n",
        "                        refit=True)"
      ],
      "metadata": {
        "id": "oMCOmNkIGdBU"
      },
      "execution_count": 251,
      "outputs": []
    },
    {
      "cell_type": "code",
      "source": [
        "CV_model.fit(data_train, target_train)"
      ],
      "metadata": {
        "colab": {
          "base_uri": "https://localhost:8080/"
        },
        "id": "BMK-UuM1H8MB",
        "outputId": "16da86a2-f7e0-45e0-ea99-8653cd8150f5"
      },
      "execution_count": 252,
      "outputs": [
        {
          "output_type": "execute_result",
          "data": {
            "text/plain": [
              "GridSearchCV(cv=5,\n",
              "             estimator=Pipeline(steps=[('columntransformer',\n",
              "                                        ColumnTransformer(transformers=[('skew_num',\n",
              "                                                                         PowerTransformer(),\n",
              "                                                                         ['Cholesterol',\n",
              "                                                                          'Oldpeak']),\n",
              "                                                                        ('std_num',\n",
              "                                                                         StandardScaler(),\n",
              "                                                                         ['Age',\n",
              "                                                                          'RestingBP',\n",
              "                                                                          'MaxHR']),\n",
              "                                                                        ('cat',\n",
              "                                                                         OneHotEncoder(handle_unknown='ignore',\n",
              "                                                                                       sparse=False),\n",
              "                                                                         ['Sex',\n",
              "                                                                          'ChestPainType',\n",
              "                                                                          'FastingBS',\n",
              "                                                                          'RestingECG',\n",
              "                                                                          'ExerciseAngina',\n",
              "                                                                          'ST_Slope'])])),\n",
              "                                       ('logisticregression',\n",
              "                                        LogisticRegression())]),\n",
              "             param_grid={'logisticregression__C': [0.1, 1.0, 10.0],\n",
              "                         'logisticregression__max_iter': [100, 300],\n",
              "                         'logisticregression__penalty': ['l2'],\n",
              "                         'logisticregression__solver': ['lbfgs', 'newton-cg',\n",
              "                                                        'sag'],\n",
              "                         'logisticregression__tol': [0.01, 0.001]},\n",
              "             scoring='roc_auc')"
            ]
          },
          "metadata": {},
          "execution_count": 252
        }
      ]
    },
    {
      "cell_type": "markdown",
      "source": [
        "Посмотрим на лучшие параметры."
      ],
      "metadata": {
        "id": "Guy-eR7w7MQF"
      }
    },
    {
      "cell_type": "code",
      "source": [
        "CV_model.best_params_"
      ],
      "metadata": {
        "colab": {
          "base_uri": "https://localhost:8080/"
        },
        "id": "-NOLheVoH-7N",
        "outputId": "b435ffdd-0361-456c-a58b-8b30214464a8"
      },
      "execution_count": 253,
      "outputs": [
        {
          "output_type": "execute_result",
          "data": {
            "text/plain": [
              "{'logisticregression__C': 0.1,\n",
              " 'logisticregression__max_iter': 300,\n",
              " 'logisticregression__penalty': 'l2',\n",
              " 'logisticregression__solver': 'sag',\n",
              " 'logisticregression__tol': 0.01}"
            ]
          },
          "metadata": {},
          "execution_count": 253
        }
      ]
    },
    {
      "cell_type": "markdown",
      "source": [
        "Посмотрим на метрики."
      ],
      "metadata": {
        "id": "ipgvg0AK7PGb"
      }
    },
    {
      "cell_type": "code",
      "source": [
        "plot_confusion_matrix(CV_model, data_test, target_test) "
      ],
      "metadata": {
        "colab": {
          "base_uri": "https://localhost:8080/",
          "height": 352
        },
        "id": "5hQSzdjs7UCA",
        "outputId": "4c098da1-cff1-4587-da1a-f3eb7fc7bdbe"
      },
      "execution_count": 254,
      "outputs": [
        {
          "output_type": "stream",
          "name": "stderr",
          "text": [
            "/usr/local/lib/python3.7/dist-packages/sklearn/utils/deprecation.py:87: FutureWarning: Function plot_confusion_matrix is deprecated; Function `plot_confusion_matrix` is deprecated in 1.0 and will be removed in 1.2. Use one of the class methods: ConfusionMatrixDisplay.from_predictions or ConfusionMatrixDisplay.from_estimator.\n",
            "  warnings.warn(msg, category=FutureWarning)\n"
          ]
        },
        {
          "output_type": "execute_result",
          "data": {
            "text/plain": [
              "<sklearn.metrics._plot.confusion_matrix.ConfusionMatrixDisplay at 0x7fb31a8574d0>"
            ]
          },
          "metadata": {},
          "execution_count": 254
        },
        {
          "output_type": "display_data",
          "data": {
            "text/plain": [
              "<Figure size 432x288 with 2 Axes>"
            ],
            "image/png": "[encoded data removed]"
          },
          "metadata": {
            "needs_background": "light"
          }
        }
      ]
    },
    {
      "cell_type": "code",
      "source": [
        "plot_confusion_matrix(CV_model, data_train, target_train) "
      ],
      "metadata": {
        "colab": {
          "base_uri": "https://localhost:8080/",
          "height": 350
        },
        "id": "8Riy83s07UyC",
        "outputId": "ee6d0eaf-1814-4488-d724-7fb0a9aea959"
      },
      "execution_count": 255,
      "outputs": [
        {
          "output_type": "stream",
          "name": "stderr",
          "text": [
            "/usr/local/lib/python3.7/dist-packages/sklearn/utils/deprecation.py:87: FutureWarning: Function plot_confusion_matrix is deprecated; Function `plot_confusion_matrix` is deprecated in 1.0 and will be removed in 1.2. Use one of the class methods: ConfusionMatrixDisplay.from_predictions or ConfusionMatrixDisplay.from_estimator.\n",
            "  warnings.warn(msg, category=FutureWarning)\n"
          ]
        },
        {
          "output_type": "execute_result",
          "data": {
            "text/plain": [
              "<sklearn.metrics._plot.confusion_matrix.ConfusionMatrixDisplay at 0x7fb31a486f10>"
            ]
          },
          "metadata": {},
          "execution_count": 255
        },
        {
          "output_type": "display_data",
          "data": {
            "text/plain": [
              "<Figure size 432x288 with 2 Axes>"
            ],
            "image/png": "[encoded data removed]"
          },
          "metadata": {
            "needs_background": "light"
          }
        }
      ]
    },
    {
      "cell_type": "code",
      "source": [
        "recall_score(target_test, CV_model.predict(data_test))"
      ],
      "metadata": {
        "colab": {
          "base_uri": "https://localhost:8080/"
        },
        "id": "54yToDhP7ePM",
        "outputId": "715aca31-e23c-455f-95ea-19652dcb4ad0"
      },
      "execution_count": 256,
      "outputs": [
        {
          "output_type": "execute_result",
          "data": {
            "text/plain": [
              "0.8504672897196262"
            ]
          },
          "metadata": {},
          "execution_count": 256
        }
      ]
    },
    {
      "cell_type": "code",
      "source": [
        "recall_score(target_train, CV_model.predict(data_train))"
      ],
      "metadata": {
        "colab": {
          "base_uri": "https://localhost:8080/"
        },
        "id": "muFtoqLk7e2Q",
        "outputId": "65b6776a-979a-4593-f3ea-619fc177c028"
      },
      "execution_count": 257,
      "outputs": [
        {
          "output_type": "execute_result",
          "data": {
            "text/plain": [
              "0.8927680798004988"
            ]
          },
          "metadata": {},
          "execution_count": 257
        }
      ]
    },
    {
      "cell_type": "code",
      "source": [
        "precision_score(target_test, CV_model.predict(data_test))"
      ],
      "metadata": {
        "colab": {
          "base_uri": "https://localhost:8080/"
        },
        "id": "0J4E_JpEGsGp",
        "outputId": "8b33e1b7-3d4e-452c-dd82-d910b5729d7b"
      },
      "execution_count": 258,
      "outputs": [
        {
          "output_type": "execute_result",
          "data": {
            "text/plain": [
              "0.91"
            ]
          },
          "metadata": {},
          "execution_count": 258
        }
      ]
    },
    {
      "cell_type": "code",
      "source": [
        "precision_score(target_train, CV_model.predict(data_train))"
      ],
      "metadata": {
        "colab": {
          "base_uri": "https://localhost:8080/"
        },
        "id": "94JMsMw6Gs4l",
        "outputId": "2477638c-2285-4183-9926-2ad0f2ecbaa3"
      },
      "execution_count": 259,
      "outputs": [
        {
          "output_type": "execute_result",
          "data": {
            "text/plain": [
              "0.8689320388349514"
            ]
          },
          "metadata": {},
          "execution_count": 259
        }
      ]
    },
    {
      "cell_type": "code",
      "source": [
        "accuracy_score(target_test, CV_model.predict(data_test))"
      ],
      "metadata": {
        "colab": {
          "base_uri": "https://localhost:8080/"
        },
        "id": "s7eBrx-UIB08",
        "outputId": "3d60c4c2-4116-4ef4-9556-1c4bdbbd50a4"
      },
      "execution_count": 260,
      "outputs": [
        {
          "output_type": "execute_result",
          "data": {
            "text/plain": [
              "0.8641304347826086"
            ]
          },
          "metadata": {},
          "execution_count": 260
        }
      ]
    },
    {
      "cell_type": "code",
      "source": [
        "accuracy_score(target_train, CV_model.predict(data_train))"
      ],
      "metadata": {
        "colab": {
          "base_uri": "https://localhost:8080/"
        },
        "id": "g5Eed-EwIDsf",
        "outputId": "19c8a867-6527-45d7-ceda-35820648400d"
      },
      "execution_count": 261,
      "outputs": [
        {
          "output_type": "execute_result",
          "data": {
            "text/plain": [
              "0.8678474114441417"
            ]
          },
          "metadata": {},
          "execution_count": 261
        }
      ]
    },
    {
      "cell_type": "code",
      "source": [
        "target_train_predicted = CV_model.predict_proba(data_train)[:, 1]\n",
        "target_test_predicted = CV_model.predict_proba(data_test)[:, 1]\n",
        "\n",
        "train_auc = roc_auc_score(target_train, target_train_predicted)\n",
        "test_auc = roc_auc_score(target_test, target_test_predicted)\n",
        "\n",
        "plt.figure(figsize=(20,10))\n",
        "plt.plot(*roc_curve(target_train, target_train_predicted)[:2], label='train AUC={:.4f}'.format(train_auc))\n",
        "plt.plot(*roc_curve(target_test, target_test_predicted)[:2], label='test AUC={:.4f}'.format(test_auc))\n",
        "legend_box = plt.legend(fontsize='large', framealpha=1).get_frame()\n",
        "legend_box.set_facecolor(\"white\")\n",
        "legend_box.set_edgecolor(\"black\")\n",
        "plt.plot(np.linspace(0,1,100), np.linspace(0,1,100))\n",
        "plt.show()"
      ],
      "metadata": {
        "colab": {
          "base_uri": "https://localhost:8080/",
          "height": 589
        },
        "id": "2gAnASIrIFvM",
        "outputId": "c5ec86f6-c48b-410e-9495-a45d2c5d6f00"
      },
      "execution_count": 262,
      "outputs": [
        {
          "output_type": "display_data",
          "data": {
            "text/plain": [
              "<Figure size 1440x720 with 1 Axes>"
            ],
            "image/png": "[encoded data removed]"
          },
          "metadata": {
            "needs_background": "light"
          }
        }
      ]
    },
    {
      "cell_type": "markdown",
      "source": [
        "На модели из коробки видно переобучение, также можно заметить, что recall < precision, что, как я писал выше, не очень хорошо для нашей задачи. "
      ],
      "metadata": {
        "id": "gWC39MEnBQgu"
      }
    },
    {
      "cell_type": "markdown",
      "source": [
        "Сохраним модель."
      ],
      "metadata": {
        "id": "fg7JHfPHBd5e"
      }
    },
    {
      "cell_type": "code",
      "source": [
        "with open('sklearn_logreg.pkl', 'wb') as f:\n",
        "    pickle.dump(CV_model.best_estimator_, f)"
      ],
      "metadata": {
        "id": "ko39_fCL-zai"
      },
      "execution_count": 263,
      "outputs": []
    },
    {
      "cell_type": "markdown",
      "source": [
        "По итогу оказалось, что самописная модель показала себя лучше"
      ],
      "metadata": {
        "id": "3nbzTLM_BgGC"
      }
    },
    {
      "cell_type": "markdown",
      "source": [
        "## Naive Bayes"
      ],
      "metadata": {
        "id": "yQuJcg3DGS_Y"
      }
    },
    {
      "cell_type": "markdown",
      "source": [
        "### Мой класс Naive Bayes"
      ],
      "metadata": {
        "id": "IVhZ_zbgODlR"
      }
    },
    {
      "cell_type": "markdown",
      "source": [
        "Напишем класс NaiveBayes. Будем продполагать, что все признаки имеют нормальное распределение, а также все признаки независимы."
      ],
      "metadata": {
        "id": "l_UIxb8vCZoE"
      }
    },
    {
      "cell_type": "code",
      "source": [
        "from scipy.stats import norm"
      ],
      "metadata": {
        "id": "hxhqRT5Q4DVG"
      },
      "execution_count": 264,
      "outputs": []
    },
    {
      "cell_type": "code",
      "source": [
        "class MyNaiveBayes(BaseEstimator, ClassifierMixin):\n",
        "    # Bayes th: P(y=C|X) == P(X|y=C)P(y=C) / P(X)\n",
        "    # возьмем логарифм от формулы, чтобы избежать взрыва экспоненты\n",
        "    def fit(self, X, y):\n",
        "        X, y = check_X_y(X, y)\n",
        "\n",
        "        self.unique_labels = np.unique(y)\n",
        "        self.X_ = X\n",
        "        self.y_ = y    \n",
        "        self.smooth = 1e-3 \n",
        "\n",
        "        # Считаем P(X|y=C) для каждого признака и каждой метки класса\n",
        "        self.X_depends_on_Y = {} \n",
        "        for label in self.unique_labels:\n",
        "            distributions = []\n",
        "            for i in range(X.shape[1]):\n",
        "                feature = X[y == label, i].flatten()\n",
        "                # считаем среднне и дисперсию и добавляем нормальное распределение\n",
        "                distributions.append(norm(loc=feature.mean(), scale=(feature.std() + self.smooth)))\n",
        "            self.X_depends_on_Y[label] = distributions\n",
        "\n",
        "        # Считаем P(y=C), как выборочную вероятность\n",
        "        self.Y_probs = {label: sum((y == label)).astype(float) / len(y) for label in self.unique_labels}\n",
        "    \n",
        "    def predict(self, X):\n",
        "        check_is_fitted(self)\n",
        "        X = check_array(X)\n",
        "\n",
        "        probs = np.zeros((X.shape[0], len(self.unique_labels)), dtype=float)\n",
        "        X_probs = np.ones((X.shape[0], len(self.unique_labels)), dtype=float)\n",
        "\n",
        "        # Считаем числитель формулы Байеса\n",
        "        for i, label in enumerate(self.unique_labels):\n",
        "            for j in range(X.shape[1]):\n",
        "                probs[:, i] += np.log(self.X_depends_on_Y[label][j].pdf(X[:, j]) + self.smooth)\n",
        "            probs[:, i] += np.log(self.Y_probs[label] + self.smooth)\n",
        "\n",
        "        # Я решил не делить на знаменатель формулы, так как у меня на этом моменте все почему-то ломалось,\n",
        "        # и классификатор всегда предсказывал 0-ой класс + случались переполнения в произведении\n",
        "        # так хоть работает, но метода predict_proba нет, поэтому не заработала roc_auc_score\n",
        "\n",
        "        # Деление на P(X) по факту не влияет на ответ, только делает из числа вероятность\n",
        "\n",
        "        return np.array(probs.argmax(axis=1))  "
      ],
      "metadata": {
        "id": "8TJ_8k3OM1FN"
      },
      "execution_count": 265,
      "outputs": []
    },
    {
      "cell_type": "markdown",
      "source": [
        "Также создадим pipe и обучим модель, используя кросс-валидацию."
      ],
      "metadata": {
        "id": "kz82FMoXKrVL"
      }
    },
    {
      "cell_type": "code",
      "source": [
        "cv_num = 5\n",
        "\n",
        "encoder = prep_pipeline = ColumnTransformer([\n",
        "        ('num', PowerTransformer(standardize=False), num_cols),\n",
        "        ('cat', OneHotEncoder(sparse=False, handle_unknown=\"ignore\"), cat_cols)\n",
        "])\n",
        "pipe = make_pipeline(\n",
        "    encoder,\n",
        "    MyNaiveBayes()\n",
        ")\n",
        "\n",
        "param_grid = dict()\n",
        "\n",
        "CV_model = GridSearchCV(estimator=pipe,\n",
        "                        param_grid=param_grid,\n",
        "                        cv=cv_num,\n",
        "                        scoring=\"accuracy\",\n",
        "                        verbose=0,\n",
        "                        refit=True)"
      ],
      "metadata": {
        "id": "ac_47f9plMNJ"
      },
      "execution_count": 266,
      "outputs": []
    },
    {
      "cell_type": "code",
      "source": [
        "CV_model.fit(data_train, target_train)"
      ],
      "metadata": {
        "colab": {
          "base_uri": "https://localhost:8080/"
        },
        "id": "9pJIa3FrMBai",
        "outputId": "2d03c641-8e60-43d6-f564-a23ded0abfcb"
      },
      "execution_count": 267,
      "outputs": [
        {
          "output_type": "stream",
          "name": "stderr",
          "text": [
            "/usr/local/lib/python3.7/dist-packages/sklearn/preprocessing/_data.py:3253: RuntimeWarning: divide by zero encountered in log\n",
            "  loglike = -n_samples / 2 * np.log(x_trans.var())\n"
          ]
        },
        {
          "output_type": "execute_result",
          "data": {
            "text/plain": [
              "GridSearchCV(cv=5,\n",
              "             estimator=Pipeline(steps=[('columntransformer',\n",
              "                                        ColumnTransformer(transformers=[('num',\n",
              "                                                                         PowerTransformer(standardize=False),\n",
              "                                                                         ['Age',\n",
              "                                                                          'RestingBP',\n",
              "                                                                          'Cholesterol',\n",
              "                                                                          'MaxHR',\n",
              "                                                                          'Oldpeak']),\n",
              "                                                                        ('cat',\n",
              "                                                                         OneHotEncoder(handle_unknown='ignore',\n",
              "                                                                                       sparse=False),\n",
              "                                                                         ['Sex',\n",
              "                                                                          'ChestPainType',\n",
              "                                                                          'FastingBS',\n",
              "                                                                          'RestingECG',\n",
              "                                                                          'ExerciseAngina',\n",
              "                                                                          'ST_Slope'])])),\n",
              "                                       ('mynaivebayes', MyNaiveBayes())]),\n",
              "             param_grid={}, scoring='accuracy')"
            ]
          },
          "metadata": {},
          "execution_count": 267
        }
      ]
    },
    {
      "cell_type": "markdown",
      "source": [
        "Посморим на метрики"
      ],
      "metadata": {
        "id": "4q6pEDedK1Jt"
      }
    },
    {
      "cell_type": "code",
      "source": [
        "plot_confusion_matrix(CV_model, data_test, target_test) "
      ],
      "metadata": {
        "colab": {
          "base_uri": "https://localhost:8080/",
          "height": 354
        },
        "id": "OpMCOUBfGbkQ",
        "outputId": "d6ba1f7f-3e13-45cd-b5b5-cd28404d9bde"
      },
      "execution_count": 268,
      "outputs": [
        {
          "output_type": "stream",
          "name": "stderr",
          "text": [
            "/usr/local/lib/python3.7/dist-packages/sklearn/utils/deprecation.py:87: FutureWarning: Function plot_confusion_matrix is deprecated; Function `plot_confusion_matrix` is deprecated in 1.0 and will be removed in 1.2. Use one of the class methods: ConfusionMatrixDisplay.from_predictions or ConfusionMatrixDisplay.from_estimator.\n",
            "  warnings.warn(msg, category=FutureWarning)\n"
          ]
        },
        {
          "output_type": "execute_result",
          "data": {
            "text/plain": [
              "<sklearn.metrics._plot.confusion_matrix.ConfusionMatrixDisplay at 0x7fb31a2923d0>"
            ]
          },
          "metadata": {},
          "execution_count": 268
        },
        {
          "output_type": "display_data",
          "data": {
            "text/plain": [
              "<Figure size 432x288 with 2 Axes>"
            ],
            "image/png": "[encoded data removed]"
          },
          "metadata": {
            "needs_background": "light"
          }
        }
      ]
    },
    {
      "cell_type": "code",
      "source": [
        "plot_confusion_matrix(CV_model, data_train, target_train) "
      ],
      "metadata": {
        "colab": {
          "base_uri": "https://localhost:8080/",
          "height": 352
        },
        "id": "MZ0Z6SQdGcT4",
        "outputId": "ed32203f-0016-48b0-c3d4-fb7337ed2a40"
      },
      "execution_count": 269,
      "outputs": [
        {
          "output_type": "stream",
          "name": "stderr",
          "text": [
            "/usr/local/lib/python3.7/dist-packages/sklearn/utils/deprecation.py:87: FutureWarning: Function plot_confusion_matrix is deprecated; Function `plot_confusion_matrix` is deprecated in 1.0 and will be removed in 1.2. Use one of the class methods: ConfusionMatrixDisplay.from_predictions or ConfusionMatrixDisplay.from_estimator.\n",
            "  warnings.warn(msg, category=FutureWarning)\n"
          ]
        },
        {
          "output_type": "execute_result",
          "data": {
            "text/plain": [
              "<sklearn.metrics._plot.confusion_matrix.ConfusionMatrixDisplay at 0x7fb31a3777d0>"
            ]
          },
          "metadata": {},
          "execution_count": 269
        },
        {
          "output_type": "display_data",
          "data": {
            "text/plain": [
              "<Figure size 432x288 with 2 Axes>"
            ],
            "image/png": "[encoded data removed]"
          },
          "metadata": {
            "needs_background": "light"
          }
        }
      ]
    },
    {
      "cell_type": "code",
      "source": [
        "recall_score(target_test, CV_model.predict(data_test))"
      ],
      "metadata": {
        "colab": {
          "base_uri": "https://localhost:8080/"
        },
        "id": "Q3FT4OITGfcX",
        "outputId": "53bb0028-ac15-43be-a42d-e4aee5562398"
      },
      "execution_count": 270,
      "outputs": [
        {
          "output_type": "execute_result",
          "data": {
            "text/plain": [
              "0.8411214953271028"
            ]
          },
          "metadata": {},
          "execution_count": 270
        }
      ]
    },
    {
      "cell_type": "code",
      "source": [
        "recall_score(target_train, CV_model.predict(data_train))"
      ],
      "metadata": {
        "colab": {
          "base_uri": "https://localhost:8080/"
        },
        "id": "WRBbDadyJlRP",
        "outputId": "27b13e0f-e85b-4cf7-f64c-8bdf1dccd22c"
      },
      "execution_count": 271,
      "outputs": [
        {
          "output_type": "execute_result",
          "data": {
            "text/plain": [
              "0.8802992518703242"
            ]
          },
          "metadata": {},
          "execution_count": 271
        }
      ]
    },
    {
      "cell_type": "code",
      "source": [
        "precision_score(target_test, CV_model.predict(data_test))"
      ],
      "metadata": {
        "colab": {
          "base_uri": "https://localhost:8080/"
        },
        "id": "zt7rK9A3JoZb",
        "outputId": "620919b6-7aa9-4a29-8fc2-1b5677106c8f"
      },
      "execution_count": 272,
      "outputs": [
        {
          "output_type": "execute_result",
          "data": {
            "text/plain": [
              "0.9090909090909091"
            ]
          },
          "metadata": {},
          "execution_count": 272
        }
      ]
    },
    {
      "cell_type": "code",
      "source": [
        "precision_score(target_train, CV_model.predict(data_train))"
      ],
      "metadata": {
        "colab": {
          "base_uri": "https://localhost:8080/"
        },
        "id": "_PBvRsW5JsAv",
        "outputId": "3fb2bc0e-1bd4-4a07-efc9-d36def042be7"
      },
      "execution_count": 273,
      "outputs": [
        {
          "output_type": "execute_result",
          "data": {
            "text/plain": [
              "0.8694581280788177"
            ]
          },
          "metadata": {},
          "execution_count": 273
        }
      ]
    },
    {
      "cell_type": "markdown",
      "source": [
        "Precision > recall, что опять же не очень хорошо в рамках нашей задачи."
      ],
      "metadata": {
        "id": "9axNouu2fyGK"
      }
    },
    {
      "cell_type": "code",
      "source": [
        "accuracy_score(target_train, CV_model.predict(data_train))"
      ],
      "metadata": {
        "colab": {
          "base_uri": "https://localhost:8080/"
        },
        "id": "kBs6u2p5FTTV",
        "outputId": "fac2aad0-7861-464b-ab73-ea1bd760ffc6"
      },
      "execution_count": 274,
      "outputs": [
        {
          "output_type": "execute_result",
          "data": {
            "text/plain": [
              "0.8623978201634878"
            ]
          },
          "metadata": {},
          "execution_count": 274
        }
      ]
    },
    {
      "cell_type": "code",
      "source": [
        "accuracy_score(target_test, CV_model.predict(data_test))"
      ],
      "metadata": {
        "colab": {
          "base_uri": "https://localhost:8080/"
        },
        "id": "e5hOUB9DFPh9",
        "outputId": "1bd3eb6f-06b4-4927-da79-97026221f26a"
      },
      "execution_count": 275,
      "outputs": [
        {
          "output_type": "execute_result",
          "data": {
            "text/plain": [
              "0.8586956521739131"
            ]
          },
          "metadata": {},
          "execution_count": 275
        }
      ]
    },
    {
      "cell_type": "markdown",
      "source": [
        "Судя по метрикам переобучения нет. "
      ],
      "metadata": {
        "id": "qBQJeGuKgDV3"
      }
    },
    {
      "cell_type": "code",
      "source": [
        "with open('my_nb.pkl', 'wb') as f:\n",
        "    pickle.dump(CV_model.best_estimator_, f)"
      ],
      "metadata": {
        "id": "KNMOA73MJ0OY"
      },
      "execution_count": 276,
      "outputs": []
    },
    {
      "cell_type": "markdown",
      "source": [
        "### Класс NaiveBayes из коробки"
      ],
      "metadata": {
        "id": "eqGky_jYVh60"
      }
    },
    {
      "cell_type": "code",
      "source": [
        "from sklearn.naive_bayes import GaussianNB"
      ],
      "metadata": {
        "id": "uUVBafjHVyvH"
      },
      "execution_count": 277,
      "outputs": []
    },
    {
      "cell_type": "code",
      "source": [
        "cv_num = 5\n",
        "\n",
        "encoder = prep_pipeline = ColumnTransformer([\n",
        "        ('num', PowerTransformer(standardize=False), num_cols),\n",
        "        ('cat', OneHotEncoder(sparse=False, handle_unknown=\"ignore\"), cat_cols)\n",
        "])\n",
        "pipe = make_pipeline(\n",
        "    encoder,\n",
        "    GaussianNB()\n",
        ")\n",
        "\n",
        "param_grid = dict()\n",
        "CV_model = GridSearchCV(estimator=pipe,\n",
        "                        param_grid=param_grid,\n",
        "                        cv=cv_num,\n",
        "                        scoring=\"accuracy\",\n",
        "                        verbose=0,\n",
        "                        refit=True)"
      ],
      "metadata": {
        "id": "y1H-LaGVWBau"
      },
      "execution_count": 278,
      "outputs": []
    },
    {
      "cell_type": "code",
      "source": [
        "CV_model.fit(data_train, target_train)"
      ],
      "metadata": {
        "colab": {
          "base_uri": "https://localhost:8080/"
        },
        "id": "Aw-6VkNSWO7g",
        "outputId": "89b4bffe-c704-4044-d0a8-74d51e76de8a"
      },
      "execution_count": 279,
      "outputs": [
        {
          "output_type": "stream",
          "name": "stderr",
          "text": [
            "/usr/local/lib/python3.7/dist-packages/sklearn/preprocessing/_data.py:3253: RuntimeWarning: divide by zero encountered in log\n",
            "  loglike = -n_samples / 2 * np.log(x_trans.var())\n"
          ]
        },
        {
          "output_type": "execute_result",
          "data": {
            "text/plain": [
              "GridSearchCV(cv=5,\n",
              "             estimator=Pipeline(steps=[('columntransformer',\n",
              "                                        ColumnTransformer(transformers=[('num',\n",
              "                                                                         PowerTransformer(standardize=False),\n",
              "                                                                         ['Age',\n",
              "                                                                          'RestingBP',\n",
              "                                                                          'Cholesterol',\n",
              "                                                                          'MaxHR',\n",
              "                                                                          'Oldpeak']),\n",
              "                                                                        ('cat',\n",
              "                                                                         OneHotEncoder(handle_unknown='ignore',\n",
              "                                                                                       sparse=False),\n",
              "                                                                         ['Sex',\n",
              "                                                                          'ChestPainType',\n",
              "                                                                          'FastingBS',\n",
              "                                                                          'RestingECG',\n",
              "                                                                          'ExerciseAngina',\n",
              "                                                                          'ST_Slope'])])),\n",
              "                                       ('gaussiannb', GaussianNB())]),\n",
              "             param_grid={}, scoring='accuracy')"
            ]
          },
          "metadata": {},
          "execution_count": 279
        }
      ]
    },
    {
      "cell_type": "code",
      "source": [
        "plot_confusion_matrix(CV_model, data_test, target_test) "
      ],
      "metadata": {
        "colab": {
          "base_uri": "https://localhost:8080/",
          "height": 354
        },
        "id": "ah42IkhdWXSL",
        "outputId": "42c4f9ab-8b59-4785-c9ea-518f58dcb9b7"
      },
      "execution_count": 280,
      "outputs": [
        {
          "output_type": "stream",
          "name": "stderr",
          "text": [
            "/usr/local/lib/python3.7/dist-packages/sklearn/utils/deprecation.py:87: FutureWarning: Function plot_confusion_matrix is deprecated; Function `plot_confusion_matrix` is deprecated in 1.0 and will be removed in 1.2. Use one of the class methods: ConfusionMatrixDisplay.from_predictions or ConfusionMatrixDisplay.from_estimator.\n",
            "  warnings.warn(msg, category=FutureWarning)\n"
          ]
        },
        {
          "output_type": "execute_result",
          "data": {
            "text/plain": [
              "<sklearn.metrics._plot.confusion_matrix.ConfusionMatrixDisplay at 0x7fb31a348c10>"
            ]
          },
          "metadata": {},
          "execution_count": 280
        },
        {
          "output_type": "display_data",
          "data": {
            "text/plain": [
              "<Figure size 432x288 with 2 Axes>"
            ],
            "image/png": "[encoded data removed]"
          },
          "metadata": {
            "needs_background": "light"
          }
        }
      ]
    },
    {
      "cell_type": "code",
      "source": [
        "plot_confusion_matrix(CV_model, data_train, target_train) "
      ],
      "metadata": {
        "colab": {
          "base_uri": "https://localhost:8080/",
          "height": 350
        },
        "id": "N8cFeDRrWX-Z",
        "outputId": "ebfd3678-1146-4aa5-cd33-d6a8afcad747"
      },
      "execution_count": 281,
      "outputs": [
        {
          "output_type": "stream",
          "name": "stderr",
          "text": [
            "/usr/local/lib/python3.7/dist-packages/sklearn/utils/deprecation.py:87: FutureWarning: Function plot_confusion_matrix is deprecated; Function `plot_confusion_matrix` is deprecated in 1.0 and will be removed in 1.2. Use one of the class methods: ConfusionMatrixDisplay.from_predictions or ConfusionMatrixDisplay.from_estimator.\n",
            "  warnings.warn(msg, category=FutureWarning)\n"
          ]
        },
        {
          "output_type": "execute_result",
          "data": {
            "text/plain": [
              "<sklearn.metrics._plot.confusion_matrix.ConfusionMatrixDisplay at 0x7fb31a377590>"
            ]
          },
          "metadata": {},
          "execution_count": 281
        },
        {
          "output_type": "display_data",
          "data": {
            "text/plain": [
              "<Figure size 432x288 with 2 Axes>"
            ],
            "image/png": "[encoded data removed]"
          },
          "metadata": {
            "needs_background": "light"
          }
        }
      ]
    },
    {
      "cell_type": "code",
      "source": [
        "recall_score(target_test, CV_model.predict(data_test))"
      ],
      "metadata": {
        "colab": {
          "base_uri": "https://localhost:8080/"
        },
        "id": "VJNGSFEUWa0c",
        "outputId": "7d61cf65-9320-4f56-c1fe-737860d027ca"
      },
      "execution_count": 282,
      "outputs": [
        {
          "output_type": "execute_result",
          "data": {
            "text/plain": [
              "0.8411214953271028"
            ]
          },
          "metadata": {},
          "execution_count": 282
        }
      ]
    },
    {
      "cell_type": "code",
      "source": [
        "recall_score(target_train, CV_model.predict(data_train))"
      ],
      "metadata": {
        "colab": {
          "base_uri": "https://localhost:8080/"
        },
        "id": "aN7P8KMTWdS6",
        "outputId": "e8175366-f602-432b-b0fc-5df71cde3fd8"
      },
      "execution_count": 283,
      "outputs": [
        {
          "output_type": "execute_result",
          "data": {
            "text/plain": [
              "0.8703241895261845"
            ]
          },
          "metadata": {},
          "execution_count": 283
        }
      ]
    },
    {
      "cell_type": "code",
      "source": [
        "precision_score(target_test, CV_model.predict(data_test))"
      ],
      "metadata": {
        "colab": {
          "base_uri": "https://localhost:8080/"
        },
        "id": "BoPWKee_Wf7F",
        "outputId": "7489b61e-3b2c-49e1-e791-7504635dcfed"
      },
      "execution_count": 284,
      "outputs": [
        {
          "output_type": "execute_result",
          "data": {
            "text/plain": [
              "0.9278350515463918"
            ]
          },
          "metadata": {},
          "execution_count": 284
        }
      ]
    },
    {
      "cell_type": "code",
      "source": [
        "precision_score(target_train, CV_model.predict(data_train))"
      ],
      "metadata": {
        "colab": {
          "base_uri": "https://localhost:8080/"
        },
        "id": "itaX8kIsWjHP",
        "outputId": "522d5437-a5d2-42a4-b88e-bba912dfbdfc"
      },
      "execution_count": 285,
      "outputs": [
        {
          "output_type": "execute_result",
          "data": {
            "text/plain": [
              "0.8596059113300493"
            ]
          },
          "metadata": {},
          "execution_count": 285
        }
      ]
    },
    {
      "cell_type": "code",
      "source": [
        "accuracy_score(target_test, CV_model.predict(data_test))"
      ],
      "metadata": {
        "colab": {
          "base_uri": "https://localhost:8080/"
        },
        "id": "By8n13VqWlDW",
        "outputId": "761ae0c5-1ee2-4c78-bda9-c5a7102d1df8"
      },
      "execution_count": 286,
      "outputs": [
        {
          "output_type": "execute_result",
          "data": {
            "text/plain": [
              "0.8695652173913043"
            ]
          },
          "metadata": {},
          "execution_count": 286
        }
      ]
    },
    {
      "cell_type": "code",
      "source": [
        "accuracy_score(target_train, CV_model.predict(data_train))"
      ],
      "metadata": {
        "colab": {
          "base_uri": "https://localhost:8080/"
        },
        "id": "JLNrfpvWWn_7",
        "outputId": "0a985524-16d4-40d4-9463-87c66910731b"
      },
      "execution_count": 287,
      "outputs": [
        {
          "output_type": "execute_result",
          "data": {
            "text/plain": [
              "0.8514986376021798"
            ]
          },
          "metadata": {},
          "execution_count": 287
        }
      ]
    },
    {
      "cell_type": "code",
      "source": [
        "target_train_predicted = CV_model.predict_proba(data_train)[:, 1]\n",
        "target_test_predicted = CV_model.predict_proba(data_test)[:, 1]\n",
        "\n",
        "train_auc = roc_auc_score(target_train, target_train_predicted)\n",
        "test_auc = roc_auc_score(target_test, target_test_predicted)\n",
        "\n",
        "plt.figure(figsize=(20,10))\n",
        "plt.plot(*roc_curve(target_train, target_train_predicted)[:2], label='train AUC={:.4f}'.format(train_auc))\n",
        "plt.plot(*roc_curve(target_test, target_test_predicted)[:2], label='test AUC={:.4f}'.format(test_auc))\n",
        "legend_box = plt.legend(fontsize='large', framealpha=1).get_frame()\n",
        "legend_box.set_facecolor(\"white\")\n",
        "legend_box.set_edgecolor(\"black\")\n",
        "plt.plot(np.linspace(0,1,100), np.linspace(0,1,100))\n",
        "plt.show()"
      ],
      "metadata": {
        "colab": {
          "base_uri": "https://localhost:8080/",
          "height": 589
        },
        "id": "SeKJQYQ0WtX6",
        "outputId": "292ed55b-1cec-4c70-ed18-cd8e9af84cb5"
      },
      "execution_count": 288,
      "outputs": [
        {
          "output_type": "display_data",
          "data": {
            "text/plain": [
              "<Figure size 1440x720 with 1 Axes>"
            ],
            "image/png": "[encoded data removed]"
          },
          "metadata": {
            "needs_background": "light"
          }
        }
      ]
    },
    {
      "cell_type": "code",
      "source": [
        "with open('sklearn_nb.pkl', 'wb') as f:\n",
        "    pickle.dump(CV_model.best_estimator_, f)"
      ],
      "metadata": {
        "id": "g793yhjCgNlX"
      },
      "execution_count": 289,
      "outputs": []
    },
    {
      "cell_type": "markdown",
      "source": [
        "Как видно из результатов для моего NaiveBayes и NaiveBayes из коробки, эта модель хуже себя показала, по сравнению с LogisticRegression, что логично, так как далеко не все признаки имеют нормальное распределение (даже PowerTransformer не помог это исправить) + не все признаки независимы."
      ],
      "metadata": {
        "id": "iX8okrldgWoi"
      }
    },
    {
      "cell_type": "markdown",
      "source": [
        "## kNN"
      ],
      "metadata": {
        "id": "r-RnTgtgic18"
      }
    },
    {
      "cell_type": "markdown",
      "source": [
        "### Мой kNN"
      ],
      "metadata": {
        "id": "p1q37HofSl_g"
      }
    },
    {
      "cell_type": "code",
      "source": [
        "class MyKNN(BaseEstimator, ClassifierMixin):\n",
        "    \"\"\"\n",
        "    nn - число соседей\n",
        "    w - схема подсчета весов\n",
        "    \"\"\"\n",
        "    def __init__(self,  \n",
        "                 nn: int = 5,\n",
        "                 w: str = \"uniform\"):\n",
        "        self.nn = nn\n",
        "        self.w = w\n",
        "\n",
        "    def fit(self, X, y):\n",
        "         X, y = check_X_y(X, y)\n",
        "         self.X_ = X\n",
        "         self.y_ = y\n",
        "         self.unique_labels = np.unique(y)\n",
        "         return self\n",
        "\n",
        "    def get_pred(self, nearest):\n",
        "        preds = np.zeros(len(self.unique_labels))\n",
        "        for d, i in nearest:\n",
        "            if self.w == \"distance\":\n",
        "                preds[i] += 1.0 / (d + 1e-08)\n",
        "            else:\n",
        "                preds[i] += 1\n",
        "        return np.argmax(preds)\n",
        "\n",
        "    def predict(self, X):\n",
        "        check_is_fitted(self)\n",
        "        X = check_array(X)\n",
        "\n",
        "        preds = []\n",
        "        for obj in X:\n",
        "            dists = []\n",
        "            for i, obj_to_cmp in enumerate(self.X_):\n",
        "                dist = np.linalg.norm(obj - obj_to_cmp)\n",
        "                dists.append((dist, self.y_[i]))\n",
        "            dists.sort()\n",
        "            nearest = dists[: self.nn]\n",
        "            preds.append(self.get_pred(nearest))\n",
        "\n",
        "        return np.array(preds, dtype=int)"
      ],
      "metadata": {
        "id": "YpbLNHGmSpcB"
      },
      "execution_count": 290,
      "outputs": []
    },
    {
      "cell_type": "code",
      "source": [
        "cv_num = 5\n",
        "logreg_prefix = 'myknn__'\n",
        "\n",
        "encoder = prep_pipeline = ColumnTransformer([\n",
        "        ('num', StandardScaler(), num_cols),\n",
        "        ('cat', OneHotEncoder(sparse=False, handle_unknown=\"ignore\"), cat_cols)\n",
        "])\n",
        "pipe = make_pipeline(\n",
        "    encoder,\n",
        "    MyKNN()\n",
        ")\n",
        "\n",
        "param_grid = {\n",
        "    logreg_prefix + \"nn\": [3, 5, 7],\n",
        "    logreg_prefix + \"w\": [\"uniform\", \"distance\"]\n",
        "}\n",
        "CV_model = GridSearchCV(estimator=pipe,\n",
        "                        param_grid=param_grid,\n",
        "                        cv=cv_num,\n",
        "                        scoring=\"accuracy\",\n",
        "                        verbose=0,\n",
        "                        refit=True)"
      ],
      "metadata": {
        "id": "v20mELfmYJz_"
      },
      "execution_count": 291,
      "outputs": []
    },
    {
      "cell_type": "code",
      "source": [
        "CV_model.fit(data_train, target_train)"
      ],
      "metadata": {
        "colab": {
          "base_uri": "https://localhost:8080/"
        },
        "id": "Z-XJV3GcYezS",
        "outputId": "8d7f2a96-50dd-446c-88dc-d2883b2cf7e7"
      },
      "execution_count": 292,
      "outputs": [
        {
          "output_type": "execute_result",
          "data": {
            "text/plain": [
              "GridSearchCV(cv=5,\n",
              "             estimator=Pipeline(steps=[('columntransformer',\n",
              "                                        ColumnTransformer(transformers=[('num',\n",
              "                                                                         StandardScaler(),\n",
              "                                                                         ['Age',\n",
              "                                                                          'RestingBP',\n",
              "                                                                          'Cholesterol',\n",
              "                                                                          'MaxHR',\n",
              "                                                                          'Oldpeak']),\n",
              "                                                                        ('cat',\n",
              "                                                                         OneHotEncoder(handle_unknown='ignore',\n",
              "                                                                                       sparse=False),\n",
              "                                                                         ['Sex',\n",
              "                                                                          'ChestPainType',\n",
              "                                                                          'FastingBS',\n",
              "                                                                          'RestingECG',\n",
              "                                                                          'ExerciseAngina',\n",
              "                                                                          'ST_Slope'])])),\n",
              "                                       ('myknn', MyKNN())]),\n",
              "             param_grid={'myknn__nn': [3, 5, 7],\n",
              "                         'myknn__w': ['uniform', 'distance']},\n",
              "             scoring='accuracy')"
            ]
          },
          "metadata": {},
          "execution_count": 292
        }
      ]
    },
    {
      "cell_type": "code",
      "source": [
        "CV_model.best_params_"
      ],
      "metadata": {
        "colab": {
          "base_uri": "https://localhost:8080/"
        },
        "id": "qQ0tOvVHYh0w",
        "outputId": "205c3187-e4bd-43dc-8ec7-7f2ee1990324"
      },
      "execution_count": 293,
      "outputs": [
        {
          "output_type": "execute_result",
          "data": {
            "text/plain": [
              "{'myknn__nn': 7, 'myknn__w': 'distance'}"
            ]
          },
          "metadata": {},
          "execution_count": 293
        }
      ]
    },
    {
      "cell_type": "code",
      "source": [
        "plot_confusion_matrix(CV_model, data_train, target_train) "
      ],
      "metadata": {
        "colab": {
          "base_uri": "https://localhost:8080/",
          "height": 354
        },
        "id": "uxQtD8XOYrui",
        "outputId": "4ccdc2ae-95ad-45eb-a81e-271c0a62bdd3"
      },
      "execution_count": 294,
      "outputs": [
        {
          "output_type": "stream",
          "name": "stderr",
          "text": [
            "/usr/local/lib/python3.7/dist-packages/sklearn/utils/deprecation.py:87: FutureWarning: Function plot_confusion_matrix is deprecated; Function `plot_confusion_matrix` is deprecated in 1.0 and will be removed in 1.2. Use one of the class methods: ConfusionMatrixDisplay.from_predictions or ConfusionMatrixDisplay.from_estimator.\n",
            "  warnings.warn(msg, category=FutureWarning)\n"
          ]
        },
        {
          "output_type": "execute_result",
          "data": {
            "text/plain": [
              "<sklearn.metrics._plot.confusion_matrix.ConfusionMatrixDisplay at 0x7fb31a078c90>"
            ]
          },
          "metadata": {},
          "execution_count": 294
        },
        {
          "output_type": "display_data",
          "data": {
            "text/plain": [
              "<Figure size 432x288 with 2 Axes>"
            ],
            "image/png": "[encoded data removed]"
          },
          "metadata": {
            "needs_background": "light"
          }
        }
      ]
    },
    {
      "cell_type": "code",
      "source": [
        "plot_confusion_matrix(CV_model, data_test, target_test) "
      ],
      "metadata": {
        "colab": {
          "base_uri": "https://localhost:8080/",
          "height": 352
        },
        "id": "BXA8xWx0YsUH",
        "outputId": "a41f7874-c231-43ad-f2f5-64424da2d5ef"
      },
      "execution_count": 295,
      "outputs": [
        {
          "output_type": "stream",
          "name": "stderr",
          "text": [
            "/usr/local/lib/python3.7/dist-packages/sklearn/utils/deprecation.py:87: FutureWarning: Function plot_confusion_matrix is deprecated; Function `plot_confusion_matrix` is deprecated in 1.0 and will be removed in 1.2. Use one of the class methods: ConfusionMatrixDisplay.from_predictions or ConfusionMatrixDisplay.from_estimator.\n",
            "  warnings.warn(msg, category=FutureWarning)\n"
          ]
        },
        {
          "output_type": "execute_result",
          "data": {
            "text/plain": [
              "<sklearn.metrics._plot.confusion_matrix.ConfusionMatrixDisplay at 0x7fb319f4d210>"
            ]
          },
          "metadata": {},
          "execution_count": 295
        },
        {
          "output_type": "display_data",
          "data": {
            "text/plain": [
              "<Figure size 432x288 with 2 Axes>"
            ],
            "image/png": "[encoded data removed]"
          },
          "metadata": {
            "needs_background": "light"
          }
        }
      ]
    },
    {
      "cell_type": "code",
      "source": [
        "recall_score(target_test, CV_model.predict(data_test))"
      ],
      "metadata": {
        "colab": {
          "base_uri": "https://localhost:8080/"
        },
        "id": "T80KDAtgYvFV",
        "outputId": "58a50be3-3674-4de8-f2f9-79ead544ffbc"
      },
      "execution_count": 296,
      "outputs": [
        {
          "output_type": "execute_result",
          "data": {
            "text/plain": [
              "0.8504672897196262"
            ]
          },
          "metadata": {},
          "execution_count": 296
        }
      ]
    },
    {
      "cell_type": "code",
      "source": [
        "recall_score(target_train, CV_model.predict(data_train))"
      ],
      "metadata": {
        "colab": {
          "base_uri": "https://localhost:8080/"
        },
        "id": "Yr1RKWKYYzx4",
        "outputId": "19d1b57d-eb71-4674-f29f-d33a43c84bcd"
      },
      "execution_count": 297,
      "outputs": [
        {
          "output_type": "execute_result",
          "data": {
            "text/plain": [
              "1.0"
            ]
          },
          "metadata": {},
          "execution_count": 297
        }
      ]
    },
    {
      "cell_type": "code",
      "source": [
        "precision_score(target_test, CV_model.predict(data_test))"
      ],
      "metadata": {
        "colab": {
          "base_uri": "https://localhost:8080/"
        },
        "id": "0JXTqQ1xY0sd",
        "outputId": "377acbe9-c413-488a-e5e4-9ddcc42dfcff"
      },
      "execution_count": 298,
      "outputs": [
        {
          "output_type": "execute_result",
          "data": {
            "text/plain": [
              "0.900990099009901"
            ]
          },
          "metadata": {},
          "execution_count": 298
        }
      ]
    },
    {
      "cell_type": "code",
      "source": [
        "precision_score(target_train, CV_model.predict(data_train))"
      ],
      "metadata": {
        "colab": {
          "base_uri": "https://localhost:8080/"
        },
        "id": "XXijJXpxY3Jy",
        "outputId": "a221bf64-b344-471e-c6b3-0879e30a4087"
      },
      "execution_count": 299,
      "outputs": [
        {
          "output_type": "execute_result",
          "data": {
            "text/plain": [
              "1.0"
            ]
          },
          "metadata": {},
          "execution_count": 299
        }
      ]
    },
    {
      "cell_type": "code",
      "source": [
        "accuracy_score(target_test, CV_model.predict(data_test))"
      ],
      "metadata": {
        "colab": {
          "base_uri": "https://localhost:8080/"
        },
        "id": "yxG2W6L9Y521",
        "outputId": "0b5b1bfe-b961-4f85-926b-cdf25dde65f0"
      },
      "execution_count": 300,
      "outputs": [
        {
          "output_type": "execute_result",
          "data": {
            "text/plain": [
              "0.8586956521739131"
            ]
          },
          "metadata": {},
          "execution_count": 300
        }
      ]
    },
    {
      "cell_type": "code",
      "source": [
        "accuracy_score(target_train, CV_model.predict(data_train))"
      ],
      "metadata": {
        "colab": {
          "base_uri": "https://localhost:8080/"
        },
        "id": "S6Edt-gsY8i0",
        "outputId": "e5561cb0-4b21-4d3c-8a8b-380d191123b3"
      },
      "execution_count": 301,
      "outputs": [
        {
          "output_type": "execute_result",
          "data": {
            "text/plain": [
              "1.0"
            ]
          },
          "metadata": {},
          "execution_count": 301
        }
      ]
    },
    {
      "cell_type": "code",
      "source": [
        "with open('my_knn.pkl', 'wb') as f:\n",
        "    pickle.dump(CV_model.best_estimator_, f)"
      ],
      "metadata": {
        "id": "23R-Eom3ZB7b"
      },
      "execution_count": 302,
      "outputs": []
    },
    {
      "cell_type": "markdown",
      "source": [
        "### kNN из коробки"
      ],
      "metadata": {
        "id": "R7U_PihdZIvt"
      }
    },
    {
      "cell_type": "code",
      "source": [
        "from sklearn.neighbors import KNeighborsClassifier"
      ],
      "metadata": {
        "id": "h4YWeE1nZ9Ce"
      },
      "execution_count": 303,
      "outputs": []
    },
    {
      "cell_type": "code",
      "source": [
        "cv_num = 5\n",
        "encoder = prep_pipeline = ColumnTransformer([\n",
        "        ('num', StandardScaler(), num_cols),\n",
        "        ('cat', OneHotEncoder(sparse=False, handle_unknown=\"ignore\"), cat_cols)\n",
        "])\n",
        "pipe = make_pipeline(\n",
        "    encoder,\n",
        "    KNeighborsClassifier()\n",
        ")\n",
        "\n",
        "param_grid = {\n",
        "    \"kneighborsclassifier__n_neighbors\": [3, 5, 7],\n",
        "    \"kneighborsclassifier__weights\": [\"uniform\", \"distance\"]\n",
        "}\n",
        "CV_model = GridSearchCV(estimator=pipe,\n",
        "                        param_grid=param_grid,\n",
        "                        cv=cv_num,\n",
        "                        scoring=\"accuracy\",\n",
        "                        verbose=0,\n",
        "                        refit=True)"
      ],
      "metadata": {
        "id": "nXoZYDQEZLe7"
      },
      "execution_count": 304,
      "outputs": []
    },
    {
      "cell_type": "code",
      "source": [
        "CV_model.fit(data_train, target_train)"
      ],
      "metadata": {
        "colab": {
          "base_uri": "https://localhost:8080/"
        },
        "id": "Cc52DNZ0ZQ99",
        "outputId": "aee72239-ff42-4127-cc65-1940eab5d066"
      },
      "execution_count": 305,
      "outputs": [
        {
          "output_type": "execute_result",
          "data": {
            "text/plain": [
              "GridSearchCV(cv=5,\n",
              "             estimator=Pipeline(steps=[('columntransformer',\n",
              "                                        ColumnTransformer(transformers=[('num',\n",
              "                                                                         StandardScaler(),\n",
              "                                                                         ['Age',\n",
              "                                                                          'RestingBP',\n",
              "                                                                          'Cholesterol',\n",
              "                                                                          'MaxHR',\n",
              "                                                                          'Oldpeak']),\n",
              "                                                                        ('cat',\n",
              "                                                                         OneHotEncoder(handle_unknown='ignore',\n",
              "                                                                                       sparse=False),\n",
              "                                                                         ['Sex',\n",
              "                                                                          'ChestPainType',\n",
              "                                                                          'FastingBS',\n",
              "                                                                          'RestingECG',\n",
              "                                                                          'ExerciseAngina',\n",
              "                                                                          'ST_Slope'])])),\n",
              "                                       ('kneighborsclassifier',\n",
              "                                        KNeighborsClassifier())]),\n",
              "             param_grid={'kneighborsclassifier__n_neighbors': [3, 5, 7],\n",
              "                         'kneighborsclassifier__weights': ['uniform',\n",
              "                                                           'distance']},\n",
              "             scoring='accuracy')"
            ]
          },
          "metadata": {},
          "execution_count": 305
        }
      ]
    },
    {
      "cell_type": "code",
      "source": [
        "CV_model.best_params_"
      ],
      "metadata": {
        "colab": {
          "base_uri": "https://localhost:8080/"
        },
        "id": "lSo2BOgoZVqb",
        "outputId": "bfb83176-faff-4eb8-939c-bb87e3830d46"
      },
      "execution_count": 306,
      "outputs": [
        {
          "output_type": "execute_result",
          "data": {
            "text/plain": [
              "{'kneighborsclassifier__n_neighbors': 7,\n",
              " 'kneighborsclassifier__weights': 'distance'}"
            ]
          },
          "metadata": {},
          "execution_count": 306
        }
      ]
    },
    {
      "cell_type": "code",
      "source": [
        "plot_confusion_matrix(CV_model, data_test, target_test) "
      ],
      "metadata": {
        "colab": {
          "base_uri": "https://localhost:8080/",
          "height": 352
        },
        "id": "cy3ZPW49ZWWN",
        "outputId": "fb98dd8e-b910-4ed0-d752-c0a320e4109c"
      },
      "execution_count": 307,
      "outputs": [
        {
          "output_type": "stream",
          "name": "stderr",
          "text": [
            "/usr/local/lib/python3.7/dist-packages/sklearn/utils/deprecation.py:87: FutureWarning: Function plot_confusion_matrix is deprecated; Function `plot_confusion_matrix` is deprecated in 1.0 and will be removed in 1.2. Use one of the class methods: ConfusionMatrixDisplay.from_predictions or ConfusionMatrixDisplay.from_estimator.\n",
            "  warnings.warn(msg, category=FutureWarning)\n"
          ]
        },
        {
          "output_type": "execute_result",
          "data": {
            "text/plain": [
              "<sklearn.metrics._plot.confusion_matrix.ConfusionMatrixDisplay at 0x7fb31b109810>"
            ]
          },
          "metadata": {},
          "execution_count": 307
        },
        {
          "output_type": "display_data",
          "data": {
            "text/plain": [
              "<Figure size 432x288 with 2 Axes>"
            ],
            "image/png": "[encoded data removed]"
          },
          "metadata": {
            "needs_background": "light"
          }
        }
      ]
    },
    {
      "cell_type": "code",
      "source": [
        "plot_confusion_matrix(CV_model, data_train, target_train) "
      ],
      "metadata": {
        "colab": {
          "base_uri": "https://localhost:8080/",
          "height": 354
        },
        "id": "fjESTBHiZZW9",
        "outputId": "7fef3d5c-4f5c-4bea-ac30-6173da3f7b6a"
      },
      "execution_count": 308,
      "outputs": [
        {
          "output_type": "stream",
          "name": "stderr",
          "text": [
            "/usr/local/lib/python3.7/dist-packages/sklearn/utils/deprecation.py:87: FutureWarning: Function plot_confusion_matrix is deprecated; Function `plot_confusion_matrix` is deprecated in 1.0 and will be removed in 1.2. Use one of the class methods: ConfusionMatrixDisplay.from_predictions or ConfusionMatrixDisplay.from_estimator.\n",
            "  warnings.warn(msg, category=FutureWarning)\n"
          ]
        },
        {
          "output_type": "execute_result",
          "data": {
            "text/plain": [
              "<sklearn.metrics._plot.confusion_matrix.ConfusionMatrixDisplay at 0x7fb319ddc090>"
            ]
          },
          "metadata": {},
          "execution_count": 308
        },
        {
          "output_type": "display_data",
          "data": {
            "text/plain": [
              "<Figure size 432x288 with 2 Axes>"
            ],
            "image/png": "[encoded data removed]"
          },
          "metadata": {
            "needs_background": "light"
          }
        }
      ]
    },
    {
      "cell_type": "code",
      "source": [
        "recall_score(target_test, CV_model.predict(data_test))"
      ],
      "metadata": {
        "colab": {
          "base_uri": "https://localhost:8080/"
        },
        "id": "Upl1_zllZcCh",
        "outputId": "188a5136-b674-4c45-b982-4e1a8a282d99"
      },
      "execution_count": 309,
      "outputs": [
        {
          "output_type": "execute_result",
          "data": {
            "text/plain": [
              "0.8504672897196262"
            ]
          },
          "metadata": {},
          "execution_count": 309
        }
      ]
    },
    {
      "cell_type": "code",
      "source": [
        "recall_score(target_train, CV_model.predict(data_train))"
      ],
      "metadata": {
        "colab": {
          "base_uri": "https://localhost:8080/"
        },
        "id": "FpQtTJb0ZkAP",
        "outputId": "ad01d0bc-93f1-4dd9-f412-4d24e1d4180e"
      },
      "execution_count": 310,
      "outputs": [
        {
          "output_type": "execute_result",
          "data": {
            "text/plain": [
              "1.0"
            ]
          },
          "metadata": {},
          "execution_count": 310
        }
      ]
    },
    {
      "cell_type": "code",
      "source": [
        "precision_score(target_test, CV_model.predict(data_test))"
      ],
      "metadata": {
        "colab": {
          "base_uri": "https://localhost:8080/"
        },
        "id": "S-rbCsU_Zkmn",
        "outputId": "2c48491e-1076-4001-9473-1ec5aafc24ab"
      },
      "execution_count": 311,
      "outputs": [
        {
          "output_type": "execute_result",
          "data": {
            "text/plain": [
              "0.900990099009901"
            ]
          },
          "metadata": {},
          "execution_count": 311
        }
      ]
    },
    {
      "cell_type": "code",
      "source": [
        "precision_score(target_train, CV_model.predict(data_train))"
      ],
      "metadata": {
        "colab": {
          "base_uri": "https://localhost:8080/"
        },
        "id": "cqKBqODOZmvh",
        "outputId": "6a16c80f-1194-4507-8c4c-1ad62961d74c"
      },
      "execution_count": 312,
      "outputs": [
        {
          "output_type": "execute_result",
          "data": {
            "text/plain": [
              "1.0"
            ]
          },
          "metadata": {},
          "execution_count": 312
        }
      ]
    },
    {
      "cell_type": "code",
      "source": [
        "accuracy_score(target_test, CV_model.predict(data_test))"
      ],
      "metadata": {
        "colab": {
          "base_uri": "https://localhost:8080/"
        },
        "id": "vAxGI92zZp1s",
        "outputId": "c4050f78-fe86-4452-ea70-2a8aefbb9d80"
      },
      "execution_count": 313,
      "outputs": [
        {
          "output_type": "execute_result",
          "data": {
            "text/plain": [
              "0.8586956521739131"
            ]
          },
          "metadata": {},
          "execution_count": 313
        }
      ]
    },
    {
      "cell_type": "code",
      "source": [
        "accuracy_score(target_train, CV_model.predict(data_train))"
      ],
      "metadata": {
        "colab": {
          "base_uri": "https://localhost:8080/"
        },
        "id": "KMW8QhXEZsEv",
        "outputId": "35746e21-66ec-4ee9-ea5a-d3fb5c27e421"
      },
      "execution_count": 314,
      "outputs": [
        {
          "output_type": "execute_result",
          "data": {
            "text/plain": [
              "1.0"
            ]
          },
          "metadata": {},
          "execution_count": 314
        }
      ]
    },
    {
      "cell_type": "code",
      "source": [
        "target_train_predicted = CV_model.predict_proba(data_train)[:, 1]\n",
        "target_test_predicted = CV_model.predict_proba(data_test)[:, 1]\n",
        "\n",
        "train_auc = roc_auc_score(target_train, target_train_predicted)\n",
        "test_auc = roc_auc_score(target_test, target_test_predicted)\n",
        "\n",
        "plt.figure(figsize=(20,10))\n",
        "plt.plot(*roc_curve(target_train, target_train_predicted)[:2], label='train AUC={:.4f}'.format(train_auc))\n",
        "plt.plot(*roc_curve(target_test, target_test_predicted)[:2], label='test AUC={:.4f}'.format(test_auc))\n",
        "legend_box = plt.legend(fontsize='large', framealpha=1).get_frame()\n",
        "legend_box.set_facecolor(\"white\")\n",
        "legend_box.set_edgecolor(\"black\")\n",
        "plt.plot(np.linspace(0,1,100), np.linspace(0,1,100))\n",
        "plt.show()"
      ],
      "metadata": {
        "colab": {
          "base_uri": "https://localhost:8080/",
          "height": 589
        },
        "id": "_im2DQPqZumk",
        "outputId": "faa657cd-545a-4255-8431-686403e48326"
      },
      "execution_count": 315,
      "outputs": [
        {
          "output_type": "display_data",
          "data": {
            "text/plain": [
              "<Figure size 1440x720 with 1 Axes>"
            ],
            "image/png": "[encoded data removed]"
          },
          "metadata": {
            "needs_background": "light"
          }
        }
      ]
    },
    {
      "cell_type": "code",
      "source": [
        "with open('sklearn_knn.pkl', 'wb') as f:\n",
        "    pickle.dump(CV_model.best_estimator_, f)"
      ],
      "metadata": {
        "id": "a8jlB7NDZ1Kj"
      },
      "execution_count": 316,
      "outputs": []
    },
    {
      "cell_type": "markdown",
      "source": [
        "## SVM"
      ],
      "metadata": {
        "id": "Rww8-3v3a55X"
      }
    },
    {
      "cell_type": "markdown",
      "source": [
        "### Мой SVM"
      ],
      "metadata": {
        "id": "G9tb-KIPa86v"
      }
    },
    {
      "cell_type": "code",
      "source": [
        "class MySVM(BaseEstimator, ClassifierMixin):\n",
        "    \"\"\"\n",
        "    lr - learning rate\n",
        "    C - обратный коэф регуляризации (чем меньше C, тем больше штраф)\n",
        "    kernel - ядро svm\n",
        "    \"\"\"\n",
        "    def __init__(self,  \n",
        "                 lr: float = 1e-3,\n",
        "                 C: float = 1.0,\n",
        "                 max_iter: int = 100):\n",
        "        self.C = C\n",
        "        self.lr = lr\n",
        "        self.max_iter = max_iter\n",
        "\n",
        "    def fit(self, X, y):\n",
        "        X, y = check_X_y(X, y)\n",
        "        self.X_ = X\n",
        "        self.y_ = y\n",
        "        self.labels = np.where(y == 0, -1, 1)\n",
        "\n",
        "        w = np.random.normal(size=(self.X_.shape[1], ))\n",
        "        b = 0.0\n",
        "\n",
        "        for _ in range(self.max_iter):\n",
        "            for i, obj in enumerate(self.X_):\n",
        "                if self.labels[i] * (obj @ w + b) >= 1:\n",
        "                    dw = w / self.C\n",
        "                    db = 0\n",
        "                else:\n",
        "                    dw = w / self.C - self.labels[i] * obj\n",
        "                    db = -self.labels[i]\n",
        "                w -= self.lr * dw\n",
        "                b -= self.lr * db\n",
        "\n",
        "        self.w = w\n",
        "        self.b = b\n",
        "        return self\n",
        "\n",
        "    def predict(self, X):\n",
        "        return np.where(np.sign(np.dot(X, self.w) + self.b) == -1, 0, 1)"
      ],
      "metadata": {
        "id": "04N7C5qpdE5W"
      },
      "execution_count": 317,
      "outputs": []
    },
    {
      "cell_type": "code",
      "source": [
        "cv_num = 5\n",
        "logreg_prefix = 'mysvm__'\n",
        "\n",
        "encoder = prep_pipeline = ColumnTransformer([\n",
        "        ('skew_num', PowerTransformer(standardize=True), to_skew_num_cols),\n",
        "        ('std_num', StandardScaler(), to_std_num_cols),\n",
        "        ('cat', OneHotEncoder(sparse=False, handle_unknown=\"ignore\"), cat_cols)\n",
        "])\n",
        "pipe = make_pipeline(\n",
        "    encoder,\n",
        "    MySVM()\n",
        ")\n",
        "\n",
        "param_grid = {\n",
        "    logreg_prefix + \"lr\": [1e-04, 1e-03, 1e-02],\n",
        "    logreg_prefix + \"C\": [1e-1, 1.0, 10.0]\n",
        "}\n",
        "CV_model = GridSearchCV(estimator=pipe,\n",
        "                        param_grid=param_grid,\n",
        "                        cv=cv_num,\n",
        "                        scoring=\"accuracy\",\n",
        "                        verbose=0,\n",
        "                        refit=True)"
      ],
      "metadata": {
        "id": "DOLBhhYy6DuS"
      },
      "execution_count": 318,
      "outputs": []
    },
    {
      "cell_type": "code",
      "source": [
        "CV_model.fit(data_train, target_train)"
      ],
      "metadata": {
        "colab": {
          "base_uri": "https://localhost:8080/"
        },
        "id": "kCMHSTEe6X-t",
        "outputId": "47070c4d-d800-4657-b5f2-6234440c2243"
      },
      "execution_count": 319,
      "outputs": [
        {
          "output_type": "execute_result",
          "data": {
            "text/plain": [
              "GridSearchCV(cv=5,\n",
              "             estimator=Pipeline(steps=[('columntransformer',\n",
              "                                        ColumnTransformer(transformers=[('skew_num',\n",
              "                                                                         PowerTransformer(),\n",
              "                                                                         ['Cholesterol',\n",
              "                                                                          'Oldpeak']),\n",
              "                                                                        ('std_num',\n",
              "                                                                         StandardScaler(),\n",
              "                                                                         ['Age',\n",
              "                                                                          'RestingBP',\n",
              "                                                                          'MaxHR']),\n",
              "                                                                        ('cat',\n",
              "                                                                         OneHotEncoder(handle_unknown='ignore',\n",
              "                                                                                       sparse=False),\n",
              "                                                                         ['Sex',\n",
              "                                                                          'ChestPainType',\n",
              "                                                                          'FastingBS',\n",
              "                                                                          'RestingECG',\n",
              "                                                                          'ExerciseAngina',\n",
              "                                                                          'ST_Slope'])])),\n",
              "                                       ('mysvm', MySVM())]),\n",
              "             param_grid={'mysvm__C': [0.1, 1.0, 10.0],\n",
              "                         'mysvm__lr': [0.0001, 0.001, 0.01]},\n",
              "             scoring='accuracy')"
            ]
          },
          "metadata": {},
          "execution_count": 319
        }
      ]
    },
    {
      "cell_type": "code",
      "source": [
        "CV_model.best_params_"
      ],
      "metadata": {
        "colab": {
          "base_uri": "https://localhost:8080/"
        },
        "id": "OVbGgWeK6eeG",
        "outputId": "e5e1cc8b-aecc-44b4-84b8-7fde5517ba54"
      },
      "execution_count": 320,
      "outputs": [
        {
          "output_type": "execute_result",
          "data": {
            "text/plain": [
              "{'mysvm__C': 10.0, 'mysvm__lr': 0.001}"
            ]
          },
          "metadata": {},
          "execution_count": 320
        }
      ]
    },
    {
      "cell_type": "code",
      "source": [
        "plot_confusion_matrix(CV_model, data_train, target_train) "
      ],
      "metadata": {
        "colab": {
          "base_uri": "https://localhost:8080/",
          "height": 350
        },
        "id": "yKCuzEbw6ljt",
        "outputId": "27d421b3-43aa-4d76-d886-6d52cbe10f43"
      },
      "execution_count": 321,
      "outputs": [
        {
          "output_type": "stream",
          "name": "stderr",
          "text": [
            "/usr/local/lib/python3.7/dist-packages/sklearn/utils/deprecation.py:87: FutureWarning: Function plot_confusion_matrix is deprecated; Function `plot_confusion_matrix` is deprecated in 1.0 and will be removed in 1.2. Use one of the class methods: ConfusionMatrixDisplay.from_predictions or ConfusionMatrixDisplay.from_estimator.\n",
            "  warnings.warn(msg, category=FutureWarning)\n"
          ]
        },
        {
          "output_type": "execute_result",
          "data": {
            "text/plain": [
              "<sklearn.metrics._plot.confusion_matrix.ConfusionMatrixDisplay at 0x7fb319ce7690>"
            ]
          },
          "metadata": {},
          "execution_count": 321
        },
        {
          "output_type": "display_data",
          "data": {
            "text/plain": [
              "<Figure size 432x288 with 2 Axes>"
            ],
            "image/png": "[encoded data removed]"
          },
          "metadata": {
            "needs_background": "light"
          }
        }
      ]
    },
    {
      "cell_type": "code",
      "source": [
        "plot_confusion_matrix(CV_model, data_test, target_test) "
      ],
      "metadata": {
        "colab": {
          "base_uri": "https://localhost:8080/",
          "height": 350
        },
        "id": "bf7GV5iC6oMt",
        "outputId": "533e4182-17b4-4005-d4ba-d4ec96062a0f"
      },
      "execution_count": 322,
      "outputs": [
        {
          "output_type": "stream",
          "name": "stderr",
          "text": [
            "/usr/local/lib/python3.7/dist-packages/sklearn/utils/deprecation.py:87: FutureWarning: Function plot_confusion_matrix is deprecated; Function `plot_confusion_matrix` is deprecated in 1.0 and will be removed in 1.2. Use one of the class methods: ConfusionMatrixDisplay.from_predictions or ConfusionMatrixDisplay.from_estimator.\n",
            "  warnings.warn(msg, category=FutureWarning)\n"
          ]
        },
        {
          "output_type": "execute_result",
          "data": {
            "text/plain": [
              "<sklearn.metrics._plot.confusion_matrix.ConfusionMatrixDisplay at 0x7fb319d08090>"
            ]
          },
          "metadata": {},
          "execution_count": 322
        },
        {
          "output_type": "display_data",
          "data": {
            "text/plain": [
              "<Figure size 432x288 with 2 Axes>"
            ],
            "image/png": "[encoded data removed]"
          },
          "metadata": {
            "needs_background": "light"
          }
        }
      ]
    },
    {
      "cell_type": "code",
      "source": [
        "recall_score(target_test, CV_model.predict(data_test))"
      ],
      "metadata": {
        "colab": {
          "base_uri": "https://localhost:8080/"
        },
        "id": "gY5HvGU_6qsM",
        "outputId": "5305a37e-d54f-4eef-c504-5c16b938209c"
      },
      "execution_count": 323,
      "outputs": [
        {
          "output_type": "execute_result",
          "data": {
            "text/plain": [
              "0.8130841121495327"
            ]
          },
          "metadata": {},
          "execution_count": 323
        }
      ]
    },
    {
      "cell_type": "code",
      "source": [
        "recall_score(target_train, CV_model.predict(data_train))"
      ],
      "metadata": {
        "colab": {
          "base_uri": "https://localhost:8080/"
        },
        "id": "iBuUh99h6s73",
        "outputId": "7e60a0c9-d235-4931-f94a-02f043351bcb"
      },
      "execution_count": 324,
      "outputs": [
        {
          "output_type": "execute_result",
          "data": {
            "text/plain": [
              "0.8952618453865336"
            ]
          },
          "metadata": {},
          "execution_count": 324
        }
      ]
    },
    {
      "cell_type": "code",
      "source": [
        "precision_score(target_test, CV_model.predict(data_test))"
      ],
      "metadata": {
        "colab": {
          "base_uri": "https://localhost:8080/"
        },
        "id": "V5D3sEkh6vYx",
        "outputId": "20aa7d31-cf32-4695-8d4a-d0ee8a649761"
      },
      "execution_count": 325,
      "outputs": [
        {
          "output_type": "execute_result",
          "data": {
            "text/plain": [
              "0.90625"
            ]
          },
          "metadata": {},
          "execution_count": 325
        }
      ]
    },
    {
      "cell_type": "code",
      "source": [
        "precision_score(target_train, CV_model.predict(data_train))"
      ],
      "metadata": {
        "colab": {
          "base_uri": "https://localhost:8080/"
        },
        "id": "eZC7Uwjz6xjF",
        "outputId": "7a5e27a2-2f1f-4773-b9ee-3a018f8922f3"
      },
      "execution_count": 326,
      "outputs": [
        {
          "output_type": "execute_result",
          "data": {
            "text/plain": [
              "0.8650602409638555"
            ]
          },
          "metadata": {},
          "execution_count": 326
        }
      ]
    },
    {
      "cell_type": "code",
      "source": [
        "accuracy_score(target_test, CV_model.predict(data_test))"
      ],
      "metadata": {
        "colab": {
          "base_uri": "https://localhost:8080/"
        },
        "id": "xQ6glSOL6ztD",
        "outputId": "63031a3c-95d7-4623-feb5-16e4f4415695"
      },
      "execution_count": 327,
      "outputs": [
        {
          "output_type": "execute_result",
          "data": {
            "text/plain": [
              "0.842391304347826"
            ]
          },
          "metadata": {},
          "execution_count": 327
        }
      ]
    },
    {
      "cell_type": "code",
      "source": [
        "accuracy_score(target_train, CV_model.predict(data_train))"
      ],
      "metadata": {
        "colab": {
          "base_uri": "https://localhost:8080/"
        },
        "id": "vx3T4mhe617x",
        "outputId": "1ecfde1a-f1e6-413e-d698-586cc7e9afce"
      },
      "execution_count": 328,
      "outputs": [
        {
          "output_type": "execute_result",
          "data": {
            "text/plain": [
              "0.8664850136239782"
            ]
          },
          "metadata": {},
          "execution_count": 328
        }
      ]
    },
    {
      "cell_type": "code",
      "source": [
        "with open('my_svm.pkl', 'wb') as f:\n",
        "    pickle.dump(CV_model.best_estimator_, f)"
      ],
      "metadata": {
        "id": "4kDEN8Nr64s4"
      },
      "execution_count": 329,
      "outputs": []
    },
    {
      "cell_type": "markdown",
      "source": [
        "### SVM из коробки"
      ],
      "metadata": {
        "id": "Zc33kZ7YbAQe"
      }
    },
    {
      "cell_type": "code",
      "source": [
        "from sklearn.svm import SVC"
      ],
      "metadata": {
        "id": "2_vrYS3Mb2Uw"
      },
      "execution_count": 330,
      "outputs": []
    },
    {
      "cell_type": "code",
      "source": [
        "cv_num = 5\n",
        "\n",
        "encoder = prep_pipeline = ColumnTransformer([\n",
        "        ('skew_num', PowerTransformer(standardize=True), to_skew_num_cols),\n",
        "        ('std_num', StandardScaler(), to_std_num_cols),\n",
        "        ('cat', OneHotEncoder(sparse=False, handle_unknown=\"ignore\"), cat_cols)\n",
        "])\n",
        "pipe = make_pipeline(\n",
        "    encoder,\n",
        "    SVC()\n",
        ")\n",
        "\n",
        "param_grid = {\n",
        "    \"svc__C\": [0.02, 0.1, 0.5],\n",
        "    \"svc__kernel\": [\"linear\", \"poly\", \"rbf\"],\n",
        "    \"svc__tol\": [1e-2, 5e-2]\n",
        "}\n",
        "CV_model = GridSearchCV(estimator=pipe,\n",
        "                        param_grid=param_grid,\n",
        "                        cv=cv_num,\n",
        "                        scoring=\"accuracy\",\n",
        "                        verbose=0,\n",
        "                        refit=True)"
      ],
      "metadata": {
        "id": "D8RC9lVFbDfo"
      },
      "execution_count": 331,
      "outputs": []
    },
    {
      "cell_type": "code",
      "source": [
        "CV_model.fit(data_train, target_train)"
      ],
      "metadata": {
        "colab": {
          "base_uri": "https://localhost:8080/"
        },
        "id": "YnIo6e0rbHby",
        "outputId": "cbff9cc1-a11c-489e-fd24-b625ea9c836e"
      },
      "execution_count": 332,
      "outputs": [
        {
          "output_type": "execute_result",
          "data": {
            "text/plain": [
              "GridSearchCV(cv=5,\n",
              "             estimator=Pipeline(steps=[('columntransformer',\n",
              "                                        ColumnTransformer(transformers=[('skew_num',\n",
              "                                                                         PowerTransformer(),\n",
              "                                                                         ['Cholesterol',\n",
              "                                                                          'Oldpeak']),\n",
              "                                                                        ('std_num',\n",
              "                                                                         StandardScaler(),\n",
              "                                                                         ['Age',\n",
              "                                                                          'RestingBP',\n",
              "                                                                          'MaxHR']),\n",
              "                                                                        ('cat',\n",
              "                                                                         OneHotEncoder(handle_unknown='ignore',\n",
              "                                                                                       sparse=False),\n",
              "                                                                         ['Sex',\n",
              "                                                                          'ChestPainType',\n",
              "                                                                          'FastingBS',\n",
              "                                                                          'RestingECG',\n",
              "                                                                          'ExerciseAngina',\n",
              "                                                                          'ST_Slope'])])),\n",
              "                                       ('svc', SVC())]),\n",
              "             param_grid={'svc__C': [0.02, 0.1, 0.5],\n",
              "                         'svc__kernel': ['linear', 'poly', 'rbf'],\n",
              "                         'svc__tol': [0.01, 0.05]},\n",
              "             scoring='accuracy')"
            ]
          },
          "metadata": {},
          "execution_count": 332
        }
      ]
    },
    {
      "cell_type": "code",
      "source": [
        "CV_model.best_params_"
      ],
      "metadata": {
        "colab": {
          "base_uri": "https://localhost:8080/"
        },
        "id": "7xNBmbj8bLYr",
        "outputId": "bb906928-b524-4752-c87c-0c92d7776352"
      },
      "execution_count": 333,
      "outputs": [
        {
          "output_type": "execute_result",
          "data": {
            "text/plain": [
              "{'svc__C': 0.5, 'svc__kernel': 'poly', 'svc__tol': 0.01}"
            ]
          },
          "metadata": {},
          "execution_count": 333
        }
      ]
    },
    {
      "cell_type": "code",
      "source": [
        "plot_confusion_matrix(CV_model, data_test, target_test) "
      ],
      "metadata": {
        "colab": {
          "base_uri": "https://localhost:8080/",
          "height": 350
        },
        "id": "IVjCVM75bNmH",
        "outputId": "a1a682c4-e1ba-45f9-b359-193b59b8371a"
      },
      "execution_count": 334,
      "outputs": [
        {
          "output_type": "stream",
          "name": "stderr",
          "text": [
            "/usr/local/lib/python3.7/dist-packages/sklearn/utils/deprecation.py:87: FutureWarning: Function plot_confusion_matrix is deprecated; Function `plot_confusion_matrix` is deprecated in 1.0 and will be removed in 1.2. Use one of the class methods: ConfusionMatrixDisplay.from_predictions or ConfusionMatrixDisplay.from_estimator.\n",
            "  warnings.warn(msg, category=FutureWarning)\n"
          ]
        },
        {
          "output_type": "execute_result",
          "data": {
            "text/plain": [
              "<sklearn.metrics._plot.confusion_matrix.ConfusionMatrixDisplay at 0x7fb319d1b250>"
            ]
          },
          "metadata": {},
          "execution_count": 334
        },
        {
          "output_type": "display_data",
          "data": {
            "text/plain": [
              "<Figure size 432x288 with 2 Axes>"
            ],
            "image/png": "[encoded data removed]"
          },
          "metadata": {
            "needs_background": "light"
          }
        }
      ]
    },
    {
      "cell_type": "code",
      "source": [
        "plot_confusion_matrix(CV_model, data_train, target_train) "
      ],
      "metadata": {
        "colab": {
          "base_uri": "https://localhost:8080/",
          "height": 350
        },
        "id": "k-SNuXiybP6Q",
        "outputId": "5a1ae7d1-be62-4da8-85ef-a1f451c32056"
      },
      "execution_count": 335,
      "outputs": [
        {
          "output_type": "stream",
          "name": "stderr",
          "text": [
            "/usr/local/lib/python3.7/dist-packages/sklearn/utils/deprecation.py:87: FutureWarning: Function plot_confusion_matrix is deprecated; Function `plot_confusion_matrix` is deprecated in 1.0 and will be removed in 1.2. Use one of the class methods: ConfusionMatrixDisplay.from_predictions or ConfusionMatrixDisplay.from_estimator.\n",
            "  warnings.warn(msg, category=FutureWarning)\n"
          ]
        },
        {
          "output_type": "execute_result",
          "data": {
            "text/plain": [
              "<sklearn.metrics._plot.confusion_matrix.ConfusionMatrixDisplay at 0x7fb319d1b710>"
            ]
          },
          "metadata": {},
          "execution_count": 335
        },
        {
          "output_type": "display_data",
          "data": {
            "text/plain": [
              "<Figure size 432x288 with 2 Axes>"
            ],
            "image/png": "[encoded data removed]"
          },
          "metadata": {
            "needs_background": "light"
          }
        }
      ]
    },
    {
      "cell_type": "code",
      "source": [
        "recall_score(target_test, CV_model.predict(data_test))"
      ],
      "metadata": {
        "colab": {
          "base_uri": "https://localhost:8080/"
        },
        "id": "DrxpCYACbQzy",
        "outputId": "ba1f4599-3d5b-432e-817d-62ab41993852"
      },
      "execution_count": 336,
      "outputs": [
        {
          "output_type": "execute_result",
          "data": {
            "text/plain": [
              "0.8785046728971962"
            ]
          },
          "metadata": {},
          "execution_count": 336
        }
      ]
    },
    {
      "cell_type": "code",
      "source": [
        "recall_score(target_train, CV_model.predict(data_train))"
      ],
      "metadata": {
        "colab": {
          "base_uri": "https://localhost:8080/"
        },
        "id": "GHavO1-RbkQ_",
        "outputId": "11b887ce-c9d4-4927-962f-bbdafb9ba60a"
      },
      "execution_count": 337,
      "outputs": [
        {
          "output_type": "execute_result",
          "data": {
            "text/plain": [
              "0.9351620947630923"
            ]
          },
          "metadata": {},
          "execution_count": 337
        }
      ]
    },
    {
      "cell_type": "code",
      "source": [
        "precision_score(target_test, CV_model.predict(data_test))"
      ],
      "metadata": {
        "colab": {
          "base_uri": "https://localhost:8080/"
        },
        "id": "k0AaVHkrbo0H",
        "outputId": "eb84a98d-bb35-4e2f-b2b7-e29f70864fb8"
      },
      "execution_count": 338,
      "outputs": [
        {
          "output_type": "execute_result",
          "data": {
            "text/plain": [
              "0.8952380952380953"
            ]
          },
          "metadata": {},
          "execution_count": 338
        }
      ]
    },
    {
      "cell_type": "code",
      "source": [
        "precision_score(target_train, CV_model.predict(data_train))"
      ],
      "metadata": {
        "colab": {
          "base_uri": "https://localhost:8080/"
        },
        "id": "M_Uo1LyxbpXz",
        "outputId": "200093c3-d35c-4449-d878-4675a6009f1c"
      },
      "execution_count": 339,
      "outputs": [
        {
          "output_type": "execute_result",
          "data": {
            "text/plain": [
              "0.8907363420427553"
            ]
          },
          "metadata": {},
          "execution_count": 339
        }
      ]
    },
    {
      "cell_type": "code",
      "source": [
        "accuracy_score(target_test, CV_model.predict(data_test))"
      ],
      "metadata": {
        "colab": {
          "base_uri": "https://localhost:8080/"
        },
        "id": "nyiUoHAebrk6",
        "outputId": "b69aacff-ff7e-4b9d-a62a-c0508177ab5d"
      },
      "execution_count": 340,
      "outputs": [
        {
          "output_type": "execute_result",
          "data": {
            "text/plain": [
              "0.8695652173913043"
            ]
          },
          "metadata": {},
          "execution_count": 340
        }
      ]
    },
    {
      "cell_type": "code",
      "source": [
        "accuracy_score(target_train, CV_model.predict(data_train))"
      ],
      "metadata": {
        "colab": {
          "base_uri": "https://localhost:8080/"
        },
        "id": "oqMQcxITbtkA",
        "outputId": "6d2ba603-3389-401d-ecb8-6ed7f9cbf669"
      },
      "execution_count": 341,
      "outputs": [
        {
          "output_type": "execute_result",
          "data": {
            "text/plain": [
              "0.9019073569482289"
            ]
          },
          "metadata": {},
          "execution_count": 341
        }
      ]
    },
    {
      "cell_type": "code",
      "source": [
        "with open('sklearn_svm.pkl', 'wb') as f:\n",
        "    pickle.dump(CV_model.best_estimator_, f)"
      ],
      "metadata": {
        "id": "T4jTzt9nbyKq"
      },
      "execution_count": 342,
      "outputs": []
    },
    {
      "cell_type": "markdown",
      "source": [
        "# Вывод"
      ],
      "metadata": {
        "id": "bGn8I7qlRXP_"
      }
    },
    {
      "cell_type": "markdown",
      "source": [
        "Как показали результаты, ручные реализации базовых классификаторов не сильно хуже тех, что есть в sklearn (а некоторые показали себя даже лучше). Линейные модели (логистическая регрессия и линейный SVM) на данном наборе показали себя хорошо. Нелинейный SVM показал себя тоже хорошо, но не сильно лучше линейных моделей. Хуже же всего себя показали kNN и Naive Bayes. kNN даже при небольшом числе соседей быстро переобучился, получив accuracy = 1 на тренировочной выборке, а Naive Bayes просто плохо подошел под задачу в силу своих допущений."
      ],
      "metadata": {
        "id": "0f0xhiWYRgnq"
      }
    }
  ]
}