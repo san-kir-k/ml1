{
  "nbformat": 4,
  "nbformat_minor": 0,
  "metadata": {
    "colab": {
      "name": "ml1.ipynb",
      "provenance": [],
      "collapsed_sections": [
        "yHNU64Yumgmv",
        "iQyHJxBqm7QU",
        "C9cB4PD4nNs0",
        "5lUdvTsMGICw",
        "7GUmqaagNwLx",
        "eHy7zPyaN6Ow",
        "yQuJcg3DGS_Y",
        "IVhZ_zbgODlR",
        "eqGky_jYVh60",
        "r-RnTgtgic18",
        "p1q37HofSl_g",
        "R7U_PihdZIvt",
        "Rww8-3v3a55X",
        "G9tb-KIPa86v",
        "Zc33kZ7YbAQe"
      ]
    },
    "kernelspec": {
      "name": "python3",
      "display_name": "Python 3"
    },
    "language_info": {
      "name": "python"
    }
  },
  "cells": [
    {
      "cell_type": "markdown",
      "source": [
        "## ТЗ\n",
        "Формально говоря вам предстоит сделать следующее:\n",
        "\n",
        "1) реализовать следующие алгоритмы машинного обучения: Linear/ Logistic Regression, SVM, KNN, Naive Bayes в отдельных классах \n",
        "\n",
        "2)  Данные классы должны наследоваться от BaseEstimator и  ClassifierMixin, иметь методы fit и predict (подробнее: https://scikit-learn.org/stable/developers/develop.html )\n",
        "\n",
        "3) Вы должны организовать весь процесс предобработки, обучения и тестирования с помощью Pipeline (подробнее: https://scikit-learn.org/stable/modules/compose.html)\n",
        "\n",
        "4) Вы должны настроить гиперпараметры моделей с помощью кросс валидации (GridSearchCV,RandomSearchCV, подробнее здесь: https://scikit-learn.org/stable/modules/grid_search.html), вывести и сохранить эти гиперпараметры в файл, вместе с обученными моделями\n",
        "\n",
        "5) Проделать аналогично с коробочными решениями\n",
        "\n",
        "6) Для каждой модели получить оценки метрик:Confusion Matrix,  Accuracy, Recall, Precision, ROC_AUC curve (подробнее: Hands on machine learning with python and scikit learn chapter 3, mlcourse.ai, https://ml-handbook.ru/chapters/model_evaluation/intro)\n",
        "\n",
        "7) Проанализировать полученные результаты и сделать выводы о применимости моделей\n",
        "\n",
        "8) Загрузить полученные гиперпараметры модели и обученные модели в формате pickle  на гит вместе с jupyter notebook ваших экспериментов"
      ],
      "metadata": {
        "id": "bCHjWK2FmVKa"
      }
    },
    {
      "cell_type": "markdown",
      "source": [
        "# Информация о датасете и некоторые мысли из прошлой ЛР. "
      ],
      "metadata": {
        "id": "yHNU64Yumgmv"
      }
    },
    {
      "cell_type": "markdown",
      "source": [
        "Я решил взять какой-нибудь хороший и простой для понимания датасет с kaggle для задачи классификации. Мой выбор пал на датасет для сердечных заболеваний. (https://www.kaggle.com/datasets/fedesoriano/heart-failure-prediction) \n",
        "\n",
        "В данной задаче нужно будет предсказывать, есть ли у человека проблемы с сердцем (сердечная недостаточность) или нет, т.е. задача бинарной классификации."
      ],
      "metadata": {
        "id": "neCVMTHimuS1"
      }
    },
    {
      "cell_type": "markdown",
      "source": [
        "Вот информация о признаках из данного датасета, взята из kaggle.\n",
        "\n",
        "Attribute Information\n",
        "\n",
        "Age: age of the patient [years]\n",
        "\n",
        "Sex: sex of the patient [M: Male, F: Female]\n",
        "\n",
        "ChestPainType: chest pain type [TA: Typical Angina, ATA: Atypical Angina, NAP: Non-Anginal Pain, ASY: Asymptomatic]\n",
        "\n",
        "RestingBP: resting blood pressure [mm Hg]\n",
        "\n",
        "Cholesterol: serum cholesterol [mm/dl]\n",
        "\n",
        "FastingBS: fasting blood sugar [1: if FastingBS > 120 mg/dl, 0: otherwise]\n",
        "\n",
        "RestingECG: resting electrocardiogram results [Normal: Normal, ST: having ST-T wave abnormality (T wave inversions and/or ST elevation or depression of > 0.05 mV), LVH: showing probable or definite left ventricular hypertrophy by Estes' criteria]\n",
        "\n",
        "MaxHR: maximum heart rate achieved [Numeric value between 60 and 202]\n",
        "\n",
        "ExerciseAngina: exercise-induced angina [Y: Yes, N: No]\n",
        "\n",
        "Oldpeak: oldpeak = ST [Numeric value measured in depression]\n",
        "\n",
        "ST_Slope: the slope of the peak exercise ST segment [Up: upsloping, Flat: flat, Down: downsloping]\n",
        "\n",
        "HeartDisease: output class [1: heart disease, 0: Normal]"
      ],
      "metadata": {
        "id": "Xj8AvoSsmyV9"
      }
    },
    {
      "cell_type": "markdown",
      "source": [
        "**Что нужно сделать с данными (из прошлой ЛР):**\n",
        "\n",
        "1) Сделать FastingBS категориальной\n",
        "\n",
        "2) Все категориальные фичи прогнать через OneHotEncoder.\n",
        "\n",
        "3) В пайплане для модели можно применить нормализацию числовых признаков, а также как-то уменьшить смещение Cholesterol и Oldpeak.\n",
        "\n",
        "4) Невалидных данных и NaN'ов в датасете не было.\n",
        "\n",
        "5) Таргет-признак сбалансирован, тут тоже ничего делать не надо. (хотя в процессе обучения можно поиграться с границей, начиная с которой считать человека больным, чтобы случайно не пропустить больного человека)\n",
        "\n",
        "6) Каких-то серьезных корреляций также замечено не было, так что уменьшить число признаков тут скорее всего не получится."
      ],
      "metadata": {
        "id": "iQyHJxBqm7QU"
      }
    },
    {
      "cell_type": "markdown",
      "source": [
        "# Загрузка датасета и его подготовка"
      ],
      "metadata": {
        "id": "C9cB4PD4nNs0"
      }
    },
    {
      "cell_type": "code",
      "source": [
        "import pandas as pd\n",
        "import numpy as np\n",
        "from matplotlib import pyplot as plt\n",
        "import seaborn as sns\n",
        "from sklearn.model_selection import train_test_split"
      ],
      "metadata": {
        "id": "Qugl10SPnU39"
      },
      "execution_count": 1,
      "outputs": []
    },
    {
      "cell_type": "code",
      "source": [
        "from google.colab import drive\n",
        "drive.mount('/content/gdrive/')"
      ],
      "metadata": {
        "colab": {
          "base_uri": "https://localhost:8080/"
        },
        "id": "0Ki6adr4nZde",
        "outputId": "e574f37b-38ca-4599-ac04-c5ee7be11227"
      },
      "execution_count": 2,
      "outputs": [
        {
          "output_type": "stream",
          "name": "stdout",
          "text": [
            "Mounted at /content/gdrive/\n"
          ]
        }
      ]
    },
    {
      "cell_type": "code",
      "source": [
        "data = pd.read_csv('gdrive/MyDrive/archive/heart.csv')"
      ],
      "metadata": {
        "id": "YjA-t-FAnbpV"
      },
      "execution_count": 3,
      "outputs": []
    },
    {
      "cell_type": "code",
      "source": [
        "# Числовые признаки\n",
        "num_cols = [\n",
        "    'Age',\n",
        "    'RestingBP',\n",
        "    'Cholesterol',\n",
        "    'MaxHR',\n",
        "    'Oldpeak'\n",
        "]\n",
        "\n",
        "# Категориальные признаки\n",
        "cat_cols = [\n",
        "    'Sex',\n",
        "    'ChestPainType',\n",
        "    'FastingBS',\n",
        "    'RestingECG',\n",
        "    'ExerciseAngina',\n",
        "    'ST_Slope'\n",
        "]\n",
        "\n",
        "feature_cols = num_cols + cat_cols\n",
        "target_col = 'HeartDisease'"
      ],
      "metadata": {
        "id": "H3cFZAa1ne8B"
      },
      "execution_count": 4,
      "outputs": []
    },
    {
      "cell_type": "markdown",
      "source": [
        "\"1) Сделать FastingBS категориальной\""
      ],
      "metadata": {
        "id": "rif_rnFZo6rZ"
      }
    },
    {
      "cell_type": "code",
      "source": [
        "data[\"FastingBS\"] = data[\"FastingBS\"].astype('object')"
      ],
      "metadata": {
        "id": "nH-WnEEbnifZ"
      },
      "execution_count": 5,
      "outputs": []
    },
    {
      "cell_type": "markdown",
      "source": [
        "Так как у меня один файл с данными, то я его разделю на тестовую и тренировочную, а тренировочную буду разделять при помощи кросс-валидации (если не забуду)."
      ],
      "metadata": {
        "id": "-ghfuDSNoHu1"
      }
    },
    {
      "cell_type": "code",
      "source": [
        "X = data.drop(columns=[target_col])\n",
        "y = data[target_col]\n",
        "data_train, data_test, target_train, target_test = train_test_split(X.values, y.values, \n",
        "                                                                    train_size=0.9,\n",
        "                                                                    random_state=42,\n",
        "                                                                    shuffle=True)"
      ],
      "metadata": {
        "id": "vl8GBkzXn6Tt"
      },
      "execution_count": 6,
      "outputs": []
    },
    {
      "cell_type": "markdown",
      "source": [
        "# Реализация Linear/ Logistic Regression, SVM, KNN, Naive Bayes в отдельных классах. Использование классов из sklearn. Их сравнение"
      ],
      "metadata": {
        "id": "vCi6jKKEo_NG"
      }
    },
    {
      "cell_type": "markdown",
      "source": [
        "## Logistic Regression"
      ],
      "metadata": {
        "id": "5lUdvTsMGICw"
      }
    },
    {
      "cell_type": "markdown",
      "source": [
        "### Мой класс Logistic Regression"
      ],
      "metadata": {
        "id": "7GUmqaagNwLx"
      }
    },
    {
      "cell_type": "markdown",
      "source": [
        "Импортируем некоторые полезные вещи."
      ],
      "metadata": {
        "id": "JeIv_35oyaeg"
      }
    },
    {
      "cell_type": "code",
      "source": [
        "from sklearn.base import BaseEstimator, ClassifierMixin, TransformerMixin\n",
        "from sklearn.utils.validation import check_X_y, check_array, check_is_fitted\n",
        "from sklearn.utils.multiclass import unique_labels\n",
        "from sklearn.preprocessing import StandardScaler, PowerTransformer, LabelEncoder, OneHotEncoder\n",
        "from sklearn.pipeline import make_pipeline\n",
        "from sklearn.model_selection import GridSearchCV, cross_val_score\n",
        "from sklearn.linear_model import LogisticRegression, LogisticRegressionCV\n",
        "from sklearn.metrics import accuracy_score, recall_score, precision_score\n",
        "from sklearn.metrics import roc_auc_score, roc_curve, plot_confusion_matrix\n",
        "import pickle"
      ],
      "metadata": {
        "id": "ZlU-EOpppxzv"
      },
      "execution_count": 7,
      "outputs": []
    },
    {
      "cell_type": "markdown",
      "source": [
        "Чтобы убрать ошибку \"TypeError: A sparse matrix was passed, but dense data is required.\", пришлось написать(взять со стека) класс ниже."
      ],
      "metadata": {
        "id": "C2pEKf2Cyvuq"
      }
    },
    {
      "cell_type": "code",
      "source": [
        "class DenseTransformer(TransformerMixin):\n",
        "    def fit(self, X, y=None, **fit_params):\n",
        "        return self\n",
        "\n",
        "    def transform(self, X, y=None, **fit_params):\n",
        "        return X.toarray()"
      ],
      "metadata": {
        "id": "71SfpjwcInxN"
      },
      "execution_count": 8,
      "outputs": []
    },
    {
      "cell_type": "markdown",
      "source": [
        "Класс логистической регрессии."
      ],
      "metadata": {
        "id": "VIhtHvVEyfJs"
      }
    },
    {
      "cell_type": "code",
      "source": [
        "class MyLogisticRegression(BaseEstimator, ClassifierMixin):\n",
        "    \"\"\"\n",
        "    lr - learning rate\n",
        "    C - обратный коэф регуляризации (чем меньше C, тем больше штраф)\n",
        "    bound - граница, начиная с которой объект относится к первому классу\n",
        "    max_iter - число эпох\n",
        "    \"\"\"\n",
        "    def __init__(self,  \n",
        "                 lr: float = 1e-2, \n",
        "                 C: float = 1.0,\n",
        "                 batch_size: int = 32, \n",
        "                 bound: float = 0.5,\n",
        "                 max_iter: int = 100):\n",
        "        self.lr = lr\n",
        "        self.C = C\n",
        "        self.batch_size = batch_size\n",
        "        self.bound = bound\n",
        "        self.max_iter = max_iter\n",
        "\n",
        "    @staticmethod\n",
        "    def sigmoid(v: np.ndarray):\n",
        "        return 1.0 / (1.0 + np.exp(-v))\n",
        "\n",
        "    def fit(self, X, y):\n",
        "         X, y = check_X_y(X, y)\n",
        "         self.X_ = X\n",
        "         self.y_ = y\n",
        "\n",
        "         w = np.random.normal(size=(self.X_.shape[1], ))\n",
        "         b = 0.0\n",
        "\n",
        "         for i in range(self.max_iter):\n",
        "             for batch_start in range(0, len(self.X_), self.batch_size):\n",
        "                 batch_end = batch_start + self.batch_size\n",
        "                 batch_X = self.X_[batch_start:batch_end]\n",
        "                 batch_y = self.y_[batch_start:batch_end]\n",
        "                 sigmoid_val = MyLogisticRegression.sigmoid(batch_X @ w + b)\n",
        "                 w -= (self.lr * batch_X.T @ (sigmoid_val - batch_y) + w / self.C) / self.batch_size\n",
        "                 b -= self.lr * np.sum(sigmoid_val - batch_y) / self.batch_size\n",
        "\n",
        "         self.w = w\n",
        "         self.b = b\n",
        "         return self\n",
        "\n",
        "    # нужна, чтобы заработал roc_auc scoring\n",
        "    def decision_function(self, X):\n",
        "        check_is_fitted(self)\n",
        "        X = check_array(X)\n",
        "        return X @ self.w + self.b\n",
        "\n",
        "    def predict_proba(self, X):\n",
        "        check_is_fitted(self)\n",
        "        X = check_array(X)\n",
        "        return MyLogisticRegression.sigmoid(X @ self.w + self.b)\n",
        "\n",
        "    def predict(self, X):\n",
        "         check_is_fitted(self)\n",
        "         X = check_array(X)\n",
        "         sigmoid_val = self.predict_proba(X)\n",
        "         return np.where(sigmoid_val > self.bound, 1, 0 )"
      ],
      "metadata": {
        "id": "zCx-vMpOqHig"
      },
      "execution_count": 9,
      "outputs": []
    },
    {
      "cell_type": "markdown",
      "source": [
        "Создадим pipe и при помощи GridSearchCV зададим перебор гиперпараметров по сетке."
      ],
      "metadata": {
        "id": "Hrqt-GUWzWC7"
      }
    },
    {
      "cell_type": "code",
      "source": [
        "cv_num = 5\n",
        "logreg_prefix = 'mylogisticregression__'\n",
        "\n",
        "pipe = make_pipeline(\n",
        "    OneHotEncoder(handle_unknown=\"ignore\"),\n",
        "    DenseTransformer(),\n",
        "    PowerTransformer(standardize=True),\n",
        "    MyLogisticRegression()\n",
        ")\n",
        "\n",
        "param_grid = {\n",
        "    logreg_prefix + \"lr\": [1e-04, 1e-03, 1e-02],\n",
        "    logreg_prefix + \"batch_size\": [32, 64],\n",
        "    logreg_prefix + \"C\": [1e-1, 1.0, 10.0]\n",
        "}\n",
        "CV_model = GridSearchCV(estimator=pipe,\n",
        "                        param_grid=param_grid,\n",
        "                        cv=cv_num,\n",
        "                        scoring=\"roc_auc\",\n",
        "                        verbose=0,\n",
        "                        refit=True)"
      ],
      "metadata": {
        "id": "h1dJ1efair-Y"
      },
      "execution_count": 10,
      "outputs": []
    },
    {
      "cell_type": "code",
      "source": [
        "CV_model.fit(data_train, target_train)"
      ],
      "metadata": {
        "colab": {
          "base_uri": "https://localhost:8080/"
        },
        "id": "7Q3KNbESkmmt",
        "outputId": "07ba6251-0697-481a-ad10-40773e81ffd9"
      },
      "execution_count": 11,
      "outputs": [
        {
          "output_type": "execute_result",
          "data": {
            "text/plain": [
              "GridSearchCV(cv=5,\n",
              "             estimator=Pipeline(steps=[('onehotencoder',\n",
              "                                        OneHotEncoder(handle_unknown='ignore')),\n",
              "                                       ('densetransformer',\n",
              "                                        <__main__.DenseTransformer object at 0x7f8298922350>),\n",
              "                                       ('powertransformer', PowerTransformer()),\n",
              "                                       ('mylogisticregression',\n",
              "                                        MyLogisticRegression())]),\n",
              "             param_grid={'mylogisticregression__C': [0.1, 1.0, 10.0],\n",
              "                         'mylogisticregression__batch_size': [32, 64],\n",
              "                         'mylogisticregression__lr': [0.0001, 0.001, 0.01]},\n",
              "             scoring='roc_auc')"
            ]
          },
          "metadata": {},
          "execution_count": 11
        }
      ]
    },
    {
      "cell_type": "markdown",
      "source": [
        "Посмотрим на лучшие параметры."
      ],
      "metadata": {
        "id": "7alKCrgQzvbD"
      }
    },
    {
      "cell_type": "code",
      "source": [
        "CV_model.best_params_"
      ],
      "metadata": {
        "colab": {
          "base_uri": "https://localhost:8080/"
        },
        "id": "QxPctT9tnZd3",
        "outputId": "db1f2605-57be-496e-d80e-bf3b0c542a96"
      },
      "execution_count": 12,
      "outputs": [
        {
          "output_type": "execute_result",
          "data": {
            "text/plain": [
              "{'mylogisticregression__C': 1.0,\n",
              " 'mylogisticregression__batch_size': 64,\n",
              " 'mylogisticregression__lr': 0.0001}"
            ]
          },
          "metadata": {},
          "execution_count": 12
        }
      ]
    },
    {
      "cell_type": "markdown",
      "source": [
        "Посмотрим на метрики."
      ],
      "metadata": {
        "id": "neDTdpW2z0i8"
      }
    },
    {
      "cell_type": "code",
      "source": [
        "plot_confusion_matrix(CV_model, data_train, target_train) "
      ],
      "metadata": {
        "colab": {
          "base_uri": "https://localhost:8080/",
          "height": 350
        },
        "id": "i2Woe3zq1TYd",
        "outputId": "d8fa232c-679e-4cbe-80e4-fcc819ccca36"
      },
      "execution_count": 13,
      "outputs": [
        {
          "output_type": "stream",
          "name": "stderr",
          "text": [
            "/usr/local/lib/python3.7/dist-packages/sklearn/utils/deprecation.py:87: FutureWarning: Function plot_confusion_matrix is deprecated; Function `plot_confusion_matrix` is deprecated in 1.0 and will be removed in 1.2. Use one of the class methods: ConfusionMatrixDisplay.from_predictions or ConfusionMatrixDisplay.from_estimator.\n",
            "  warnings.warn(msg, category=FutureWarning)\n"
          ]
        },
        {
          "output_type": "execute_result",
          "data": {
            "text/plain": [
              "<sklearn.metrics._plot.confusion_matrix.ConfusionMatrixDisplay at 0x7f8298ccb190>"
            ]
          },
          "metadata": {},
          "execution_count": 13
        },
        {
          "output_type": "display_data",
          "data": {
            "text/plain": [
              "<Figure size 432x288 with 2 Axes>"
            ],
            "image/png": "[encoded data removed]"
          },
          "metadata": {
            "needs_background": "light"
          }
        }
      ]
    },
    {
      "cell_type": "code",
      "source": [
        "plot_confusion_matrix(CV_model, data_test, target_test) "
      ],
      "metadata": {
        "colab": {
          "base_uri": "https://localhost:8080/",
          "height": 354
        },
        "id": "iUm15q5A1Dpo",
        "outputId": "40a5dbe7-006c-418f-987a-363ece44d0c0"
      },
      "execution_count": 14,
      "outputs": [
        {
          "output_type": "stream",
          "name": "stderr",
          "text": [
            "/usr/local/lib/python3.7/dist-packages/sklearn/utils/deprecation.py:87: FutureWarning: Function plot_confusion_matrix is deprecated; Function `plot_confusion_matrix` is deprecated in 1.0 and will be removed in 1.2. Use one of the class methods: ConfusionMatrixDisplay.from_predictions or ConfusionMatrixDisplay.from_estimator.\n",
            "  warnings.warn(msg, category=FutureWarning)\n"
          ]
        },
        {
          "output_type": "execute_result",
          "data": {
            "text/plain": [
              "<sklearn.metrics._plot.confusion_matrix.ConfusionMatrixDisplay at 0x7f8295ff8c90>"
            ]
          },
          "metadata": {},
          "execution_count": 14
        },
        {
          "output_type": "display_data",
          "data": {
            "text/plain": [
              "<Figure size 432x288 with 2 Axes>"
            ],
            "image/png": "[encoded data removed]"
          },
          "metadata": {
            "needs_background": "light"
          }
        }
      ]
    },
    {
      "cell_type": "code",
      "source": [
        "recall_score(target_test, CV_model.predict(data_test))"
      ],
      "metadata": {
        "colab": {
          "base_uri": "https://localhost:8080/"
        },
        "id": "aLcl4t9V13d9",
        "outputId": "c09e0aa5-48c8-4f8c-96e1-90e831831772"
      },
      "execution_count": 15,
      "outputs": [
        {
          "output_type": "execute_result",
          "data": {
            "text/plain": [
              "0.9259259259259259"
            ]
          },
          "metadata": {},
          "execution_count": 15
        }
      ]
    },
    {
      "cell_type": "code",
      "source": [
        "recall_score(target_train, CV_model.predict(data_train))"
      ],
      "metadata": {
        "colab": {
          "base_uri": "https://localhost:8080/"
        },
        "id": "S1KCTtdD1cpM",
        "outputId": "ff588753-7066-45e9-ee2c-65c1fd0e3d40"
      },
      "execution_count": 16,
      "outputs": [
        {
          "output_type": "execute_result",
          "data": {
            "text/plain": [
              "0.9669603524229075"
            ]
          },
          "metadata": {},
          "execution_count": 16
        }
      ]
    },
    {
      "cell_type": "code",
      "source": [
        "precision_score(target_test, CV_model.predict(data_test))"
      ],
      "metadata": {
        "colab": {
          "base_uri": "https://localhost:8080/"
        },
        "id": "xZSdpsVH2DkP",
        "outputId": "e08abcf9-0457-452a-9513-cda3d741ea39"
      },
      "execution_count": 17,
      "outputs": [
        {
          "output_type": "execute_result",
          "data": {
            "text/plain": [
              "0.8064516129032258"
            ]
          },
          "metadata": {},
          "execution_count": 17
        }
      ]
    },
    {
      "cell_type": "code",
      "source": [
        "precision_score(target_train, CV_model.predict(data_train))"
      ],
      "metadata": {
        "colab": {
          "base_uri": "https://localhost:8080/"
        },
        "id": "KAoN7M9V2Jbw",
        "outputId": "843e15b4-ca0a-4c40-a43e-45a3592ce675"
      },
      "execution_count": 18,
      "outputs": [
        {
          "output_type": "execute_result",
          "data": {
            "text/plain": [
              "0.8491295938104448"
            ]
          },
          "metadata": {},
          "execution_count": 18
        }
      ]
    },
    {
      "cell_type": "markdown",
      "source": [
        "Из метрик видно, что модель имеет precision хуже, чем recall, но так как мы пытаемся предсказывать наличие болезни, то recall в нашем слуачае более важен. (как мера того, сколько больных людей мы нащли из всего числа больных)"
      ],
      "metadata": {
        "id": "9pZPWne-39OM"
      }
    },
    {
      "cell_type": "code",
      "source": [
        "accuracy_score(target_test, CV_model.predict(data_test))"
      ],
      "metadata": {
        "colab": {
          "base_uri": "https://localhost:8080/"
        },
        "id": "2YmyHWY232wK",
        "outputId": "3bf02699-0043-4323-d8f7-8f423cad24b6"
      },
      "execution_count": 19,
      "outputs": [
        {
          "output_type": "execute_result",
          "data": {
            "text/plain": [
              "0.8260869565217391"
            ]
          },
          "metadata": {},
          "execution_count": 19
        }
      ]
    },
    {
      "cell_type": "code",
      "source": [
        "accuracy_score(target_train, CV_model.predict(data_train))"
      ],
      "metadata": {
        "colab": {
          "base_uri": "https://localhost:8080/"
        },
        "id": "JEgM9Lyq35Yc",
        "outputId": "d2f79b13-0fe3-46db-cbf3-05f1fff4a90d"
      },
      "execution_count": 20,
      "outputs": [
        {
          "output_type": "execute_result",
          "data": {
            "text/plain": [
              "0.887409200968523"
            ]
          },
          "metadata": {},
          "execution_count": 20
        }
      ]
    },
    {
      "cell_type": "code",
      "source": [
        "target_train_predicted = CV_model.predict_proba(data_train)\n",
        "target_test_predicted = CV_model.predict_proba(data_test)\n",
        "\n",
        "train_auc = roc_auc_score(target_train, target_train_predicted)\n",
        "test_auc = roc_auc_score(target_test, target_test_predicted)\n",
        "\n",
        "plt.figure(figsize=(20,10))\n",
        "plt.plot(*roc_curve(target_train, target_train_predicted)[:2], label='train AUC={:.4f}'.format(train_auc))\n",
        "plt.plot(*roc_curve(target_test, target_test_predicted)[:2], label='test AUC={:.4f}'.format(test_auc))\n",
        "legend_box = plt.legend(fontsize='large', framealpha=1).get_frame()\n",
        "legend_box.set_facecolor(\"white\")\n",
        "legend_box.set_edgecolor(\"black\")\n",
        "plt.plot(np.linspace(0,1,100), np.linspace(0,1,100))\n",
        "plt.show()"
      ],
      "metadata": {
        "colab": {
          "base_uri": "https://localhost:8080/",
          "height": 592
        },
        "id": "oYFh9zvWwnMV",
        "outputId": "52eb4682-0e36-45ca-c5e8-cad55631fe87"
      },
      "execution_count": 21,
      "outputs": [
        {
          "output_type": "display_data",
          "data": {
            "text/plain": [
              "<Figure size 1440x720 with 1 Axes>"
            ],
            "image/png": "[encoded data removed]"
          },
          "metadata": {
            "needs_background": "light"
          }
        }
      ]
    },
    {
      "cell_type": "markdown",
      "source": [
        "Как видно из метрик переобучения нет."
      ],
      "metadata": {
        "id": "7d7RaHXfz5Kx"
      }
    },
    {
      "cell_type": "markdown",
      "source": [
        "Сохраним модель."
      ],
      "metadata": {
        "id": "QuG9UumD9hNe"
      }
    },
    {
      "cell_type": "code",
      "source": [
        "with open('my_logreg.pkl', 'wb') as f:\n",
        "    pickle.dump(CV_model.best_estimator_, f)"
      ],
      "metadata": {
        "id": "3CBOZ_-R75Jr"
      },
      "execution_count": 22,
      "outputs": []
    },
    {
      "cell_type": "markdown",
      "source": [
        "### Класс Logistic Regression из коробки"
      ],
      "metadata": {
        "id": "eHy7zPyaN6Ow"
      }
    },
    {
      "cell_type": "markdown",
      "source": [
        "Повторим то же самое для логистической модели из коробки."
      ],
      "metadata": {
        "id": "p2KyOOaX7GIB"
      }
    },
    {
      "cell_type": "code",
      "source": [
        "cv_num = 5\n",
        "\n",
        "pipe = make_pipeline(\n",
        "    OneHotEncoder(handle_unknown=\"ignore\"),\n",
        "    DenseTransformer(),\n",
        "    PowerTransformer(standardize=True),\n",
        "    LogisticRegression()\n",
        ")\n",
        "\n",
        "param_grid = {\n",
        "    \"logisticregression__penalty\": [\"l2\"],\n",
        "    \"logisticregression__C\": [1e-1, 1.0, 10.0],\n",
        "    \"logisticregression__solver\": [\"lbfgs\", \"newton-cg\", \"sag\"],\n",
        "    \"logisticregression__max_iter\": [100, 300],\n",
        "    \"logisticregression__tol\": [1e-2, 1e-3]\n",
        "}\n",
        "CV_model = GridSearchCV(estimator=pipe,\n",
        "                        param_grid=param_grid,\n",
        "                        cv=cv_num,\n",
        "                        scoring=\"roc_auc\",\n",
        "                        verbose=0,\n",
        "                        refit=True)"
      ],
      "metadata": {
        "id": "oMCOmNkIGdBU"
      },
      "execution_count": 23,
      "outputs": []
    },
    {
      "cell_type": "code",
      "source": [
        "CV_model.fit(data_train, target_train)"
      ],
      "metadata": {
        "colab": {
          "base_uri": "https://localhost:8080/"
        },
        "id": "BMK-UuM1H8MB",
        "outputId": "d6d2a0a8-389f-4a61-d1b2-ee8f603d7b2f"
      },
      "execution_count": 24,
      "outputs": [
        {
          "output_type": "stream",
          "name": "stderr",
          "text": [
            "/usr/local/lib/python3.7/dist-packages/sklearn/linear_model/_sag.py:354: ConvergenceWarning: The max_iter was reached which means the coef_ did not converge\n",
            "  ConvergenceWarning,\n",
            "/usr/local/lib/python3.7/dist-packages/sklearn/linear_model/_sag.py:354: ConvergenceWarning: The max_iter was reached which means the coef_ did not converge\n",
            "  ConvergenceWarning,\n",
            "/usr/local/lib/python3.7/dist-packages/sklearn/linear_model/_sag.py:354: ConvergenceWarning: The max_iter was reached which means the coef_ did not converge\n",
            "  ConvergenceWarning,\n",
            "/usr/local/lib/python3.7/dist-packages/sklearn/linear_model/_sag.py:354: ConvergenceWarning: The max_iter was reached which means the coef_ did not converge\n",
            "  ConvergenceWarning,\n",
            "/usr/local/lib/python3.7/dist-packages/sklearn/linear_model/_sag.py:354: ConvergenceWarning: The max_iter was reached which means the coef_ did not converge\n",
            "  ConvergenceWarning,\n",
            "/usr/local/lib/python3.7/dist-packages/sklearn/linear_model/_sag.py:354: ConvergenceWarning: The max_iter was reached which means the coef_ did not converge\n",
            "  ConvergenceWarning,\n",
            "/usr/local/lib/python3.7/dist-packages/sklearn/linear_model/_sag.py:354: ConvergenceWarning: The max_iter was reached which means the coef_ did not converge\n",
            "  ConvergenceWarning,\n",
            "/usr/local/lib/python3.7/dist-packages/sklearn/linear_model/_sag.py:354: ConvergenceWarning: The max_iter was reached which means the coef_ did not converge\n",
            "  ConvergenceWarning,\n",
            "/usr/local/lib/python3.7/dist-packages/sklearn/linear_model/_sag.py:354: ConvergenceWarning: The max_iter was reached which means the coef_ did not converge\n",
            "  ConvergenceWarning,\n",
            "/usr/local/lib/python3.7/dist-packages/sklearn/linear_model/_sag.py:354: ConvergenceWarning: The max_iter was reached which means the coef_ did not converge\n",
            "  ConvergenceWarning,\n"
          ]
        },
        {
          "output_type": "execute_result",
          "data": {
            "text/plain": [
              "GridSearchCV(cv=5,\n",
              "             estimator=Pipeline(steps=[('onehotencoder',\n",
              "                                        OneHotEncoder(handle_unknown='ignore')),\n",
              "                                       ('densetransformer',\n",
              "                                        <__main__.DenseTransformer object at 0x7f8295ae1d10>),\n",
              "                                       ('powertransformer', PowerTransformer()),\n",
              "                                       ('logisticregression',\n",
              "                                        LogisticRegression())]),\n",
              "             param_grid={'logisticregression__C': [0.1, 1.0, 10.0],\n",
              "                         'logisticregression__max_iter': [100, 300],\n",
              "                         'logisticregression__penalty': ['l2'],\n",
              "                         'logisticregression__solver': ['lbfgs', 'newton-cg',\n",
              "                                                        'sag'],\n",
              "                         'logisticregression__tol': [0.01, 0.001]},\n",
              "             scoring='roc_auc')"
            ]
          },
          "metadata": {},
          "execution_count": 24
        }
      ]
    },
    {
      "cell_type": "markdown",
      "source": [
        "Посмотрим на лучшие параметры."
      ],
      "metadata": {
        "id": "Guy-eR7w7MQF"
      }
    },
    {
      "cell_type": "code",
      "source": [
        "CV_model.best_params_"
      ],
      "metadata": {
        "colab": {
          "base_uri": "https://localhost:8080/"
        },
        "id": "-NOLheVoH-7N",
        "outputId": "ee6d409f-e6a5-47f4-a08a-05ac39b9d74e"
      },
      "execution_count": 25,
      "outputs": [
        {
          "output_type": "execute_result",
          "data": {
            "text/plain": [
              "{'logisticregression__C': 0.1,\n",
              " 'logisticregression__max_iter': 300,\n",
              " 'logisticregression__penalty': 'l2',\n",
              " 'logisticregression__solver': 'sag',\n",
              " 'logisticregression__tol': 0.01}"
            ]
          },
          "metadata": {},
          "execution_count": 25
        }
      ]
    },
    {
      "cell_type": "markdown",
      "source": [
        "Посмотрим на метрики."
      ],
      "metadata": {
        "id": "ipgvg0AK7PGb"
      }
    },
    {
      "cell_type": "code",
      "source": [
        "plot_confusion_matrix(CV_model, data_test, target_test) "
      ],
      "metadata": {
        "colab": {
          "base_uri": "https://localhost:8080/",
          "height": 350
        },
        "id": "5hQSzdjs7UCA",
        "outputId": "da2bec39-3341-4cb9-94c2-c69d7081a916"
      },
      "execution_count": 26,
      "outputs": [
        {
          "output_type": "stream",
          "name": "stderr",
          "text": [
            "/usr/local/lib/python3.7/dist-packages/sklearn/utils/deprecation.py:87: FutureWarning: Function plot_confusion_matrix is deprecated; Function `plot_confusion_matrix` is deprecated in 1.0 and will be removed in 1.2. Use one of the class methods: ConfusionMatrixDisplay.from_predictions or ConfusionMatrixDisplay.from_estimator.\n",
            "  warnings.warn(msg, category=FutureWarning)\n"
          ]
        },
        {
          "output_type": "execute_result",
          "data": {
            "text/plain": [
              "<sklearn.metrics._plot.confusion_matrix.ConfusionMatrixDisplay at 0x7f82959fd310>"
            ]
          },
          "metadata": {},
          "execution_count": 26
        },
        {
          "output_type": "display_data",
          "data": {
            "text/plain": [
              "<Figure size 432x288 with 2 Axes>"
            ],
            "image/png": "[encoded data removed]"
          },
          "metadata": {
            "needs_background": "light"
          }
        }
      ]
    },
    {
      "cell_type": "code",
      "source": [
        "plot_confusion_matrix(CV_model, data_train, target_train) "
      ],
      "metadata": {
        "colab": {
          "base_uri": "https://localhost:8080/",
          "height": 350
        },
        "id": "8Riy83s07UyC",
        "outputId": "d5864c35-9dce-4245-ce05-105ca81eed81"
      },
      "execution_count": 27,
      "outputs": [
        {
          "output_type": "stream",
          "name": "stderr",
          "text": [
            "/usr/local/lib/python3.7/dist-packages/sklearn/utils/deprecation.py:87: FutureWarning: Function plot_confusion_matrix is deprecated; Function `plot_confusion_matrix` is deprecated in 1.0 and will be removed in 1.2. Use one of the class methods: ConfusionMatrixDisplay.from_predictions or ConfusionMatrixDisplay.from_estimator.\n",
            "  warnings.warn(msg, category=FutureWarning)\n"
          ]
        },
        {
          "output_type": "execute_result",
          "data": {
            "text/plain": [
              "<sklearn.metrics._plot.confusion_matrix.ConfusionMatrixDisplay at 0x7f8295984350>"
            ]
          },
          "metadata": {},
          "execution_count": 27
        },
        {
          "output_type": "display_data",
          "data": {
            "text/plain": [
              "<Figure size 432x288 with 2 Axes>"
            ],
            "image/png": "[encoded data removed]"
          },
          "metadata": {
            "needs_background": "light"
          }
        }
      ]
    },
    {
      "cell_type": "code",
      "source": [
        "recall_score(target_test, CV_model.predict(data_test))"
      ],
      "metadata": {
        "colab": {
          "base_uri": "https://localhost:8080/"
        },
        "id": "54yToDhP7ePM",
        "outputId": "bd0ed8da-a7bc-4d07-a1e9-0262eceb729e"
      },
      "execution_count": 28,
      "outputs": [
        {
          "output_type": "execute_result",
          "data": {
            "text/plain": [
              "0.7777777777777778"
            ]
          },
          "metadata": {},
          "execution_count": 28
        }
      ]
    },
    {
      "cell_type": "code",
      "source": [
        "recall_score(target_train, CV_model.predict(data_train))"
      ],
      "metadata": {
        "colab": {
          "base_uri": "https://localhost:8080/"
        },
        "id": "muFtoqLk7e2Q",
        "outputId": "8d3387a4-b058-44b1-beb8-8a17ea7e41f5"
      },
      "execution_count": 29,
      "outputs": [
        {
          "output_type": "execute_result",
          "data": {
            "text/plain": [
              "0.9801762114537445"
            ]
          },
          "metadata": {},
          "execution_count": 29
        }
      ]
    },
    {
      "cell_type": "code",
      "source": [
        "precision_score(target_test, CV_model.predict(data_test))"
      ],
      "metadata": {
        "colab": {
          "base_uri": "https://localhost:8080/"
        },
        "id": "0J4E_JpEGsGp",
        "outputId": "ee162eef-0ab1-4f03-f6a8-636885af4361"
      },
      "execution_count": 30,
      "outputs": [
        {
          "output_type": "execute_result",
          "data": {
            "text/plain": [
              "0.8571428571428571"
            ]
          },
          "metadata": {},
          "execution_count": 30
        }
      ]
    },
    {
      "cell_type": "code",
      "source": [
        "precision_score(target_train, CV_model.predict(data_train))"
      ],
      "metadata": {
        "colab": {
          "base_uri": "https://localhost:8080/"
        },
        "id": "94JMsMw6Gs4l",
        "outputId": "f7cfd19c-3152-48cf-f6fd-0acb8e6e4e68"
      },
      "execution_count": 31,
      "outputs": [
        {
          "output_type": "execute_result",
          "data": {
            "text/plain": [
              "0.973741794310722"
            ]
          },
          "metadata": {},
          "execution_count": 31
        }
      ]
    },
    {
      "cell_type": "code",
      "source": [
        "accuracy_score(target_test, CV_model.predict(data_test))"
      ],
      "metadata": {
        "colab": {
          "base_uri": "https://localhost:8080/"
        },
        "id": "s7eBrx-UIB08",
        "outputId": "2f1aa310-7c0e-456a-edc5-dcf2ad14a379"
      },
      "execution_count": 32,
      "outputs": [
        {
          "output_type": "execute_result",
          "data": {
            "text/plain": [
              "0.7934782608695652"
            ]
          },
          "metadata": {},
          "execution_count": 32
        }
      ]
    },
    {
      "cell_type": "code",
      "source": [
        "accuracy_score(target_train, CV_model.predict(data_train))"
      ],
      "metadata": {
        "colab": {
          "base_uri": "https://localhost:8080/"
        },
        "id": "g5Eed-EwIDsf",
        "outputId": "81d9f42b-1a44-4269-b9f2-10e3de729999"
      },
      "execution_count": 33,
      "outputs": [
        {
          "output_type": "execute_result",
          "data": {
            "text/plain": [
              "0.9745762711864406"
            ]
          },
          "metadata": {},
          "execution_count": 33
        }
      ]
    },
    {
      "cell_type": "code",
      "source": [
        "target_train_predicted = CV_model.predict_proba(data_train)[:, 1]\n",
        "target_test_predicted = CV_model.predict_proba(data_test)[:, 1]\n",
        "\n",
        "train_auc = roc_auc_score(target_train, target_train_predicted)\n",
        "test_auc = roc_auc_score(target_test, target_test_predicted)\n",
        "\n",
        "plt.figure(figsize=(20,10))\n",
        "plt.plot(*roc_curve(target_train, target_train_predicted)[:2], label='train AUC={:.4f}'.format(train_auc))\n",
        "plt.plot(*roc_curve(target_test, target_test_predicted)[:2], label='test AUC={:.4f}'.format(test_auc))\n",
        "legend_box = plt.legend(fontsize='large', framealpha=1).get_frame()\n",
        "legend_box.set_facecolor(\"white\")\n",
        "legend_box.set_edgecolor(\"black\")\n",
        "plt.plot(np.linspace(0,1,100), np.linspace(0,1,100))\n",
        "plt.show()"
      ],
      "metadata": {
        "colab": {
          "base_uri": "https://localhost:8080/",
          "height": 592
        },
        "id": "2gAnASIrIFvM",
        "outputId": "32a33618-c005-43a1-d016-5b2010034912"
      },
      "execution_count": 34,
      "outputs": [
        {
          "output_type": "display_data",
          "data": {
            "text/plain": [
              "<Figure size 1440x720 with 1 Axes>"
            ],
            "image/png": "[encoded data removed]"
          },
          "metadata": {
            "needs_background": "light"
          }
        }
      ]
    },
    {
      "cell_type": "markdown",
      "source": [
        "На модели из коробки видно переобучение, также можно заметить, что recall < precision, что, как я писал выше, не очень хорошо для нашей задачи. "
      ],
      "metadata": {
        "id": "gWC39MEnBQgu"
      }
    },
    {
      "cell_type": "markdown",
      "source": [
        "Сохраним модель."
      ],
      "metadata": {
        "id": "fg7JHfPHBd5e"
      }
    },
    {
      "cell_type": "code",
      "source": [
        "with open('sklearn_logreg.pkl', 'wb') as f:\n",
        "    pickle.dump(CV_model.best_estimator_, f)"
      ],
      "metadata": {
        "id": "ko39_fCL-zai"
      },
      "execution_count": 35,
      "outputs": []
    },
    {
      "cell_type": "markdown",
      "source": [
        "По итогу оказалось, что самописная модель показала себя лучше"
      ],
      "metadata": {
        "id": "3nbzTLM_BgGC"
      }
    },
    {
      "cell_type": "markdown",
      "source": [
        "## Naive Bayes"
      ],
      "metadata": {
        "id": "yQuJcg3DGS_Y"
      }
    },
    {
      "cell_type": "markdown",
      "source": [
        "### Мой класс Naive Bayes"
      ],
      "metadata": {
        "id": "IVhZ_zbgODlR"
      }
    },
    {
      "cell_type": "markdown",
      "source": [
        "Напишем класс NaiveBayes. Будем продполагать, что все признаки имеют нормальное распределение, а также все признаки независимы."
      ],
      "metadata": {
        "id": "l_UIxb8vCZoE"
      }
    },
    {
      "cell_type": "code",
      "source": [
        "from scipy.stats import norm"
      ],
      "metadata": {
        "id": "hxhqRT5Q4DVG"
      },
      "execution_count": 36,
      "outputs": []
    },
    {
      "cell_type": "code",
      "source": [
        "class MyNaiveBayes(BaseEstimator, ClassifierMixin):\n",
        "    # Bayes th: P(y=C|X) == P(X|y=C)P(y=C) / P(X)\n",
        "    # возьмем логарифм от формулы, чтобы избежать взрыва экспоненты\n",
        "    def fit(self, X, y):\n",
        "        X, y = check_X_y(X, y)\n",
        "\n",
        "        self.unique_labels = np.unique(y)\n",
        "        self.X_ = X\n",
        "        self.y_ = y    \n",
        "        self.smooth = 1e-3 \n",
        "\n",
        "        # Считаем P(X|y=C) для каждого признака и каждой метки класса\n",
        "        self.X_depends_on_Y = {} \n",
        "        for label in self.unique_labels:\n",
        "            distributions = []\n",
        "            for i in range(X.shape[1]):\n",
        "                feature = X[y == label, i].flatten()\n",
        "                # считаем среднне и дисперсию и добавляем нормальное распределение\n",
        "                distributions.append(norm(loc=feature.mean(), scale=(feature.std() + self.smooth)))\n",
        "            self.X_depends_on_Y[label] = distributions\n",
        "\n",
        "        # Считаем P(y=C), как выборочную вероятность\n",
        "        self.Y_probs = {label: sum((y == label)).astype(float) / len(y) for label in self.unique_labels}\n",
        "    \n",
        "    def predict(self, X):\n",
        "        check_is_fitted(self)\n",
        "        X = check_array(X)\n",
        "\n",
        "        probs = np.zeros((X.shape[0], len(self.unique_labels)), dtype=float)\n",
        "        X_probs = np.ones((X.shape[0], len(self.unique_labels)), dtype=float)\n",
        "\n",
        "        # Считаем числитель формулы Байеса\n",
        "        for i, label in enumerate(self.unique_labels):\n",
        "            for j in range(X.shape[1]):\n",
        "                probs[:, i] += np.log(self.X_depends_on_Y[label][j].pdf(X[:, j]) + self.smooth)\n",
        "            probs[:, i] += np.log(self.Y_probs[label] + self.smooth)\n",
        "\n",
        "        # Я решил не делить на знаменатель формулы, так как у меня на этом моменте все почему-то ломалось,\n",
        "        # и классификатор всегда предсказывал 0-ой класс + случались переполнения в произведении\n",
        "        # так хоть работает, но метода predict_proba нет, поэтому не заработала roc_auc_score\n",
        "\n",
        "        # Деление на P(X) по факту не влияет на ответ, только делает из числа вероятность\n",
        "\n",
        "        return np.array(probs.argmax(axis=1))  "
      ],
      "metadata": {
        "id": "8TJ_8k3OM1FN"
      },
      "execution_count": 37,
      "outputs": []
    },
    {
      "cell_type": "markdown",
      "source": [
        "Также создадим pipe и обучим модель, используя кросс-валидацию."
      ],
      "metadata": {
        "id": "kz82FMoXKrVL"
      }
    },
    {
      "cell_type": "code",
      "source": [
        "cv_num = 5\n",
        "\n",
        "pipe = make_pipeline(\n",
        "    OneHotEncoder(handle_unknown=\"ignore\"),\n",
        "    DenseTransformer(),\n",
        "    PowerTransformer(standardize=False),\n",
        "    MyNaiveBayes()\n",
        ")\n",
        "\n",
        "param_grid = dict()\n",
        "\n",
        "CV_model = GridSearchCV(estimator=pipe,\n",
        "                        param_grid=param_grid,\n",
        "                        cv=cv_num,\n",
        "                        scoring=\"accuracy\",\n",
        "                        verbose=0,\n",
        "                        refit=True)"
      ],
      "metadata": {
        "id": "ac_47f9plMNJ"
      },
      "execution_count": 38,
      "outputs": []
    },
    {
      "cell_type": "code",
      "source": [
        "CV_model.fit(data_train, target_train)"
      ],
      "metadata": {
        "colab": {
          "base_uri": "https://localhost:8080/"
        },
        "id": "9pJIa3FrMBai",
        "outputId": "72732299-3664-45fe-8fab-935cd056e159"
      },
      "execution_count": 39,
      "outputs": [
        {
          "output_type": "execute_result",
          "data": {
            "text/plain": [
              "GridSearchCV(cv=5,\n",
              "             estimator=Pipeline(steps=[('onehotencoder',\n",
              "                                        OneHotEncoder(handle_unknown='ignore')),\n",
              "                                       ('densetransformer',\n",
              "                                        <__main__.DenseTransformer object at 0x7f829580e4d0>),\n",
              "                                       ('powertransformer',\n",
              "                                        PowerTransformer(standardize=False)),\n",
              "                                       ('mynaivebayes', MyNaiveBayes())]),\n",
              "             param_grid={}, scoring='accuracy')"
            ]
          },
          "metadata": {},
          "execution_count": 39
        }
      ]
    },
    {
      "cell_type": "markdown",
      "source": [
        "Посморим на метрики"
      ],
      "metadata": {
        "id": "4q6pEDedK1Jt"
      }
    },
    {
      "cell_type": "code",
      "source": [
        "plot_confusion_matrix(CV_model, data_test, target_test) "
      ],
      "metadata": {
        "colab": {
          "base_uri": "https://localhost:8080/",
          "height": 350
        },
        "id": "OpMCOUBfGbkQ",
        "outputId": "d979abf5-fd7d-445a-e7dd-1bddd5753b06"
      },
      "execution_count": 40,
      "outputs": [
        {
          "output_type": "stream",
          "name": "stderr",
          "text": [
            "/usr/local/lib/python3.7/dist-packages/sklearn/utils/deprecation.py:87: FutureWarning: Function plot_confusion_matrix is deprecated; Function `plot_confusion_matrix` is deprecated in 1.0 and will be removed in 1.2. Use one of the class methods: ConfusionMatrixDisplay.from_predictions or ConfusionMatrixDisplay.from_estimator.\n",
            "  warnings.warn(msg, category=FutureWarning)\n"
          ]
        },
        {
          "output_type": "execute_result",
          "data": {
            "text/plain": [
              "<sklearn.metrics._plot.confusion_matrix.ConfusionMatrixDisplay at 0x7f8295a05a90>"
            ]
          },
          "metadata": {},
          "execution_count": 40
        },
        {
          "output_type": "display_data",
          "data": {
            "text/plain": [
              "<Figure size 432x288 with 2 Axes>"
            ],
            "image/png": "[encoded data removed]"
          },
          "metadata": {
            "needs_background": "light"
          }
        }
      ]
    },
    {
      "cell_type": "code",
      "source": [
        "plot_confusion_matrix(CV_model, data_train, target_train) "
      ],
      "metadata": {
        "colab": {
          "base_uri": "https://localhost:8080/",
          "height": 350
        },
        "id": "MZ0Z6SQdGcT4",
        "outputId": "73220c35-25ce-49ad-cd3c-7d295daa4528"
      },
      "execution_count": 41,
      "outputs": [
        {
          "output_type": "stream",
          "name": "stderr",
          "text": [
            "/usr/local/lib/python3.7/dist-packages/sklearn/utils/deprecation.py:87: FutureWarning: Function plot_confusion_matrix is deprecated; Function `plot_confusion_matrix` is deprecated in 1.0 and will be removed in 1.2. Use one of the class methods: ConfusionMatrixDisplay.from_predictions or ConfusionMatrixDisplay.from_estimator.\n",
            "  warnings.warn(msg, category=FutureWarning)\n"
          ]
        },
        {
          "output_type": "execute_result",
          "data": {
            "text/plain": [
              "<sklearn.metrics._plot.confusion_matrix.ConfusionMatrixDisplay at 0x7f82958640d0>"
            ]
          },
          "metadata": {},
          "execution_count": 41
        },
        {
          "output_type": "display_data",
          "data": {
            "text/plain": [
              "<Figure size 432x288 with 2 Axes>"
            ],
            "image/png": "[encoded data removed]"
          },
          "metadata": {
            "needs_background": "light"
          }
        }
      ]
    },
    {
      "cell_type": "code",
      "source": [
        "recall_score(target_test, CV_model.predict(data_test))"
      ],
      "metadata": {
        "colab": {
          "base_uri": "https://localhost:8080/"
        },
        "id": "Q3FT4OITGfcX",
        "outputId": "ef3695b2-cd23-45d5-f5b8-5f1eb59b7b32"
      },
      "execution_count": 42,
      "outputs": [
        {
          "output_type": "execute_result",
          "data": {
            "text/plain": [
              "0.7777777777777778"
            ]
          },
          "metadata": {},
          "execution_count": 42
        }
      ]
    },
    {
      "cell_type": "code",
      "source": [
        "recall_score(target_train, CV_model.predict(data_train))"
      ],
      "metadata": {
        "colab": {
          "base_uri": "https://localhost:8080/"
        },
        "id": "WRBbDadyJlRP",
        "outputId": "a45205bd-8dd9-48d3-dce5-3d9885ca0f67"
      },
      "execution_count": 43,
      "outputs": [
        {
          "output_type": "execute_result",
          "data": {
            "text/plain": [
              "0.8524229074889867"
            ]
          },
          "metadata": {},
          "execution_count": 43
        }
      ]
    },
    {
      "cell_type": "code",
      "source": [
        "precision_score(target_test, CV_model.predict(data_test))"
      ],
      "metadata": {
        "colab": {
          "base_uri": "https://localhost:8080/"
        },
        "id": "zt7rK9A3JoZb",
        "outputId": "520d0eba-9651-4f3b-c9c0-f3d8072038c3"
      },
      "execution_count": 44,
      "outputs": [
        {
          "output_type": "execute_result",
          "data": {
            "text/plain": [
              "0.8936170212765957"
            ]
          },
          "metadata": {},
          "execution_count": 44
        }
      ]
    },
    {
      "cell_type": "code",
      "source": [
        "precision_score(target_train, CV_model.predict(data_train))"
      ],
      "metadata": {
        "colab": {
          "base_uri": "https://localhost:8080/"
        },
        "id": "_PBvRsW5JsAv",
        "outputId": "ac3d7ea2-7519-4cee-b6f0-114bd15c12d3"
      },
      "execution_count": 45,
      "outputs": [
        {
          "output_type": "execute_result",
          "data": {
            "text/plain": [
              "0.9020979020979021"
            ]
          },
          "metadata": {},
          "execution_count": 45
        }
      ]
    },
    {
      "cell_type": "markdown",
      "source": [
        "Precision > recall, что опять же не очень хорошо в рамках нашей задачи."
      ],
      "metadata": {
        "id": "9axNouu2fyGK"
      }
    },
    {
      "cell_type": "code",
      "source": [
        "accuracy_score(target_train, CV_model.predict(data_train))"
      ],
      "metadata": {
        "colab": {
          "base_uri": "https://localhost:8080/"
        },
        "id": "kBs6u2p5FTTV",
        "outputId": "99bb5ae3-805c-4828-d588-3bd9c37501a5"
      },
      "execution_count": 46,
      "outputs": [
        {
          "output_type": "execute_result",
          "data": {
            "text/plain": [
              "0.8680387409200968"
            ]
          },
          "metadata": {},
          "execution_count": 46
        }
      ]
    },
    {
      "cell_type": "code",
      "source": [
        "accuracy_score(target_test, CV_model.predict(data_test))"
      ],
      "metadata": {
        "colab": {
          "base_uri": "https://localhost:8080/"
        },
        "id": "e5hOUB9DFPh9",
        "outputId": "db324b6c-f7f0-46b9-f7ae-5407e583032b"
      },
      "execution_count": 47,
      "outputs": [
        {
          "output_type": "execute_result",
          "data": {
            "text/plain": [
              "0.8152173913043478"
            ]
          },
          "metadata": {},
          "execution_count": 47
        }
      ]
    },
    {
      "cell_type": "markdown",
      "source": [
        "Судя по метрикам переобучения нет. "
      ],
      "metadata": {
        "id": "qBQJeGuKgDV3"
      }
    },
    {
      "cell_type": "code",
      "source": [
        "with open('my_nb.pkl', 'wb') as f:\n",
        "    pickle.dump(CV_model.best_estimator_, f)"
      ],
      "metadata": {
        "id": "KNMOA73MJ0OY"
      },
      "execution_count": 48,
      "outputs": []
    },
    {
      "cell_type": "markdown",
      "source": [
        "### Класс NaiveBayes из коробки"
      ],
      "metadata": {
        "id": "eqGky_jYVh60"
      }
    },
    {
      "cell_type": "code",
      "source": [
        "from sklearn.naive_bayes import GaussianNB"
      ],
      "metadata": {
        "id": "uUVBafjHVyvH"
      },
      "execution_count": 49,
      "outputs": []
    },
    {
      "cell_type": "code",
      "source": [
        "cv_num = 5\n",
        "\n",
        "pipe = make_pipeline(\n",
        "    OneHotEncoder(handle_unknown=\"ignore\"),\n",
        "    DenseTransformer(),\n",
        "    PowerTransformer(standardize=False),\n",
        "    GaussianNB()\n",
        ")\n",
        "\n",
        "param_grid = dict()\n",
        "CV_model = GridSearchCV(estimator=pipe,\n",
        "                        param_grid=param_grid,\n",
        "                        cv=cv_num,\n",
        "                        scoring=\"accuracy\",\n",
        "                        verbose=0,\n",
        "                        refit=True)"
      ],
      "metadata": {
        "id": "y1H-LaGVWBau"
      },
      "execution_count": 50,
      "outputs": []
    },
    {
      "cell_type": "code",
      "source": [
        "CV_model.fit(data_train, target_train)"
      ],
      "metadata": {
        "colab": {
          "base_uri": "https://localhost:8080/"
        },
        "id": "Aw-6VkNSWO7g",
        "outputId": "88ca9024-1621-4dc0-9e3e-64c4c67d9d3c"
      },
      "execution_count": 51,
      "outputs": [
        {
          "output_type": "execute_result",
          "data": {
            "text/plain": [
              "GridSearchCV(cv=5,\n",
              "             estimator=Pipeline(steps=[('onehotencoder',\n",
              "                                        OneHotEncoder(handle_unknown='ignore')),\n",
              "                                       ('densetransformer',\n",
              "                                        <__main__.DenseTransformer object at 0x7f8294e20b90>),\n",
              "                                       ('powertransformer',\n",
              "                                        PowerTransformer(standardize=False)),\n",
              "                                       ('gaussiannb', GaussianNB())]),\n",
              "             param_grid={}, scoring='accuracy')"
            ]
          },
          "metadata": {},
          "execution_count": 51
        }
      ]
    },
    {
      "cell_type": "code",
      "source": [
        "plot_confusion_matrix(CV_model, data_test, target_test) "
      ],
      "metadata": {
        "colab": {
          "base_uri": "https://localhost:8080/",
          "height": 105
        },
        "id": "ah42IkhdWXSL",
        "outputId": "1cd8812e-da39-43b0-bf84-577e774bcd31"
      },
      "execution_count": 52,
      "outputs": [
        {
          "output_type": "stream",
          "name": "stderr",
          "text": [
            "/usr/local/lib/python3.7/dist-packages/sklearn/utils/deprecation.py:87: FutureWarning: Function plot_confusion_matrix is deprecated; Function `plot_confusion_matrix` is deprecated in 1.0 and will be removed in 1.2. Use one of the class methods: ConfusionMatrixDisplay.from_predictions or ConfusionMatrixDisplay.from_estimator.\n",
            "  warnings.warn(msg, category=FutureWarning)\n"
          ]
        },
        {
          "output_type": "execute_result",
          "data": {
            "text/plain": [
              "<sklearn.metrics._plot.confusion_matrix.ConfusionMatrixDisplay at 0x7f82b451f4d0>"
            ]
          },
          "metadata": {},
          "execution_count": 52
        },
        {
          "output_type": "display_data",
          "data": {
            "text/plain": [
              "<Figure size 432x288 with 2 Axes>"
            ],
            "image/png": "[encoded data removed]"
          },
          "metadata": {
            "needs_background": "light"
          }
        }
      ]
    },
    {
      "cell_type": "code",
      "source": [
        "plot_confusion_matrix(CV_model, data_train, target_train) "
      ],
      "metadata": {
        "colab": {
          "base_uri": "https://localhost:8080/",
          "height": 105
        },
        "id": "N8cFeDRrWX-Z",
        "outputId": "9e2fedc4-b14d-44b9-f2d4-9aa2ca401d4c"
      },
      "execution_count": 53,
      "outputs": [
        {
          "output_type": "stream",
          "name": "stderr",
          "text": [
            "/usr/local/lib/python3.7/dist-packages/sklearn/utils/deprecation.py:87: FutureWarning: Function plot_confusion_matrix is deprecated; Function `plot_confusion_matrix` is deprecated in 1.0 and will be removed in 1.2. Use one of the class methods: ConfusionMatrixDisplay.from_predictions or ConfusionMatrixDisplay.from_estimator.\n",
            "  warnings.warn(msg, category=FutureWarning)\n"
          ]
        },
        {
          "output_type": "execute_result",
          "data": {
            "text/plain": [
              "<sklearn.metrics._plot.confusion_matrix.ConfusionMatrixDisplay at 0x7f8294de8110>"
            ]
          },
          "metadata": {},
          "execution_count": 53
        },
        {
          "output_type": "display_data",
          "data": {
            "text/plain": [
              "<Figure size 432x288 with 2 Axes>"
            ],
            "image/png": "[encoded data removed]"
          },
          "metadata": {
            "needs_background": "light"
          }
        }
      ]
    },
    {
      "cell_type": "code",
      "source": [
        "recall_score(target_test, CV_model.predict(data_test))"
      ],
      "metadata": {
        "colab": {
          "base_uri": "https://localhost:8080/"
        },
        "id": "VJNGSFEUWa0c",
        "outputId": "ec90ab5b-96fa-4f53-e8d9-6992262c9193"
      },
      "execution_count": 54,
      "outputs": [
        {
          "output_type": "execute_result",
          "data": {
            "text/plain": [
              "0.6296296296296297"
            ]
          },
          "metadata": {},
          "execution_count": 54
        }
      ]
    },
    {
      "cell_type": "code",
      "source": [
        "recall_score(target_train, CV_model.predict(data_train))"
      ],
      "metadata": {
        "colab": {
          "base_uri": "https://localhost:8080/"
        },
        "id": "aN7P8KMTWdS6",
        "outputId": "7339d905-c778-4b8a-dff6-be1f32a7ecc0"
      },
      "execution_count": 55,
      "outputs": [
        {
          "output_type": "execute_result",
          "data": {
            "text/plain": [
              "0.8127753303964758"
            ]
          },
          "metadata": {},
          "execution_count": 55
        }
      ]
    },
    {
      "cell_type": "code",
      "source": [
        "precision_score(target_test, CV_model.predict(data_test))"
      ],
      "metadata": {
        "colab": {
          "base_uri": "https://localhost:8080/"
        },
        "id": "BoPWKee_Wf7F",
        "outputId": "7a80f7a2-e121-4b19-e555-7c6244560855"
      },
      "execution_count": 56,
      "outputs": [
        {
          "output_type": "execute_result",
          "data": {
            "text/plain": [
              "0.7391304347826086"
            ]
          },
          "metadata": {},
          "execution_count": 56
        }
      ]
    },
    {
      "cell_type": "code",
      "source": [
        "precision_score(target_train, CV_model.predict(data_train))"
      ],
      "metadata": {
        "colab": {
          "base_uri": "https://localhost:8080/"
        },
        "id": "itaX8kIsWjHP",
        "outputId": "df4bebf8-8758-4108-dc7b-99db07f74c77"
      },
      "execution_count": 57,
      "outputs": [
        {
          "output_type": "execute_result",
          "data": {
            "text/plain": [
              "0.8870192307692307"
            ]
          },
          "metadata": {},
          "execution_count": 57
        }
      ]
    },
    {
      "cell_type": "code",
      "source": [
        "accuracy_score(target_test, CV_model.predict(data_test))"
      ],
      "metadata": {
        "colab": {
          "base_uri": "https://localhost:8080/"
        },
        "id": "By8n13VqWlDW",
        "outputId": "99ad41e7-44a3-4eac-ceae-92cbcaaee064"
      },
      "execution_count": 58,
      "outputs": [
        {
          "output_type": "execute_result",
          "data": {
            "text/plain": [
              "0.6521739130434783"
            ]
          },
          "metadata": {},
          "execution_count": 58
        }
      ]
    },
    {
      "cell_type": "code",
      "source": [
        "accuracy_score(target_train, CV_model.predict(data_train))"
      ],
      "metadata": {
        "colab": {
          "base_uri": "https://localhost:8080/"
        },
        "id": "JLNrfpvWWn_7",
        "outputId": "6e2de2a2-72f2-4228-eea9-d581a8b90108"
      },
      "execution_count": 59,
      "outputs": [
        {
          "output_type": "execute_result",
          "data": {
            "text/plain": [
              "0.8401937046004843"
            ]
          },
          "metadata": {},
          "execution_count": 59
        }
      ]
    },
    {
      "cell_type": "code",
      "source": [
        "target_train_predicted = CV_model.predict_proba(data_train)[:, 1]\n",
        "target_test_predicted = CV_model.predict_proba(data_test)[:, 1]\n",
        "\n",
        "train_auc = roc_auc_score(target_train, target_train_predicted)\n",
        "test_auc = roc_auc_score(target_test, target_test_predicted)\n",
        "\n",
        "plt.figure(figsize=(20,10))\n",
        "plt.plot(*roc_curve(target_train, target_train_predicted)[:2], label='train AUC={:.4f}'.format(train_auc))\n",
        "plt.plot(*roc_curve(target_test, target_test_predicted)[:2], label='test AUC={:.4f}'.format(test_auc))\n",
        "legend_box = plt.legend(fontsize='large', framealpha=1).get_frame()\n",
        "legend_box.set_facecolor(\"white\")\n",
        "legend_box.set_edgecolor(\"black\")\n",
        "plt.plot(np.linspace(0,1,100), np.linspace(0,1,100))\n",
        "plt.show()"
      ],
      "metadata": {
        "colab": {
          "base_uri": "https://localhost:8080/",
          "height": 54
        },
        "id": "SeKJQYQ0WtX6",
        "outputId": "f5f24c87-be8c-4ff1-a957-960062ad998f"
      },
      "execution_count": 60,
      "outputs": [
        {
          "output_type": "display_data",
          "data": {
            "text/plain": [
              "<Figure size 1440x720 with 1 Axes>"
            ],
            "image/png": "[encoded data removed]"
          },
          "metadata": {
            "needs_background": "light"
          }
        }
      ]
    },
    {
      "cell_type": "code",
      "source": [
        "with open('sklearn_nb.pkl', 'wb') as f:\n",
        "    pickle.dump(CV_model.best_estimator_, f)"
      ],
      "metadata": {
        "id": "g793yhjCgNlX"
      },
      "execution_count": 61,
      "outputs": []
    },
    {
      "cell_type": "markdown",
      "source": [
        "Как видно из результатов для моего NaiveBayes и NaiveBayes из коробки, эта модель хуже себя показала, по сравнению с LogisticRegression, что логично, так как далеко не все признаки имеют нормальное распределение (даже PowerTransformer не помог это исправить) + не все признаки независимы."
      ],
      "metadata": {
        "id": "iX8okrldgWoi"
      }
    },
    {
      "cell_type": "markdown",
      "source": [
        "## kNN"
      ],
      "metadata": {
        "id": "r-RnTgtgic18"
      }
    },
    {
      "cell_type": "markdown",
      "source": [
        "### Мой kNN"
      ],
      "metadata": {
        "id": "p1q37HofSl_g"
      }
    },
    {
      "cell_type": "code",
      "source": [
        "class MyKNN(BaseEstimator, ClassifierMixin):\n",
        "    \"\"\"\n",
        "    nn - число соседей\n",
        "    w - схема подсчета весов\n",
        "    \"\"\"\n",
        "    def __init__(self,  \n",
        "                 nn: int = 5,\n",
        "                 w: str = \"uniform\"):\n",
        "        self.nn = nn\n",
        "        self.w = w\n",
        "\n",
        "    def fit(self, X, y):\n",
        "         X, y = check_X_y(X, y)\n",
        "         self.X_ = X\n",
        "         self.y_ = y\n",
        "         self.unique_labels = np.unique(y)\n",
        "         return self\n",
        "\n",
        "    def get_pred(self, nearest):\n",
        "        preds = np.zeros(len(self.unique_labels))\n",
        "        for d, i in nearest:\n",
        "            if self.w == \"distance\":\n",
        "                preds[i] += 1.0 / (d + 1e-08)\n",
        "            else:\n",
        "                preds[i] += 1\n",
        "        return np.argmax(preds)\n",
        "\n",
        "    def predict(self, X):\n",
        "        check_is_fitted(self)\n",
        "        X = check_array(X)\n",
        "\n",
        "        preds = []\n",
        "        for obj in X:\n",
        "            dists = []\n",
        "            for i, obj_to_cmp in enumerate(self.X_):\n",
        "                dist = np.linalg.norm(obj - obj_to_cmp)\n",
        "                dists.append((dist, self.y_[i]))\n",
        "            dists.sort()\n",
        "            nearest = dists[: self.nn]\n",
        "            preds.append(self.get_pred(nearest))\n",
        "\n",
        "        return np.array(preds, dtype=int)"
      ],
      "metadata": {
        "id": "YpbLNHGmSpcB"
      },
      "execution_count": 115,
      "outputs": []
    },
    {
      "cell_type": "code",
      "source": [
        "cv_num = 5\n",
        "logreg_prefix = 'myknn__'\n",
        "\n",
        "pipe = make_pipeline(\n",
        "    OneHotEncoder(handle_unknown=\"ignore\"),\n",
        "    DenseTransformer(),\n",
        "    PowerTransformer(standardize=True),\n",
        "    MyKNN()\n",
        ")\n",
        "\n",
        "param_grid = {\n",
        "    logreg_prefix + \"nn\": [3, 5, 7],\n",
        "    logreg_prefix + \"w\": [\"uniform\", \"distance\"]\n",
        "}\n",
        "CV_model = GridSearchCV(estimator=pipe,\n",
        "                        param_grid=param_grid,\n",
        "                        cv=cv_num,\n",
        "                        scoring=\"accuracy\",\n",
        "                        verbose=0,\n",
        "                        refit=True)"
      ],
      "metadata": {
        "id": "v20mELfmYJz_"
      },
      "execution_count": 116,
      "outputs": []
    },
    {
      "cell_type": "code",
      "source": [
        "CV_model.fit(data_train, target_train)"
      ],
      "metadata": {
        "colab": {
          "base_uri": "https://localhost:8080/"
        },
        "id": "Z-XJV3GcYezS",
        "outputId": "c1aa12d2-6a51-47d8-e396-d543743f8a1b"
      },
      "execution_count": 117,
      "outputs": [
        {
          "output_type": "execute_result",
          "data": {
            "text/plain": [
              "GridSearchCV(cv=5,\n",
              "             estimator=Pipeline(steps=[('onehotencoder',\n",
              "                                        OneHotEncoder(handle_unknown='ignore')),\n",
              "                                       ('densetransformer',\n",
              "                                        <__main__.DenseTransformer object at 0x7f829280ed50>),\n",
              "                                       ('powertransformer', PowerTransformer()),\n",
              "                                       ('myknn', MyKNN())]),\n",
              "             param_grid={'myknn__nn': [3, 5, 7],\n",
              "                         'myknn__w': ['uniform', 'distance']},\n",
              "             scoring='accuracy')"
            ]
          },
          "metadata": {},
          "execution_count": 117
        }
      ]
    },
    {
      "cell_type": "code",
      "source": [
        "CV_model.best_params_"
      ],
      "metadata": {
        "colab": {
          "base_uri": "https://localhost:8080/"
        },
        "id": "qQ0tOvVHYh0w",
        "outputId": "ec52d222-2348-4557-ddb8-003427ca7653"
      },
      "execution_count": 118,
      "outputs": [
        {
          "output_type": "execute_result",
          "data": {
            "text/plain": [
              "{'myknn__nn': 5, 'myknn__w': 'distance'}"
            ]
          },
          "metadata": {},
          "execution_count": 118
        }
      ]
    },
    {
      "cell_type": "code",
      "source": [
        "plot_confusion_matrix(CV_model, data_train, target_train) "
      ],
      "metadata": {
        "colab": {
          "base_uri": "https://localhost:8080/",
          "height": 350
        },
        "id": "uxQtD8XOYrui",
        "outputId": "315b81fc-b0fa-4d21-9680-f267164f36ef"
      },
      "execution_count": 119,
      "outputs": [
        {
          "output_type": "stream",
          "name": "stderr",
          "text": [
            "/usr/local/lib/python3.7/dist-packages/sklearn/utils/deprecation.py:87: FutureWarning: Function plot_confusion_matrix is deprecated; Function `plot_confusion_matrix` is deprecated in 1.0 and will be removed in 1.2. Use one of the class methods: ConfusionMatrixDisplay.from_predictions or ConfusionMatrixDisplay.from_estimator.\n",
            "  warnings.warn(msg, category=FutureWarning)\n"
          ]
        },
        {
          "output_type": "execute_result",
          "data": {
            "text/plain": [
              "<sklearn.metrics._plot.confusion_matrix.ConfusionMatrixDisplay at 0x7f82928d0dd0>"
            ]
          },
          "metadata": {},
          "execution_count": 119
        },
        {
          "output_type": "display_data",
          "data": {
            "text/plain": [
              "<Figure size 432x288 with 2 Axes>"
            ],
            "image/png": "[encoded data removed]"
          },
          "metadata": {
            "needs_background": "light"
          }
        }
      ]
    },
    {
      "cell_type": "code",
      "source": [
        "plot_confusion_matrix(CV_model, data_test, target_test) "
      ],
      "metadata": {
        "colab": {
          "base_uri": "https://localhost:8080/",
          "height": 350
        },
        "id": "BXA8xWx0YsUH",
        "outputId": "0f024922-cd89-414f-d455-ad4a912221c6"
      },
      "execution_count": 120,
      "outputs": [
        {
          "output_type": "stream",
          "name": "stderr",
          "text": [
            "/usr/local/lib/python3.7/dist-packages/sklearn/utils/deprecation.py:87: FutureWarning: Function plot_confusion_matrix is deprecated; Function `plot_confusion_matrix` is deprecated in 1.0 and will be removed in 1.2. Use one of the class methods: ConfusionMatrixDisplay.from_predictions or ConfusionMatrixDisplay.from_estimator.\n",
            "  warnings.warn(msg, category=FutureWarning)\n"
          ]
        },
        {
          "output_type": "execute_result",
          "data": {
            "text/plain": [
              "<sklearn.metrics._plot.confusion_matrix.ConfusionMatrixDisplay at 0x7f82928faad0>"
            ]
          },
          "metadata": {},
          "execution_count": 120
        },
        {
          "output_type": "display_data",
          "data": {
            "text/plain": [
              "<Figure size 432x288 with 2 Axes>"
            ],
            "image/png": "[encoded data removed]"
          },
          "metadata": {
            "needs_background": "light"
          }
        }
      ]
    },
    {
      "cell_type": "code",
      "source": [
        "recall_score(target_test, CV_model.predict(data_test))"
      ],
      "metadata": {
        "colab": {
          "base_uri": "https://localhost:8080/"
        },
        "id": "T80KDAtgYvFV",
        "outputId": "62569773-38e4-4101-e0aa-32df9860a6d9"
      },
      "execution_count": 121,
      "outputs": [
        {
          "output_type": "execute_result",
          "data": {
            "text/plain": [
              "0.8888888888888888"
            ]
          },
          "metadata": {},
          "execution_count": 121
        }
      ]
    },
    {
      "cell_type": "code",
      "source": [
        "recall_score(target_train, CV_model.predict(data_train))"
      ],
      "metadata": {
        "colab": {
          "base_uri": "https://localhost:8080/"
        },
        "id": "Yr1RKWKYYzx4",
        "outputId": "5552621f-5491-40b3-9f67-2ac3b70f940c"
      },
      "execution_count": 122,
      "outputs": [
        {
          "output_type": "execute_result",
          "data": {
            "text/plain": [
              "1.0"
            ]
          },
          "metadata": {},
          "execution_count": 122
        }
      ]
    },
    {
      "cell_type": "code",
      "source": [
        "precision_score(target_test, CV_model.predict(data_test))"
      ],
      "metadata": {
        "colab": {
          "base_uri": "https://localhost:8080/"
        },
        "id": "0JXTqQ1xY0sd",
        "outputId": "19ad5e59-4a8f-40f6-a1fa-165550f72ce7"
      },
      "execution_count": 123,
      "outputs": [
        {
          "output_type": "execute_result",
          "data": {
            "text/plain": [
              "0.676056338028169"
            ]
          },
          "metadata": {},
          "execution_count": 123
        }
      ]
    },
    {
      "cell_type": "code",
      "source": [
        "precision_score(target_train, CV_model.predict(data_train))"
      ],
      "metadata": {
        "colab": {
          "base_uri": "https://localhost:8080/"
        },
        "id": "XXijJXpxY3Jy",
        "outputId": "f3ff25a4-ed04-4167-dfb0-c12fd9a51c5c"
      },
      "execution_count": 124,
      "outputs": [
        {
          "output_type": "execute_result",
          "data": {
            "text/plain": [
              "1.0"
            ]
          },
          "metadata": {},
          "execution_count": 124
        }
      ]
    },
    {
      "cell_type": "code",
      "source": [
        "accuracy_score(target_test, CV_model.predict(data_test))"
      ],
      "metadata": {
        "colab": {
          "base_uri": "https://localhost:8080/"
        },
        "id": "yxG2W6L9Y521",
        "outputId": "ff47252b-dfd0-402e-d57a-6f6851ad2de4"
      },
      "execution_count": 125,
      "outputs": [
        {
          "output_type": "execute_result",
          "data": {
            "text/plain": [
              "0.6847826086956522"
            ]
          },
          "metadata": {},
          "execution_count": 125
        }
      ]
    },
    {
      "cell_type": "code",
      "source": [
        "accuracy_score(target_train, CV_model.predict(data_train))"
      ],
      "metadata": {
        "colab": {
          "base_uri": "https://localhost:8080/"
        },
        "id": "S6Edt-gsY8i0",
        "outputId": "34f26c3e-0574-4de3-f49a-a1e410894cde"
      },
      "execution_count": 126,
      "outputs": [
        {
          "output_type": "execute_result",
          "data": {
            "text/plain": [
              "1.0"
            ]
          },
          "metadata": {},
          "execution_count": 126
        }
      ]
    },
    {
      "cell_type": "code",
      "source": [
        "with open('my_knn.pkl', 'wb') as f:\n",
        "    pickle.dump(CV_model.best_estimator_, f)"
      ],
      "metadata": {
        "id": "23R-Eom3ZB7b"
      },
      "execution_count": 127,
      "outputs": []
    },
    {
      "cell_type": "markdown",
      "source": [
        "### kNN из коробки"
      ],
      "metadata": {
        "id": "R7U_PihdZIvt"
      }
    },
    {
      "cell_type": "code",
      "source": [
        "from sklearn.neighbors import KNeighborsClassifier"
      ],
      "metadata": {
        "id": "h4YWeE1nZ9Ce"
      },
      "execution_count": 128,
      "outputs": []
    },
    {
      "cell_type": "code",
      "source": [
        "cv_num = 5\n",
        "\n",
        "pipe = make_pipeline(\n",
        "    OneHotEncoder(handle_unknown=\"ignore\"),\n",
        "    DenseTransformer(),\n",
        "    PowerTransformer(standardize=True),\n",
        "    KNeighborsClassifier()\n",
        ")\n",
        "\n",
        "param_grid = {\n",
        "    \"kneighborsclassifier__n_neighbors\": [3, 5, 7],\n",
        "    \"kneighborsclassifier__weights\": [\"uniform\", \"distance\"]\n",
        "}\n",
        "CV_model = GridSearchCV(estimator=pipe,\n",
        "                        param_grid=param_grid,\n",
        "                        cv=cv_num,\n",
        "                        scoring=\"accuracy\",\n",
        "                        verbose=0,\n",
        "                        refit=True)"
      ],
      "metadata": {
        "id": "nXoZYDQEZLe7"
      },
      "execution_count": 129,
      "outputs": []
    },
    {
      "cell_type": "code",
      "source": [
        "CV_model.fit(data_train, target_train)"
      ],
      "metadata": {
        "colab": {
          "base_uri": "https://localhost:8080/"
        },
        "id": "Cc52DNZ0ZQ99",
        "outputId": "90660ccc-eed1-4a1e-b813-7ebfdb4b24de"
      },
      "execution_count": 130,
      "outputs": [
        {
          "output_type": "execute_result",
          "data": {
            "text/plain": [
              "GridSearchCV(cv=5,\n",
              "             estimator=Pipeline(steps=[('onehotencoder',\n",
              "                                        OneHotEncoder(handle_unknown='ignore')),\n",
              "                                       ('densetransformer',\n",
              "                                        <__main__.DenseTransformer object at 0x7f8292e07110>),\n",
              "                                       ('powertransformer', PowerTransformer()),\n",
              "                                       ('kneighborsclassifier',\n",
              "                                        KNeighborsClassifier())]),\n",
              "             param_grid={'kneighborsclassifier__n_neighbors': [3, 5, 7],\n",
              "                         'kneighborsclassifier__weights': ['uniform',\n",
              "                                                           'distance']},\n",
              "             scoring='accuracy')"
            ]
          },
          "metadata": {},
          "execution_count": 130
        }
      ]
    },
    {
      "cell_type": "code",
      "source": [
        "CV_model.best_params_"
      ],
      "metadata": {
        "colab": {
          "base_uri": "https://localhost:8080/"
        },
        "id": "lSo2BOgoZVqb",
        "outputId": "e230d62c-108c-434f-bbda-44350c71d7a1"
      },
      "execution_count": 131,
      "outputs": [
        {
          "output_type": "execute_result",
          "data": {
            "text/plain": [
              "{'kneighborsclassifier__n_neighbors': 5,\n",
              " 'kneighborsclassifier__weights': 'distance'}"
            ]
          },
          "metadata": {},
          "execution_count": 131
        }
      ]
    },
    {
      "cell_type": "code",
      "source": [
        "plot_confusion_matrix(CV_model, data_test, target_test) "
      ],
      "metadata": {
        "colab": {
          "base_uri": "https://localhost:8080/",
          "height": 350
        },
        "id": "cy3ZPW49ZWWN",
        "outputId": "312bfd6b-4bb0-49fe-80d4-c3b465193473"
      },
      "execution_count": 132,
      "outputs": [
        {
          "output_type": "stream",
          "name": "stderr",
          "text": [
            "/usr/local/lib/python3.7/dist-packages/sklearn/utils/deprecation.py:87: FutureWarning: Function plot_confusion_matrix is deprecated; Function `plot_confusion_matrix` is deprecated in 1.0 and will be removed in 1.2. Use one of the class methods: ConfusionMatrixDisplay.from_predictions or ConfusionMatrixDisplay.from_estimator.\n",
            "  warnings.warn(msg, category=FutureWarning)\n"
          ]
        },
        {
          "output_type": "execute_result",
          "data": {
            "text/plain": [
              "<sklearn.metrics._plot.confusion_matrix.ConfusionMatrixDisplay at 0x7f829288ce90>"
            ]
          },
          "metadata": {},
          "execution_count": 132
        },
        {
          "output_type": "display_data",
          "data": {
            "text/plain": [
              "<Figure size 432x288 with 2 Axes>"
            ],
            "image/png": "[encoded data removed]"
          },
          "metadata": {
            "needs_background": "light"
          }
        }
      ]
    },
    {
      "cell_type": "code",
      "source": [
        "plot_confusion_matrix(CV_model, data_train, target_train) "
      ],
      "metadata": {
        "colab": {
          "base_uri": "https://localhost:8080/",
          "height": 350
        },
        "id": "fjESTBHiZZW9",
        "outputId": "0f9a846d-884d-42f8-e666-f03ab394c67a"
      },
      "execution_count": 133,
      "outputs": [
        {
          "output_type": "stream",
          "name": "stderr",
          "text": [
            "/usr/local/lib/python3.7/dist-packages/sklearn/utils/deprecation.py:87: FutureWarning: Function plot_confusion_matrix is deprecated; Function `plot_confusion_matrix` is deprecated in 1.0 and will be removed in 1.2. Use one of the class methods: ConfusionMatrixDisplay.from_predictions or ConfusionMatrixDisplay.from_estimator.\n",
            "  warnings.warn(msg, category=FutureWarning)\n"
          ]
        },
        {
          "output_type": "execute_result",
          "data": {
            "text/plain": [
              "<sklearn.metrics._plot.confusion_matrix.ConfusionMatrixDisplay at 0x7f8292a7a410>"
            ]
          },
          "metadata": {},
          "execution_count": 133
        },
        {
          "output_type": "display_data",
          "data": {
            "text/plain": [
              "<Figure size 432x288 with 2 Axes>"
            ],
            "image/png": "[encoded data removed]"
          },
          "metadata": {
            "needs_background": "light"
          }
        }
      ]
    },
    {
      "cell_type": "code",
      "source": [
        "recall_score(target_test, CV_model.predict(data_test))"
      ],
      "metadata": {
        "colab": {
          "base_uri": "https://localhost:8080/"
        },
        "id": "Upl1_zllZcCh",
        "outputId": "cd97a3a1-73cf-4f65-f8e6-5c1de5b08d2b"
      },
      "execution_count": 134,
      "outputs": [
        {
          "output_type": "execute_result",
          "data": {
            "text/plain": [
              "0.8888888888888888"
            ]
          },
          "metadata": {},
          "execution_count": 134
        }
      ]
    },
    {
      "cell_type": "code",
      "source": [
        "recall_score(target_train, CV_model.predict(data_train))"
      ],
      "metadata": {
        "colab": {
          "base_uri": "https://localhost:8080/"
        },
        "id": "FpQtTJb0ZkAP",
        "outputId": "41dccb5d-9f36-4d67-a31a-6eb1d4664b1a"
      },
      "execution_count": 135,
      "outputs": [
        {
          "output_type": "execute_result",
          "data": {
            "text/plain": [
              "1.0"
            ]
          },
          "metadata": {},
          "execution_count": 135
        }
      ]
    },
    {
      "cell_type": "code",
      "source": [
        "precision_score(target_test, CV_model.predict(data_test))"
      ],
      "metadata": {
        "colab": {
          "base_uri": "https://localhost:8080/"
        },
        "id": "S-rbCsU_Zkmn",
        "outputId": "1d2d2fec-bc6f-438a-b7e5-95ef86e486e0"
      },
      "execution_count": 136,
      "outputs": [
        {
          "output_type": "execute_result",
          "data": {
            "text/plain": [
              "0.676056338028169"
            ]
          },
          "metadata": {},
          "execution_count": 136
        }
      ]
    },
    {
      "cell_type": "code",
      "source": [
        "precision_score(target_train, CV_model.predict(data_train))"
      ],
      "metadata": {
        "colab": {
          "base_uri": "https://localhost:8080/"
        },
        "id": "cqKBqODOZmvh",
        "outputId": "d92f7e8f-2c0c-46c6-a919-1de000dd8eb1"
      },
      "execution_count": 137,
      "outputs": [
        {
          "output_type": "execute_result",
          "data": {
            "text/plain": [
              "1.0"
            ]
          },
          "metadata": {},
          "execution_count": 137
        }
      ]
    },
    {
      "cell_type": "code",
      "source": [
        "accuracy_score(target_test, CV_model.predict(data_test))"
      ],
      "metadata": {
        "colab": {
          "base_uri": "https://localhost:8080/"
        },
        "id": "vAxGI92zZp1s",
        "outputId": "48c66b53-3d2e-4e0a-8d89-75a2055ec96e"
      },
      "execution_count": 138,
      "outputs": [
        {
          "output_type": "execute_result",
          "data": {
            "text/plain": [
              "0.6847826086956522"
            ]
          },
          "metadata": {},
          "execution_count": 138
        }
      ]
    },
    {
      "cell_type": "code",
      "source": [
        "accuracy_score(target_train, CV_model.predict(data_train))"
      ],
      "metadata": {
        "colab": {
          "base_uri": "https://localhost:8080/"
        },
        "id": "KMW8QhXEZsEv",
        "outputId": "1f3f2d8e-1b66-4da9-bd2f-c913296e1ade"
      },
      "execution_count": 139,
      "outputs": [
        {
          "output_type": "execute_result",
          "data": {
            "text/plain": [
              "1.0"
            ]
          },
          "metadata": {},
          "execution_count": 139
        }
      ]
    },
    {
      "cell_type": "code",
      "source": [
        "target_train_predicted = CV_model.predict_proba(data_train)[:, 1]\n",
        "target_test_predicted = CV_model.predict_proba(data_test)[:, 1]\n",
        "\n",
        "train_auc = roc_auc_score(target_train, target_train_predicted)\n",
        "test_auc = roc_auc_score(target_test, target_test_predicted)\n",
        "\n",
        "plt.figure(figsize=(20,10))\n",
        "plt.plot(*roc_curve(target_train, target_train_predicted)[:2], label='train AUC={:.4f}'.format(train_auc))\n",
        "plt.plot(*roc_curve(target_test, target_test_predicted)[:2], label='test AUC={:.4f}'.format(test_auc))\n",
        "legend_box = plt.legend(fontsize='large', framealpha=1).get_frame()\n",
        "legend_box.set_facecolor(\"white\")\n",
        "legend_box.set_edgecolor(\"black\")\n",
        "plt.plot(np.linspace(0,1,100), np.linspace(0,1,100))\n",
        "plt.show()"
      ],
      "metadata": {
        "colab": {
          "base_uri": "https://localhost:8080/",
          "height": 592
        },
        "id": "_im2DQPqZumk",
        "outputId": "e42b184a-be67-4a9f-a0bb-ca2a532a3d67"
      },
      "execution_count": 140,
      "outputs": [
        {
          "output_type": "display_data",
          "data": {
            "text/plain": [
              "<Figure size 1440x720 with 1 Axes>"
            ],
            "image/png": "[encoded data removed]"
          },
          "metadata": {
            "needs_background": "light"
          }
        }
      ]
    },
    {
      "cell_type": "code",
      "source": [
        "with open('sklearn_knn.pkl', 'wb') as f:\n",
        "    pickle.dump(CV_model.best_estimator_, f)"
      ],
      "metadata": {
        "id": "a8jlB7NDZ1Kj"
      },
      "execution_count": 141,
      "outputs": []
    },
    {
      "cell_type": "markdown",
      "source": [
        "## SVM"
      ],
      "metadata": {
        "id": "Rww8-3v3a55X"
      }
    },
    {
      "cell_type": "markdown",
      "source": [
        "### Мой SVM"
      ],
      "metadata": {
        "id": "G9tb-KIPa86v"
      }
    },
    {
      "cell_type": "code",
      "source": [
        "class MySVM(BaseEstimator, ClassifierMixin):\n",
        "    \"\"\"\n",
        "    lr - learning rate\n",
        "    C - обратный коэф регуляризации (чем меньше C, тем больше штраф)\n",
        "    kernel - ядро svm\n",
        "    \"\"\"\n",
        "    def __init__(self,  \n",
        "                 lr: float = 1e-3,\n",
        "                 C: float = 1.0,\n",
        "                 max_iter: int = 100):\n",
        "        self.C = C\n",
        "        self.lr = lr\n",
        "        self.max_iter = max_iter\n",
        "\n",
        "    def fit(self, X, y):\n",
        "        X, y = check_X_y(X, y)\n",
        "        self.X_ = X\n",
        "        self.y_ = y\n",
        "        self.labels = np.where(y == 0, -1, 1)\n",
        "\n",
        "        w = np.random.normal(size=(self.X_.shape[1], ))\n",
        "        b = 0.0\n",
        "\n",
        "        for _ in range(self.max_iter):\n",
        "            for i, obj in enumerate(self.X_):\n",
        "                if self.labels[i] * (obj @ w + b) >= 1:\n",
        "                    dw = w / self.C\n",
        "                    db = 0\n",
        "                else:\n",
        "                    dw = w / self.C - self.labels[i] * obj\n",
        "                    db = -self.labels[i]\n",
        "                w -= self.lr * dw\n",
        "                b -= self.lr * db\n",
        "\n",
        "        self.w = w\n",
        "        self.b = b\n",
        "        return self\n",
        "\n",
        "    def predict(self, X):\n",
        "        return np.where(np.sign(np.dot(X, self.w) + self.b) == -1, 0, 1)"
      ],
      "metadata": {
        "id": "04N7C5qpdE5W"
      },
      "execution_count": 214,
      "outputs": []
    },
    {
      "cell_type": "code",
      "source": [
        "cv_num = 5\n",
        "logreg_prefix = 'mysvm__'\n",
        "\n",
        "pipe = make_pipeline(\n",
        "    OneHotEncoder(handle_unknown=\"ignore\"),\n",
        "    DenseTransformer(),\n",
        "    PowerTransformer(standardize=True),\n",
        "    MySVM()\n",
        ")\n",
        "\n",
        "param_grid = {\n",
        "    logreg_prefix + \"lr\": [1e-04, 1e-03, 1e-02],\n",
        "    logreg_prefix + \"C\": [1e-1, 1.0, 10.0]\n",
        "}\n",
        "CV_model = GridSearchCV(estimator=pipe,\n",
        "                        param_grid=param_grid,\n",
        "                        cv=cv_num,\n",
        "                        scoring=\"accuracy\",\n",
        "                        verbose=0,\n",
        "                        refit=True)"
      ],
      "metadata": {
        "id": "DOLBhhYy6DuS"
      },
      "execution_count": 215,
      "outputs": []
    },
    {
      "cell_type": "code",
      "source": [
        "CV_model.fit(data_train, target_train)"
      ],
      "metadata": {
        "colab": {
          "base_uri": "https://localhost:8080/"
        },
        "id": "kCMHSTEe6X-t",
        "outputId": "cdf0c84c-1b20-4a2e-da73-9be55ee6d538"
      },
      "execution_count": 216,
      "outputs": [
        {
          "output_type": "execute_result",
          "data": {
            "text/plain": [
              "GridSearchCV(cv=5,\n",
              "             estimator=Pipeline(steps=[('onehotencoder',\n",
              "                                        OneHotEncoder(handle_unknown='ignore')),\n",
              "                                       ('densetransformer',\n",
              "                                        <__main__.DenseTransformer object at 0x7f8291eeff50>),\n",
              "                                       ('powertransformer', PowerTransformer()),\n",
              "                                       ('mysvm', MySVM())]),\n",
              "             param_grid={'mysvm__C': [0.1, 1.0, 10.0],\n",
              "                         'mysvm__lr': [0.0001, 0.001, 0.01]},\n",
              "             scoring='accuracy')"
            ]
          },
          "metadata": {},
          "execution_count": 216
        }
      ]
    },
    {
      "cell_type": "code",
      "source": [
        "CV_model.best_params_"
      ],
      "metadata": {
        "colab": {
          "base_uri": "https://localhost:8080/"
        },
        "id": "OVbGgWeK6eeG",
        "outputId": "0f9a3dab-c51b-4a66-a237-9216426dd462"
      },
      "execution_count": 217,
      "outputs": [
        {
          "output_type": "execute_result",
          "data": {
            "text/plain": [
              "{'mysvm__C': 1.0, 'mysvm__lr': 0.0001}"
            ]
          },
          "metadata": {},
          "execution_count": 217
        }
      ]
    },
    {
      "cell_type": "code",
      "source": [
        "plot_confusion_matrix(CV_model, data_train, target_train) "
      ],
      "metadata": {
        "colab": {
          "base_uri": "https://localhost:8080/",
          "height": 350
        },
        "id": "yKCuzEbw6ljt",
        "outputId": "a67e502a-f42e-40ae-8b43-f237478d85cd"
      },
      "execution_count": 218,
      "outputs": [
        {
          "output_type": "stream",
          "name": "stderr",
          "text": [
            "/usr/local/lib/python3.7/dist-packages/sklearn/utils/deprecation.py:87: FutureWarning: Function plot_confusion_matrix is deprecated; Function `plot_confusion_matrix` is deprecated in 1.0 and will be removed in 1.2. Use one of the class methods: ConfusionMatrixDisplay.from_predictions or ConfusionMatrixDisplay.from_estimator.\n",
            "  warnings.warn(msg, category=FutureWarning)\n"
          ]
        },
        {
          "output_type": "execute_result",
          "data": {
            "text/plain": [
              "<sklearn.metrics._plot.confusion_matrix.ConfusionMatrixDisplay at 0x7f8291ecf0d0>"
            ]
          },
          "metadata": {},
          "execution_count": 218
        },
        {
          "output_type": "display_data",
          "data": {
            "text/plain": [
              "<Figure size 432x288 with 2 Axes>"
            ],
            "image/png": "[encoded data removed]"
          },
          "metadata": {
            "needs_background": "light"
          }
        }
      ]
    },
    {
      "cell_type": "code",
      "source": [
        "plot_confusion_matrix(CV_model, data_test, target_test) "
      ],
      "metadata": {
        "colab": {
          "base_uri": "https://localhost:8080/",
          "height": 350
        },
        "id": "bf7GV5iC6oMt",
        "outputId": "a234abce-d8c1-445f-8b52-d8d8820b8e63"
      },
      "execution_count": 219,
      "outputs": [
        {
          "output_type": "stream",
          "name": "stderr",
          "text": [
            "/usr/local/lib/python3.7/dist-packages/sklearn/utils/deprecation.py:87: FutureWarning: Function plot_confusion_matrix is deprecated; Function `plot_confusion_matrix` is deprecated in 1.0 and will be removed in 1.2. Use one of the class methods: ConfusionMatrixDisplay.from_predictions or ConfusionMatrixDisplay.from_estimator.\n",
            "  warnings.warn(msg, category=FutureWarning)\n"
          ]
        },
        {
          "output_type": "execute_result",
          "data": {
            "text/plain": [
              "<sklearn.metrics._plot.confusion_matrix.ConfusionMatrixDisplay at 0x7f8291fa5950>"
            ]
          },
          "metadata": {},
          "execution_count": 219
        },
        {
          "output_type": "display_data",
          "data": {
            "text/plain": [
              "<Figure size 432x288 with 2 Axes>"
            ],
            "image/png": "[encoded data removed]"
          },
          "metadata": {
            "needs_background": "light"
          }
        }
      ]
    },
    {
      "cell_type": "code",
      "source": [
        "recall_score(target_test, CV_model.predict(data_test))"
      ],
      "metadata": {
        "colab": {
          "base_uri": "https://localhost:8080/"
        },
        "id": "gY5HvGU_6qsM",
        "outputId": "87d263df-d818-490a-cd63-793739d4727d"
      },
      "execution_count": 220,
      "outputs": [
        {
          "output_type": "execute_result",
          "data": {
            "text/plain": [
              "0.8703703703703703"
            ]
          },
          "metadata": {},
          "execution_count": 220
        }
      ]
    },
    {
      "cell_type": "code",
      "source": [
        "recall_score(target_train, CV_model.predict(data_train))"
      ],
      "metadata": {
        "colab": {
          "base_uri": "https://localhost:8080/"
        },
        "id": "iBuUh99h6s73",
        "outputId": "43d7e851-9704-48e9-81b8-280db1e879e8"
      },
      "execution_count": 221,
      "outputs": [
        {
          "output_type": "execute_result",
          "data": {
            "text/plain": [
              "0.9493392070484582"
            ]
          },
          "metadata": {},
          "execution_count": 221
        }
      ]
    },
    {
      "cell_type": "code",
      "source": [
        "precision_score(target_test, CV_model.predict(data_test))"
      ],
      "metadata": {
        "colab": {
          "base_uri": "https://localhost:8080/"
        },
        "id": "V5D3sEkh6vYx",
        "outputId": "5064363c-ad42-4522-e421-f7c728fd30b7"
      },
      "execution_count": 222,
      "outputs": [
        {
          "output_type": "execute_result",
          "data": {
            "text/plain": [
              "0.8545454545454545"
            ]
          },
          "metadata": {},
          "execution_count": 222
        }
      ]
    },
    {
      "cell_type": "code",
      "source": [
        "precision_score(target_train, CV_model.predict(data_train))"
      ],
      "metadata": {
        "colab": {
          "base_uri": "https://localhost:8080/"
        },
        "id": "eZC7Uwjz6xjF",
        "outputId": "6aada2cf-4b34-4213-fac4-2f37f4cc3aa5"
      },
      "execution_count": 223,
      "outputs": [
        {
          "output_type": "execute_result",
          "data": {
            "text/plain": [
              "0.9170212765957447"
            ]
          },
          "metadata": {},
          "execution_count": 223
        }
      ]
    },
    {
      "cell_type": "code",
      "source": [
        "accuracy_score(target_test, CV_model.predict(data_test))"
      ],
      "metadata": {
        "colab": {
          "base_uri": "https://localhost:8080/"
        },
        "id": "xQ6glSOL6ztD",
        "outputId": "9701ca4d-29b2-4544-d070-e92879022be4"
      },
      "execution_count": 224,
      "outputs": [
        {
          "output_type": "execute_result",
          "data": {
            "text/plain": [
              "0.8369565217391305"
            ]
          },
          "metadata": {},
          "execution_count": 224
        }
      ]
    },
    {
      "cell_type": "code",
      "source": [
        "accuracy_score(target_train, CV_model.predict(data_train))"
      ],
      "metadata": {
        "colab": {
          "base_uri": "https://localhost:8080/"
        },
        "id": "vx3T4mhe617x",
        "outputId": "799dcfe5-a129-47b3-af57-363302434022"
      },
      "execution_count": 225,
      "outputs": [
        {
          "output_type": "execute_result",
          "data": {
            "text/plain": [
              "0.9249394673123487"
            ]
          },
          "metadata": {},
          "execution_count": 225
        }
      ]
    },
    {
      "cell_type": "code",
      "source": [
        "with open('my_svm.pkl', 'wb') as f:\n",
        "    pickle.dump(CV_model.best_estimator_, f)"
      ],
      "metadata": {
        "id": "4kDEN8Nr64s4"
      },
      "execution_count": 226,
      "outputs": []
    },
    {
      "cell_type": "markdown",
      "source": [
        "### SVM из коробки"
      ],
      "metadata": {
        "id": "Zc33kZ7YbAQe"
      }
    },
    {
      "cell_type": "code",
      "source": [
        "from sklearn.svm import SVC"
      ],
      "metadata": {
        "id": "2_vrYS3Mb2Uw"
      },
      "execution_count": 174,
      "outputs": []
    },
    {
      "cell_type": "code",
      "source": [
        "cv_num = 5\n",
        "\n",
        "pipe = make_pipeline(\n",
        "    OneHotEncoder(handle_unknown=\"ignore\"),\n",
        "    DenseTransformer(),\n",
        "    PowerTransformer(standardize=True),\n",
        "    SVC()\n",
        ")\n",
        "\n",
        "param_grid = {\n",
        "    \"svc__C\": [0.02, 0.1, 0.5],\n",
        "    \"svc__kernel\": [\"linear\", \"poly\", \"rbf\"],\n",
        "    \"svc__tol\": [1e-2, 5e-2]\n",
        "}\n",
        "CV_model = GridSearchCV(estimator=pipe,\n",
        "                        param_grid=param_grid,\n",
        "                        cv=cv_num,\n",
        "                        scoring=\"accuracy\",\n",
        "                        verbose=0,\n",
        "                        refit=True)"
      ],
      "metadata": {
        "id": "D8RC9lVFbDfo"
      },
      "execution_count": 175,
      "outputs": []
    },
    {
      "cell_type": "code",
      "source": [
        "CV_model.fit(data_train, target_train)"
      ],
      "metadata": {
        "colab": {
          "base_uri": "https://localhost:8080/"
        },
        "id": "YnIo6e0rbHby",
        "outputId": "7b4d9a9f-a66f-480e-f826-b991def3b90b"
      },
      "execution_count": 176,
      "outputs": [
        {
          "output_type": "execute_result",
          "data": {
            "text/plain": [
              "GridSearchCV(cv=5,\n",
              "             estimator=Pipeline(steps=[('onehotencoder',\n",
              "                                        OneHotEncoder(handle_unknown='ignore')),\n",
              "                                       ('densetransformer',\n",
              "                                        <__main__.DenseTransformer object at 0x7f82922f7250>),\n",
              "                                       ('powertransformer', PowerTransformer()),\n",
              "                                       ('svc', SVC())]),\n",
              "             param_grid={'svc__C': [0.02, 0.1, 0.5],\n",
              "                         'svc__kernel': ['linear', 'poly', 'rbf'],\n",
              "                         'svc__tol': [0.01, 0.05]},\n",
              "             scoring='accuracy')"
            ]
          },
          "metadata": {},
          "execution_count": 176
        }
      ]
    },
    {
      "cell_type": "code",
      "source": [
        "CV_model.best_params_"
      ],
      "metadata": {
        "colab": {
          "base_uri": "https://localhost:8080/"
        },
        "id": "7xNBmbj8bLYr",
        "outputId": "2b723853-4841-4073-c91e-30be38b17021"
      },
      "execution_count": 177,
      "outputs": [
        {
          "output_type": "execute_result",
          "data": {
            "text/plain": [
              "{'svc__C': 0.5, 'svc__kernel': 'rbf', 'svc__tol': 0.01}"
            ]
          },
          "metadata": {},
          "execution_count": 177
        }
      ]
    },
    {
      "cell_type": "code",
      "source": [
        "plot_confusion_matrix(CV_model, data_test, target_test) "
      ],
      "metadata": {
        "colab": {
          "base_uri": "https://localhost:8080/",
          "height": 350
        },
        "id": "IVjCVM75bNmH",
        "outputId": "12219803-3c2f-45fa-c6a7-0efaf9b9c741"
      },
      "execution_count": 178,
      "outputs": [
        {
          "output_type": "stream",
          "name": "stderr",
          "text": [
            "/usr/local/lib/python3.7/dist-packages/sklearn/utils/deprecation.py:87: FutureWarning: Function plot_confusion_matrix is deprecated; Function `plot_confusion_matrix` is deprecated in 1.0 and will be removed in 1.2. Use one of the class methods: ConfusionMatrixDisplay.from_predictions or ConfusionMatrixDisplay.from_estimator.\n",
            "  warnings.warn(msg, category=FutureWarning)\n"
          ]
        },
        {
          "output_type": "execute_result",
          "data": {
            "text/plain": [
              "<sklearn.metrics._plot.confusion_matrix.ConfusionMatrixDisplay at 0x7f8292444850>"
            ]
          },
          "metadata": {},
          "execution_count": 178
        },
        {
          "output_type": "display_data",
          "data": {
            "text/plain": [
              "<Figure size 432x288 with 2 Axes>"
            ],
            "image/png": "[encoded data removed]"
          },
          "metadata": {
            "needs_background": "light"
          }
        }
      ]
    },
    {
      "cell_type": "code",
      "source": [
        "plot_confusion_matrix(CV_model, data_train, target_train) "
      ],
      "metadata": {
        "colab": {
          "base_uri": "https://localhost:8080/",
          "height": 350
        },
        "id": "k-SNuXiybP6Q",
        "outputId": "48103da1-1b8f-4eee-cd41-b45d705ea7e9"
      },
      "execution_count": 179,
      "outputs": [
        {
          "output_type": "stream",
          "name": "stderr",
          "text": [
            "/usr/local/lib/python3.7/dist-packages/sklearn/utils/deprecation.py:87: FutureWarning: Function plot_confusion_matrix is deprecated; Function `plot_confusion_matrix` is deprecated in 1.0 and will be removed in 1.2. Use one of the class methods: ConfusionMatrixDisplay.from_predictions or ConfusionMatrixDisplay.from_estimator.\n",
            "  warnings.warn(msg, category=FutureWarning)\n"
          ]
        },
        {
          "output_type": "execute_result",
          "data": {
            "text/plain": [
              "<sklearn.metrics._plot.confusion_matrix.ConfusionMatrixDisplay at 0x7f82924cfcd0>"
            ]
          },
          "metadata": {},
          "execution_count": 179
        },
        {
          "output_type": "display_data",
          "data": {
            "text/plain": [
              "<Figure size 432x288 with 2 Axes>"
            ],
            "image/png": "[encoded data removed]"
          },
          "metadata": {
            "needs_background": "light"
          }
        }
      ]
    },
    {
      "cell_type": "code",
      "source": [
        "recall_score(target_test, CV_model.predict(data_test))"
      ],
      "metadata": {
        "colab": {
          "base_uri": "https://localhost:8080/"
        },
        "id": "DrxpCYACbQzy",
        "outputId": "abdc448b-e355-4b45-8e41-c964f228f33c"
      },
      "execution_count": 180,
      "outputs": [
        {
          "output_type": "execute_result",
          "data": {
            "text/plain": [
              "0.8888888888888888"
            ]
          },
          "metadata": {},
          "execution_count": 180
        }
      ]
    },
    {
      "cell_type": "code",
      "source": [
        "recall_score(target_train, CV_model.predict(data_train))"
      ],
      "metadata": {
        "colab": {
          "base_uri": "https://localhost:8080/"
        },
        "id": "GHavO1-RbkQ_",
        "outputId": "ac9632a4-e9d0-468f-c544-48f2221ca7a7"
      },
      "execution_count": 181,
      "outputs": [
        {
          "output_type": "execute_result",
          "data": {
            "text/plain": [
              "0.9845814977973568"
            ]
          },
          "metadata": {},
          "execution_count": 181
        }
      ]
    },
    {
      "cell_type": "code",
      "source": [
        "precision_score(target_test, CV_model.predict(data_test))"
      ],
      "metadata": {
        "colab": {
          "base_uri": "https://localhost:8080/"
        },
        "id": "k0AaVHkrbo0H",
        "outputId": "29966ad6-c7e8-45f3-ae06-04ac21c5268f"
      },
      "execution_count": 182,
      "outputs": [
        {
          "output_type": "execute_result",
          "data": {
            "text/plain": [
              "0.8135593220338984"
            ]
          },
          "metadata": {},
          "execution_count": 182
        }
      ]
    },
    {
      "cell_type": "code",
      "source": [
        "precision_score(target_train, CV_model.predict(data_train))"
      ],
      "metadata": {
        "colab": {
          "base_uri": "https://localhost:8080/"
        },
        "id": "M_Uo1LyxbpXz",
        "outputId": "d200ef11-79ca-4db5-accc-c0d4aea67dca"
      },
      "execution_count": 183,
      "outputs": [
        {
          "output_type": "execute_result",
          "data": {
            "text/plain": [
              "0.9216494845360824"
            ]
          },
          "metadata": {},
          "execution_count": 183
        }
      ]
    },
    {
      "cell_type": "code",
      "source": [
        "accuracy_score(target_test, CV_model.predict(data_test))"
      ],
      "metadata": {
        "colab": {
          "base_uri": "https://localhost:8080/"
        },
        "id": "nyiUoHAebrk6",
        "outputId": "019d98d4-1f4f-4f66-e178-7908ab38ae6a"
      },
      "execution_count": 184,
      "outputs": [
        {
          "output_type": "execute_result",
          "data": {
            "text/plain": [
              "0.8152173913043478"
            ]
          },
          "metadata": {},
          "execution_count": 184
        }
      ]
    },
    {
      "cell_type": "code",
      "source": [
        "accuracy_score(target_train, CV_model.predict(data_train))"
      ],
      "metadata": {
        "colab": {
          "base_uri": "https://localhost:8080/"
        },
        "id": "oqMQcxITbtkA",
        "outputId": "de4db36d-0e7a-4001-fd4d-b19a0e01f557"
      },
      "execution_count": 185,
      "outputs": [
        {
          "output_type": "execute_result",
          "data": {
            "text/plain": [
              "0.9455205811138014"
            ]
          },
          "metadata": {},
          "execution_count": 185
        }
      ]
    },
    {
      "cell_type": "code",
      "source": [
        "with open('sklearn_svm.pkl', 'wb') as f:\n",
        "    pickle.dump(CV_model.best_estimator_, f)"
      ],
      "metadata": {
        "id": "T4jTzt9nbyKq"
      },
      "execution_count": 186,
      "outputs": []
    },
    {
      "cell_type": "markdown",
      "source": [
        "# Вывод"
      ],
      "metadata": {
        "id": "bGn8I7qlRXP_"
      }
    },
    {
      "cell_type": "markdown",
      "source": [
        "Как показали результаты, ручные реализации базовых классификаторов не сильно хуже тех, что есть в sklearn (а некоторые показали себя даже лучше). Линейные модели (логистическая регрессия и линейный SVM) на данном наборе показали себя хорошо. Нелинейный SVM показал себя тоже хорошо, но не сильно лучше линейных моделей. Хуже же всего себя показали kNN и Naive Bayes. kNN даже при небольшом числе соседей быстро переобучился, получив accuracy = 1 на тренировочной выборке, а Naive Bayes просто плохо подошел под задачу в силу своих допущений."
      ],
      "metadata": {
        "id": "0f0xhiWYRgnq"
      }
    }
  ]
}